{
  "nbformat": 4,
  "nbformat_minor": 0,
  "metadata": {
    "colab": {
      "name": "Deep Learning Assignment1.ipynb",
      "provenance": [],
      "collapsed_sections": [],
      "toc_visible": true
    },
    "kernelspec": {
      "display_name": "Python 3",
      "language": "python",
      "name": "python3"
    },
    "language_info": {
      "codemirror_mode": {
        "name": "ipython",
        "version": 3
      },
      "file_extension": ".py",
      "mimetype": "text/x-python",
      "name": "python",
      "nbconvert_exporter": "python",
      "pygments_lexer": "ipython3",
      "version": "3.8.3"
    }
  },
  "cells": [
    {
      "cell_type": "markdown",
      "metadata": {
        "id": "CGXgWugfJ0Vl"
      },
      "source": [
        "## Assignment 1\n",
        "\n",
        "**Submission deadlines:** \n",
        "- get at least **2** points by Tuesday, 9.03.2021\n",
        "- remaining points: last lab session before or on Tuesday, 16.03.2021\n",
        "\n",
        "**Points:** Aim to get 8 out of 12 possible points\n",
        "\n",
        "## Submission instructions\n",
        "The class is held remotely. To sumbmit your solutions please show the notebook over the video call. Make sure you know all the questions and asnwers, and that the notebook contains results (before presentation do `Runtime -> Restar and run all`)\n",
        "\n",
        "We provide starter code, however you are not required to use it as long as you properly solve the tasks.\n",
        "\n",
        "As always, please submit corrections using GitHub's Pull Requests to https://github.com/janchorowski/dl_uwr."
      ]
    },
    {
      "cell_type": "markdown",
      "metadata": {
        "id": "5S8iRaCPyO2a"
      },
      "source": [
        "# Task description\r\n",
        "\r\n",
        "## TLDR\r\n",
        "Implement and train a neural network using pure numpy."
      ]
    },
    {
      "cell_type": "markdown",
      "metadata": {
        "id": "JHcz7I2V-bVM"
      },
      "source": [
        "\r\n",
        "## Problem 1 [2p]\r\n",
        "Implement a two-layer network, manually set weights and biases to solve the XOR task.\r\n",
        "\r\n",
        "A two-layer neural network implementes a function $f: \\mathbb{R}^D \\rightarrow \\mathbb{R}^O$ where $D$ is the input dimensionality and $O$ is the output dinemsionality. The output goes through an intermediate representation (the hidden layer) with dimensionality $H$. \r\n",
        "\r\n",
        "The computations are as follows:\r\n",
        "\\begin{equation}\r\n",
        "\\begin{split}\r\n",
        "A_1 &= x W_1^T + b_1  & \\qquad\\text{Total input to neurons in the hidden layer (network's first layer)} \\\\\r\n",
        "O_1 &= \\sigma_1(A_1)  & \\qquad\\text{Output of the hidden layer} \\\\\r\n",
        "A_2 &= O_1 W_2^T + b_2 & \\qquad\\text{Total input to neurons in the output layer (network's second layer)}\\\\\r\n",
        "O_2 &= \\sigma_2(A_2) & \\qquad\\text{Output of the network}\r\n",
        "\\end{split}\r\n",
        "\\end{equation}\r\n",
        "\r\n",
        "Where $W$ are weight matrices, $b$ are bias vectors, $\\sigma$ are non-linear activation functions (e.g. the logistic sigmoid applied element-wise, or softmax).\r\n",
        "\r\n",
        "For the 2D xor problem the network will:\r\n",
        "- have 2 inputs, 2 hidden neurons, one output\r\n",
        "- use the logistic sigmoid everywhere (that way we, when hand-designig the weights, we can assume that neurons' outputs are binary).\r\n",
        "\r\n",
        "Therrefore the shapes of the data floing through the network will be:\r\n",
        "- input: $x\\in\\mathbb{}R^{2}$\r\n",
        "- hidden layer parameters: $W_1\\in\\mathbb{}R^{2\\times 2}$ and $b_1\\in\\mathbb{}R^{2}$\r\n",
        "- representations in the hidden layer: $A_1\\in\\mathbb{}R^{2}$ and $O_1\\in\\mathbb{}R^{2}$\r\n",
        "- output layer parameters: $W_2\\in\\mathbb{}R^{1\\times 2}$ and $b_1\\in\\mathbb{}R^{1}$\r\n",
        "- representations in the output layer: $A_2\\in\\mathbb{}R^{1}$ and $O_2\\in\\mathbb{}R^{1}$\r\n",
        "\r\n",
        "The network can be seen as a logistic regression model, prefixed by a nonlinear transformation of the data.\r\n",
        "\r\n",
        "The first tasks consists of:\r\n",
        "- implementing the network\r\n",
        "- selecting parametwrs ($W_1, b_1, W_2, b_2$) such that $f(x)\\approx XOR(x_1, x_2)$ where the approximation is die to the sigmoids - the output may be close to 0 or 1, but doesn't need to saturate at 0 or 1.\r\n",
        "\r\n",
        "NB: the convention on weight matrix shapes follows linear [layers in PyTorch](https://pytorch.org/docs/stable/generated/torch.nn.Linear.html).\r\n"
      ]
    },
    {
      "cell_type": "markdown",
      "metadata": {
        "id": "0QSpZxuH-bLe"
      },
      "source": [
        "## Problem 2 [2p]\r\n",
        "1. Add a backward pass.\r\n",
        "2. Use a sensible random initialization for weights and biases.\r\n",
        "3. Numerically check the correctness of your gradient computation.\r\n",
        "\r\n",
        "There is nice article about taking derivative over vectors and vector chain rule: https://explained.ai/matrix-calculus/ if someone don't have experience with suchr calculus.\r\n"
      ]
    },
    {
      "cell_type": "markdown",
      "metadata": {
        "id": "s1Tn8j0m-bAy"
      },
      "source": [
        "## Problem 3 [2p]\r\n",
        "1. Implement gradient descent\r\n",
        "2. Train your network to solve 3D XOR\r\n",
        "3. Try several hidden layer sizes, for each size record the fracton of successful trainings. Then answer:\r\n",
        "    - What is the minimal hidden size required to solve 3D XOR (even with low reliability, when the training has to be repeated multiple times)\r\n",
        "    - What is the minimal hidden size required to reliably solve 3D XOR\r\n",
        "    - Which networks are easier to train - small or large ones? Why?\r\n"
      ]
    },
    {
      "cell_type": "markdown",
      "metadata": {
        "id": "RP9Pvpmf-a2A"
      },
      "source": [
        "## Problem 4 [1p]\r\n",
        "Replace the first nonlinearity with the [ReLU](https://en.wikipedia.org/wiki/Rectifier_(neural_networks)) activation function. Find a network architecture which reliably learns the 3D XOR problem.\r\n"
      ]
    },
    {
      "cell_type": "markdown",
      "metadata": {
        "id": "cGgtpe-w-asB"
      },
      "source": [
        "## Problem 5 [1p]\r\n",
        "Add a second hidden layer to your network, implement the forward and backward pass, then demonstrate training.\r\n"
      ]
    },
    {
      "cell_type": "markdown",
      "metadata": {
        "id": "Pe-pcFeO-aiE"
      },
      "source": [
        "## Problem 6 [2p]\r\n",
        "Implement a way to have a _variable number_ of hidden layers. Check how deep sigmoid or ReLU networks you  can train. For simplicity you can assume that all hidden layers have the same number of neurons, and use the same activation function.\r\n"
      ]
    },
    {
      "cell_type": "markdown",
      "metadata": {
        "id": "kIpn17Cm-aW7"
      },
      "source": [
        "## Problem 7 [2p]\r\n",
        "For each weight matrix $w\\in\\mathbb{R}^{n\\times m}$, add a randomly initialized `backward weight` $w_b\\in\\mathbb{R}^{m\\times n}$, which will not change during training. Change the backward pass to use $w_b$ instead of $w^T$, getting an approxmatoin of the true gradient. Can you get your network to train?\r\n",
        "\r\n",
        "NB: this approach, dubbed [feedback alignment](https://www.nature.com/articles/ncomms13276), was proposed to make error backpropagation more biologically plausible, by providing a solution to the \"weight transport problem\". Regular backpropagation requires that neurons not only know their incoming weights (thet they control), but also their outgoing weights (that are controlled by neurons in the upper layers). This is nearly impossible in a real brain."
      ]
    },
    {
      "cell_type": "markdown",
      "metadata": {
        "id": "rXJaoHSH0DZO"
      },
      "source": [
        "# Solutions and starter code"
      ]
    },
    {
      "cell_type": "code",
      "metadata": {
        "id": "YiTEWD2oqW0Y"
      },
      "source": [
        "import matplotlib.pyplot as plt\n",
        "import numpy as np"
      ],
      "execution_count": 1,
      "outputs": []
    },
    {
      "cell_type": "markdown",
      "metadata": {
        "id": "eqtfJKR40J3x"
      },
      "source": [
        "XOR dataset creation"
      ]
    },
    {
      "cell_type": "code",
      "metadata": {
        "colab": {
          "base_uri": "https://localhost:8080/",
          "height": 296
        },
        "id": "lYEbCfbSpv5M",
        "outputId": "c7b25f9a-424a-4c52-a8ea-0db807c57f42"
      },
      "source": [
        "# Let's define a XOR dataset\n",
        "\n",
        "# X will be matrix of N 2-dimensional inputs\n",
        "X = np.array([[0, 0], [0, 1], [1, 0], [1, 1],], dtype=np.float32)\n",
        "# Y is a matrix of N numners - answers\n",
        "Y = np.array([[0], [1], [1], [0],], dtype=np.float32)\n",
        "\n",
        "plt.scatter(\n",
        "    X[:, 0], X[:, 1], c=Y[:, 0],\n",
        ")\n",
        "plt.xlabel(\"X[0]\")\n",
        "plt.ylabel(\"X[1]\")\n",
        "plt.axis(\"square\")"
      ],
      "execution_count": 2,
      "outputs": [
        {
          "output_type": "execute_result",
          "data": {
            "text/plain": [
              "(-0.05, 1.05, -0.05, 1.05)"
            ]
          },
          "metadata": {
            "tags": []
          },
          "execution_count": 2
        },
        {
          "output_type": "display_data",
          "data": {
            "image/png": "[encoded data removed]",
            "text/plain": [
              "<Figure size 432x288 with 1 Axes>"
            ]
          },
          "metadata": {
            "tags": [],
            "needs_background": "light"
          }
        }
      ]
    },
    {
      "cell_type": "markdown",
      "metadata": {
        "id": "Rb3azMn929_I"
      },
      "source": [
        "## Problem 1"
      ]
    },
    {
      "cell_type": "markdown",
      "metadata": {
        "id": "RZCM_hdELE04"
      },
      "source": [
        "The code below contains a mock-up of a two-layer neural network. Fill in the code and manually set weights to solve the XOR problem.\n",
        "\n",
        "Please note: the shapes are set to be compatible with PyTorch's conventions:\n",
        "* a batch containing $N$ $D$-dimensional examples has shape $N\\times D$ (each example is a row!)\n",
        "* a weight matrix in a linear layer with $I$ inputs and $O$ outputs has shape $O \\times I$\n",
        "* a bias vector is a 1D vector. Please note that [broadcasting rules](https://docs.scipy.org/doc/numpy/user/basics.broadcasting.html) allow us to think about it as a $1 \\times D$ matrix."
      ]
    },
    {
      "cell_type": "code",
      "metadata": {
        "id": "lrrRuk6zLiF0"
      },
      "source": [
        "def sigmoid(x):\n",
        "    return 1 / (1 + np.exp(-x))\n",
        "\n",
        "\n",
        "class SmallNet:\n",
        "    def __init__(self, in_features, num_hidden, dtype=np.float32):\n",
        "        self.W1 = np.zeros((num_hidden, in_features), dtype=dtype)\n",
        "        self.b1 = np.zeros((num_hidden,), dtype=dtype)\n",
        "        self.W2 = np.zeros((1, num_hidden), dtype=dtype)\n",
        "        self.b2 = np.zeros((1,), dtype=dtype)\n",
        "        self.init_params(in_features, num_hidden)\n",
        "\n",
        "    def init_params(self, in_features, num_hidden):\n",
        "        # TODO for Problem 2:\n",
        "        # set all parameters to small random values, e.g. from N(0, 0.5)\n",
        "        self.W1 = np.random.normal(0, 0.5, (num_hidden, in_features))\n",
        "        self.b1 = np.random.normal(0, 0.5, (num_hidden,))\n",
        "        self.W2 = np.random.normal(0, 0.5, (1, num_hidden))\n",
        "        self.b2 = np.random.normal(0, 0.5, (1,))\n",
        "\n",
        "    def forward(self, X, Y=None, do_backward=False):\n",
        "        # TODO Problem 1: Fill in details of forward propagation\n",
        "\n",
        "        # Input to neurons in 1st layer\n",
        "        A1 = np.dot(X, self.W1.T) + self.b1\n",
        "        # Outputs after the sigmoid non-linearity\n",
        "        O1 = sigmoid(A1)\n",
        "        # Inputs to neuron in the second layer\n",
        "        A2 = np.dot(O1, self.W2.T) + self.b2\n",
        "        # Outputs after the sigmoid non-linearity\n",
        "        O2 = sigmoid(A2)\n",
        "\n",
        "        # When Y is none, simply return the predictions. Else compute the loss\n",
        "        if Y is not None:\n",
        "            loss = -Y * np.log(O2) - (1 - Y) * np.log(1.0 - O2)\n",
        "            # normalize loss by batch size\n",
        "            loss = loss.sum() / X.shape[0]\n",
        "        else:\n",
        "            loss = np.nan\n",
        "\n",
        "        if do_backward:\n",
        "            # TODO in Problem 2:\n",
        "            # fill in the gradient computation\n",
        "            # Please note, that there is a correspondance between\n",
        "            # the forward and backward pass: with backward computations happening\n",
        "            # in reverse order.\n",
        "            # We save the gradients with respect to the parameters as fields of self.\n",
        "            # It is not very elegant, but simplifies training code later on.\n",
        "\n",
        "            # A2_grad is the gradient of loss with respect to A2\n",
        "            # Hint: there is a concise formula for the gradient\n",
        "            # of logistic sigmoid and cross-entropy loss\n",
        "            A2_grad = O2 - Y\n",
        "            self.b2_grad = A2_grad.sum(0) / X.shape[0]\n",
        "            self.W2_grad = np.dot(A2_grad.T, O1) / X.shape[0]\n",
        "            O1_grad = np.dot(A2_grad, self.W2)\n",
        "            A1_grad = O1_grad * O1 * (1 - O1)\n",
        "            self.b1_grad = A1_grad.sum(0) / X.shape[0]\n",
        "            self.W1_grad = np.dot(A1_grad.T, X) / X.shape[0]\n",
        "\n",
        "        return O2, loss"
      ],
      "execution_count": 3,
      "outputs": []
    },
    {
      "cell_type": "code",
      "metadata": {
        "colab": {
          "base_uri": "https://localhost:8080/"
        },
        "id": "jJswvBk0oiIY",
        "outputId": "205dd755-8865-4558-b58b-96ebfa15917d"
      },
      "source": [
        "# TODO Problem 1:\n",
        "# Set by hand the weight values to solve the XOR problem\n",
        "\n",
        "net = SmallNet(2, 2, dtype=np.float64)\n",
        "net.W1 = np.array([10, 10, 10, 10]).reshape(2,2)\n",
        "net.b1 = np.array([-5, -15])\n",
        "net.W2 = np.array([10, -10]).reshape(1,2)\n",
        "net.b2 = np.array([-5])\n",
        "\n",
        "# Hint: since we use the logistic sigmoid activation, the weights may need to\n",
        "# be fairly large\n",
        "\n",
        "\n",
        "predictions, loss = net.forward(X, Y, do_backward=False)\n",
        "for x, p in zip(X, predictions):\n",
        "    print(f\"XORnet({x}) = {p[0]}\")"
      ],
      "execution_count": 4,
      "outputs": [
        {
          "output_type": "stream",
          "text": [
            "XORnet([0. 0.]) = 0.0071527881888964915\n",
            "XORnet([0. 1.]) = 0.9923558641717396\n",
            "XORnet([1. 0.]) = 0.9923558641717396\n",
            "XORnet([1. 1.]) = 0.0071527881888964785\n"
          ],
          "name": "stdout"
        }
      ]
    },
    {
      "cell_type": "markdown",
      "metadata": {
        "id": "wmxCi5Vl6_xB"
      },
      "source": [
        "## Problem 2"
      ]
    },
    {
      "cell_type": "code",
      "metadata": {
        "id": "eSM5hgJ1mrhY"
      },
      "source": [
        "def check_grad(net, param_name, X, Y, eps=1e-5):\n",
        "    \"\"\"A gradient checking routine\"\"\"\n",
        "\n",
        "    param = getattr(net, param_name)\n",
        "    param_flat_accessor = param.reshape(-1)\n",
        "\n",
        "    grad = np.empty_like(param)\n",
        "    grad_flat_accessor = grad.reshape(-1)\n",
        "\n",
        "    net.forward(X, Y, do_backward=True)\n",
        "    orig_grad = getattr(net, param_name + \"_grad\")\n",
        "    assert param.shape == orig_grad.shape\n",
        "\n",
        "    for i in range(param_flat_accessor.shape[0]):\n",
        "        orig_val = param_flat_accessor[i]\n",
        "        param_flat_accessor[i] = orig_val + eps\n",
        "        _, loss_positive = net.forward(X, Y)\n",
        "        param_flat_accessor[i] = orig_val - eps\n",
        "        _, loss_negative = net.forward(X, Y)\n",
        "        param_flat_accessor[i] = orig_val\n",
        "        grad_flat_accessor[i] = (loss_positive - loss_negative) / (2 * eps)\n",
        "    assert np.allclose(grad, orig_grad)\n",
        "    return grad, orig_grad"
      ],
      "execution_count": 5,
      "outputs": []
    },
    {
      "cell_type": "code",
      "metadata": {
        "id": "TTZu0jFEvgXF"
      },
      "source": [
        "# Hint: use float64 for checking the correctness of the gradient\n",
        "net = SmallNet(2, 2, dtype=np.float64)\n",
        "\n",
        "for param_name in [\"W1\", \"b1\", \"W2\", \"b2\"]:\n",
        "    check_grad(net, param_name, X, Y)"
      ],
      "execution_count": 6,
      "outputs": []
    },
    {
      "cell_type": "markdown",
      "metadata": {
        "id": "8mUOs3cVvjM2"
      },
      "source": [
        "## Problem 3"
      ]
    },
    {
      "cell_type": "code",
      "metadata": {
        "colab": {
          "base_uri": "https://localhost:8080/"
        },
        "id": "nn2AAoZo0vjU",
        "outputId": "0d26ec52-2a7b-4294-9af0-48ade99bc385"
      },
      "source": [
        "net = SmallNet(2, 10, dtype=np.float64)\n",
        "\n",
        "alpha = 0.1  # set a learning rate\n",
        "\n",
        "for i in range(100000):\n",
        "    _, loss = net.forward(X, Y, do_backward=True)\n",
        "    if (i % 5000) == 0:\n",
        "        print(f\"after {i} steps \\tloss={loss}\")\n",
        "    for param_name in [\"W1\", \"b1\", \"W2\", \"b2\"]:\n",
        "        param = getattr(net, param_name)\n",
        "        # Hint: use the construct `param[:]` to change the contents of the array!\n",
        "        # Doing instead `param = new_val` simply changes to what the variable\n",
        "        # param points to, without affecting the network!\n",
        "        # alternatively, you could do setattr(net, param_name, new_value)\n",
        "        param[:] = param - alpha * getattr(net, param_name + \"_grad\")"
      ],
      "execution_count": 7,
      "outputs": [
        {
          "output_type": "stream",
          "text": [
            "after 0 steps \tloss=0.7489294913541362\n",
            "after 5000 steps \tloss=0.03223397796724391\n",
            "after 10000 steps \tloss=0.009739279710994149\n",
            "after 15000 steps \tloss=0.005567371455285882\n",
            "after 20000 steps \tloss=0.0038628618589463615\n",
            "after 25000 steps \tloss=0.002944685023797385\n",
            "after 30000 steps \tloss=0.00237312963562205\n",
            "after 35000 steps \tloss=0.0019840355916228903\n",
            "after 40000 steps \tloss=0.001702502952511916\n",
            "after 45000 steps \tloss=0.0014895818216626726\n",
            "after 50000 steps \tloss=0.0013230506438688225\n",
            "after 55000 steps \tloss=0.0011893218311937951\n",
            "after 60000 steps \tloss=0.0010796270915850285\n",
            "after 65000 steps \tloss=0.0009880585969089578\n",
            "after 70000 steps \tloss=0.000910492572007852\n",
            "after 75000 steps \tloss=0.0008439643367936262\n",
            "after 80000 steps \tloss=0.0007862885327519537\n",
            "after 85000 steps \tloss=0.0007358192996987094\n",
            "after 90000 steps \tloss=0.0006912937703061641\n",
            "after 95000 steps \tloss=0.0006517269913501864\n"
          ],
          "name": "stdout"
        }
      ]
    },
    {
      "cell_type": "code",
      "metadata": {
        "colab": {
          "base_uri": "https://localhost:8080/"
        },
        "id": "TwpEjpkU1JvK",
        "outputId": "91ebe6e5-74bd-417c-c6b7-9030f23545d2"
      },
      "source": [
        "predictions, loss = net.forward(X, Y, do_backward=True)\n",
        "for x, p in zip(X, predictions):\n",
        "    print(f\"XORnet({x}) = {p[0]}\")"
      ],
      "execution_count": 8,
      "outputs": [
        {
          "output_type": "stream",
          "text": [
            "XORnet([0. 0.]) = 0.00025420069745527306\n",
            "XORnet([0. 1.]) = 0.9991345011467168\n",
            "XORnet([1. 0.]) = 0.9995843419687509\n",
            "XORnet([1. 1.]) = 0.0009290754683234042\n"
          ],
          "name": "stdout"
        }
      ]
    },
    {
      "cell_type": "code",
      "metadata": {
        "id": "U0ZMyHqz8xrC",
        "colab": {
          "base_uri": "https://localhost:8080/"
        },
        "outputId": "900c1a88-c074-48e9-e587-ee2c7cbc07c7"
      },
      "source": [
        "# TODO:\n",
        "# Generate data for a 3D XOR task\n",
        "# Then estimate the success rate of training the network with diferent\n",
        "# hidden sizes.\n",
        "\n",
        "X3 = np.array([[0, 0, 0], [0, 0, 1], [0, 1, 0], [0, 1, 1], [1, 0, 0], [1, 0, 1], [1, 1, 0], [1, 1, 1]], dtype=np.float32)\n",
        "Y3 = np.array([[0], [1], [1], [0], [1], [0], [0], [1]], dtype=np.float32)\n",
        "\n",
        "for hidden_dim in [2, 3, 5, 10, 20]:\n",
        "    # TODO: run a few trainings and record the fraction of successful ones\n",
        "    print(f\"for hidden_dim {hidden_dim}\\n\")\n",
        "    for _ in range(3):\n",
        "      net = SmallNet(3, hidden_dim, dtype=np.float64)\n",
        "\n",
        "      alpha = 0.1\n",
        "\n",
        "      for i in range(100000):\n",
        "        _, loss = net.forward(X3, Y3, do_backward=True)\n",
        "        for param_name in [\"W1\", \"b1\", \"W2\", \"b2\"]:\n",
        "          param = getattr(net, param_name)\n",
        "          param[:] = param - alpha * getattr(net, param_name + \"_grad\")\n",
        "      \n",
        "      predictions, loss = net.forward(X3, Y3, do_backward=True)\n",
        "      for x, p in zip(X3, predictions):\n",
        "          print(f\"3DXORnet({x}) = {p[0]}\")\n",
        "      print(\"\\n\")"
      ],
      "execution_count": 12,
      "outputs": [
        {
          "output_type": "stream",
          "text": [
            "for hidden_dim 2\n",
            "\n",
            "3DXORnet([0. 0. 0.]) = 0.0010843920932214377\n",
            "3DXORnet([0. 0. 1.]) = 0.4992046621019881\n",
            "3DXORnet([0. 1. 0.]) = 0.4991312818168478\n",
            "3DXORnet([0. 1. 1.]) = 0.0010244599113976086\n",
            "3DXORnet([1. 0. 0.]) = 0.9990151560193268\n",
            "3DXORnet([1. 0. 1.]) = 0.5003706088271567\n",
            "3DXORnet([1. 1. 0.]) = 0.5002730794542105\n",
            "3DXORnet([1. 1. 1.]) = 0.9989597328543135\n",
            "\n",
            "\n",
            "3DXORnet([0. 0. 0.]) = 0.009109819024244858\n",
            "3DXORnet([0. 0. 1.]) = 0.9904568761927193\n",
            "3DXORnet([0. 1. 0.]) = 0.9777790973040723\n",
            "3DXORnet([0. 1. 1.]) = 0.00910071168534801\n",
            "3DXORnet([1. 0. 0.]) = 0.9904568752473433\n",
            "3DXORnet([1. 0. 1.]) = 0.025246078786940854\n",
            "3DXORnet([1. 1. 0.]) = 0.009100711983556187\n",
            "3DXORnet([1. 1. 1.]) = 0.9904865082378425\n",
            "\n",
            "\n",
            "3DXORnet([0. 0. 0.]) = 0.026815167640886463\n",
            "3DXORnet([0. 0. 1.]) = 0.944348772536638\n",
            "3DXORnet([0. 1. 0.]) = 0.9690922593410612\n",
            "3DXORnet([0. 1. 1.]) = 0.026767780007317162\n",
            "3DXORnet([1. 0. 0.]) = 0.9690922591285699\n",
            "3DXORnet([1. 0. 1.]) = 0.026767780082256335\n",
            "3DXORnet([1. 1. 0.]) = 0.08182750327479617\n",
            "3DXORnet([1. 1. 1.]) = 0.9692501861457486\n",
            "\n",
            "\n",
            "for hidden_dim 3\n",
            "\n",
            "3DXORnet([0. 0. 0.]) = 0.0016724722525267627\n",
            "3DXORnet([0. 0. 1.]) = 0.9978797582967515\n",
            "3DXORnet([0. 1. 0.]) = 0.9973634539832199\n",
            "3DXORnet([0. 1. 1.]) = 0.0002550381692630417\n",
            "3DXORnet([1. 0. 0.]) = 0.9997299084749212\n",
            "3DXORnet([1. 0. 1.]) = 0.002127817736428613\n",
            "3DXORnet([1. 1. 0.]) = 0.001702854891913646\n",
            "3DXORnet([1. 1. 1.]) = 0.998350378786542\n",
            "\n",
            "\n",
            "3DXORnet([0. 0. 0.]) = 9.021403389954981e-05\n",
            "3DXORnet([0. 0. 1.]) = 0.998399541341228\n",
            "3DXORnet([0. 1. 0.]) = 0.9979804016249878\n",
            "3DXORnet([0. 1. 1.]) = 0.0018665451405894032\n",
            "3DXORnet([1. 0. 0.]) = 0.9983929323483811\n",
            "3DXORnet([1. 0. 1.]) = 0.0023928765775972187\n",
            "3DXORnet([1. 1. 0.]) = 0.0018472184975517438\n",
            "3DXORnet([1. 1. 1.]) = 0.9998830002511981\n",
            "\n",
            "\n",
            "3DXORnet([0. 0. 0.]) = 9.320250311352283e-05\n",
            "3DXORnet([0. 0. 1.]) = 0.998343074110325\n",
            "3DXORnet([0. 1. 0.]) = 0.9979662162801355\n",
            "3DXORnet([0. 1. 1.]) = 0.0019259837006563288\n",
            "3DXORnet([1. 0. 0.]) = 0.9983503053079971\n",
            "3DXORnet([1. 0. 1.]) = 0.002352630302397728\n",
            "3DXORnet([1. 1. 0.]) = 0.0019510237608051154\n",
            "3DXORnet([1. 1. 1.]) = 0.9998790477421503\n",
            "\n",
            "\n",
            "for hidden_dim 5\n",
            "\n",
            "3DXORnet([0. 0. 0.]) = 0.0004359301991525756\n",
            "3DXORnet([0. 0. 1.]) = 0.9992769786179276\n",
            "3DXORnet([0. 1. 0.]) = 0.9992629746050197\n",
            "3DXORnet([0. 1. 1.]) = 0.0010012907054314036\n",
            "3DXORnet([1. 0. 0.]) = 0.9992280791649446\n",
            "3DXORnet([1. 0. 1.]) = 0.0005431664255987162\n",
            "3DXORnet([1. 1. 0.]) = 0.0008223930516462072\n",
            "3DXORnet([1. 1. 1.]) = 0.9997844498506241\n",
            "\n",
            "\n",
            "3DXORnet([0. 0. 0.]) = 0.0006199393863501073\n",
            "3DXORnet([0. 0. 1.]) = 0.999373472192377\n",
            "3DXORnet([0. 1. 0.]) = 0.9995306692591718\n",
            "3DXORnet([0. 1. 1.]) = 0.0004762930174311488\n",
            "3DXORnet([1. 0. 0.]) = 0.9995090579092187\n",
            "3DXORnet([1. 0. 1.]) = 0.0003908676452786223\n",
            "3DXORnet([1. 1. 0.]) = 0.0006188889789245267\n",
            "3DXORnet([1. 1. 1.]) = 0.9994478125776698\n",
            "\n",
            "\n",
            "3DXORnet([0. 0. 0.]) = 0.0005593626044720117\n",
            "3DXORnet([0. 0. 1.]) = 0.9993197670624455\n",
            "3DXORnet([0. 1. 0.]) = 0.9990071431978502\n",
            "3DXORnet([0. 1. 1.]) = 0.0006093016739430177\n",
            "3DXORnet([1. 0. 0.]) = 0.9993781297563341\n",
            "3DXORnet([1. 0. 1.]) = 0.00047214613372683923\n",
            "3DXORnet([1. 1. 0.]) = 0.0006947383256821927\n",
            "3DXORnet([1. 1. 1.]) = 0.9996460178427696\n",
            "\n",
            "\n",
            "for hidden_dim 10\n",
            "\n",
            "3DXORnet([0. 0. 0.]) = 0.0005983424898589204\n",
            "3DXORnet([0. 0. 1.]) = 0.9993365695394554\n",
            "3DXORnet([0. 1. 0.]) = 0.9994255967728828\n",
            "3DXORnet([0. 1. 1.]) = 0.00047378518982595563\n",
            "3DXORnet([1. 0. 0.]) = 0.9992801362026489\n",
            "3DXORnet([1. 0. 1.]) = 0.0008359493398944802\n",
            "3DXORnet([1. 1. 0.]) = 0.0004308814434680865\n",
            "3DXORnet([1. 1. 1.]) = 0.999646437072387\n",
            "\n",
            "\n",
            "3DXORnet([0. 0. 0.]) = 0.00047809557017015674\n",
            "3DXORnet([0. 0. 1.]) = 0.9993763814941801\n",
            "3DXORnet([0. 1. 0.]) = 0.9995218943635327\n",
            "3DXORnet([0. 1. 1.]) = 0.0004271476820327597\n",
            "3DXORnet([1. 0. 0.]) = 0.9992952011900116\n",
            "3DXORnet([1. 0. 1.]) = 0.0008320666437159778\n",
            "3DXORnet([1. 1. 0.]) = 0.0004316868860046633\n",
            "3DXORnet([1. 1. 1.]) = 0.9996435026918584\n",
            "\n",
            "\n",
            "3DXORnet([0. 0. 0.]) = 0.0005061079491907631\n",
            "3DXORnet([0. 0. 1.]) = 0.999467580935835\n",
            "3DXORnet([0. 1. 0.]) = 0.9992865968968013\n",
            "3DXORnet([0. 1. 1.]) = 0.000602830614441241\n",
            "3DXORnet([1. 0. 0.]) = 0.9992667885035054\n",
            "3DXORnet([1. 0. 1.]) = 0.0005137642140759454\n",
            "3DXORnet([1. 1. 0.]) = 0.0004869350448628568\n",
            "3DXORnet([1. 1. 1.]) = 0.9996574038179475\n",
            "\n",
            "\n",
            "for hidden_dim 20\n",
            "\n",
            "3DXORnet([0. 0. 0.]) = 0.0006306873742556138\n",
            "3DXORnet([0. 0. 1.]) = 0.99940066470144\n",
            "3DXORnet([0. 1. 0.]) = 0.9994201538761234\n",
            "3DXORnet([0. 1. 1.]) = 0.0005345204808533128\n",
            "3DXORnet([1. 0. 0.]) = 0.9993856382960247\n",
            "3DXORnet([1. 0. 1.]) = 0.0005375599728409108\n",
            "3DXORnet([1. 1. 0.]) = 0.000477614163321311\n",
            "3DXORnet([1. 1. 1.]) = 0.9996665567725708\n",
            "\n",
            "\n",
            "3DXORnet([0. 0. 0.]) = 0.0006784991773284754\n",
            "3DXORnet([0. 0. 1.]) = 0.9992371504825686\n",
            "3DXORnet([0. 1. 0.]) = 0.9993300667874867\n",
            "3DXORnet([0. 1. 1.]) = 0.0005631574030520687\n",
            "3DXORnet([1. 0. 0.]) = 0.9992699090054659\n",
            "3DXORnet([1. 0. 1.]) = 0.0005983268963108977\n",
            "3DXORnet([1. 1. 0.]) = 0.0006001912509128202\n",
            "3DXORnet([1. 1. 1.]) = 0.9995986837010915\n",
            "\n",
            "\n",
            "3DXORnet([0. 0. 0.]) = 0.000667113136226833\n",
            "3DXORnet([0. 0. 1.]) = 0.9992288562096818\n",
            "3DXORnet([0. 1. 0.]) = 0.9992902490328048\n",
            "3DXORnet([0. 1. 1.]) = 0.0006167239399628893\n",
            "3DXORnet([1. 0. 0.]) = 0.9991482154627778\n",
            "3DXORnet([1. 0. 1.]) = 0.0007834189126317637\n",
            "3DXORnet([1. 1. 0.]) = 0.000640370693530315\n",
            "3DXORnet([1. 1. 1.]) = 0.9996886928647581\n",
            "\n",
            "\n"
          ],
          "name": "stdout"
        }
      ]
    },
    {
      "cell_type": "markdown",
      "metadata": {
        "id": "QE7O6LxgL11J"
      },
      "source": [
        "- What is the minimal hidden size required to solve 3D XOR (even with low reliability, when the training has to be repeated multiple times)\r\n",
        " - The minimal hidden size required to solve 3D XOR is 2.\r\n",
        "- What is the minimal hidden size required to reliably solve 3D XOR\r\n",
        " - The minimal hidden size required to reliably solve 3D XOR is 3.\r\n",
        "- Which networks are easier to train - small or large ones? Why?\r\n",
        " - Large networks are easier to train because it is easier to tune in parameters when exploring more combinations."
      ]
    },
    {
      "cell_type": "markdown",
      "metadata": {
        "id": "UuaLEoV-9DLG"
      },
      "source": [
        "## Problem 4\n"
      ]
    },
    {
      "cell_type": "code",
      "metadata": {
        "id": "w3lk9_TM-MvK"
      },
      "source": [
        "def rectifier(x):\r\n",
        "  return np.where(x >= 0, x, 0)\r\n",
        "\r\n",
        "class SmallNet2:\r\n",
        "    def __init__(self, in_features, num_hidden, dtype=np.float32):\r\n",
        "        self.W1 = np.zeros((num_hidden, in_features), dtype=dtype)\r\n",
        "        self.b1 = np.zeros((num_hidden,), dtype=dtype)\r\n",
        "        self.W2 = np.zeros((1, num_hidden), dtype=dtype)\r\n",
        "        self.b2 = np.zeros((1,), dtype=dtype)\r\n",
        "        self.init_params(in_features, num_hidden)\r\n",
        "\r\n",
        "    def init_params(self, in_features, num_hidden):\r\n",
        "        self.W1 = np.random.normal(0, 0.5, (num_hidden, in_features))\r\n",
        "        self.b1 = np.random.normal(0, 0.5, (num_hidden,))\r\n",
        "        self.W2 = np.random.normal(0, 0.5, (1, num_hidden))\r\n",
        "        self.b2 = np.random.normal(0, 0.5, (1,))\r\n",
        "\r\n",
        "    def forward(self, X, Y=None, do_backward=False):\r\n",
        "        A1 = np.dot(X, self.W1.T) + self.b1\r\n",
        "        O1 = rectifier(A1)\r\n",
        "        A2 = np.dot(O1, self.W2.T) + self.b2\r\n",
        "        O2 = sigmoid(A2)\r\n",
        "\r\n",
        "        if Y is not None:\r\n",
        "            loss = -Y * np.log(O2) - (1 - Y) * np.log(1.0 - O2)\r\n",
        "            loss = loss.sum() / X.shape[0]\r\n",
        "        else:\r\n",
        "            loss = np.nan\r\n",
        "\r\n",
        "        if do_backward:\r\n",
        "            A2_grad = O2 - Y\r\n",
        "            self.b2_grad = A2_grad.sum(0) / X.shape[0]\r\n",
        "            self.W2_grad = np.dot(A2_grad.T, O1) / X.shape[0]\r\n",
        "            O1_grad = np.dot(A2_grad, self.W2)\r\n",
        "            A1_grad = O1_grad * np.where(A1 >= 0, 1, 0)\r\n",
        "            self.b1_grad = A1_grad.sum(0) / X.shape[0]\r\n",
        "            self.W1_grad = np.dot(A1_grad.T, X) / X.shape[0]\r\n",
        "\r\n",
        "        return O2, loss"
      ],
      "execution_count": 13,
      "outputs": []
    },
    {
      "cell_type": "code",
      "metadata": {
        "colab": {
          "base_uri": "https://localhost:8080/"
        },
        "id": "5-ifHexCzhQ4",
        "outputId": "2afd02f0-137e-4fb0-ab5e-2b94a745a540"
      },
      "source": [
        "for _ in range(10):\r\n",
        "  net = SmallNet2(3, 12, dtype=np.float64)\r\n",
        "\r\n",
        "  alpha = 0.1\r\n",
        "\r\n",
        "  for i in range(100000):\r\n",
        "    _, loss = net.forward(X3, Y3, do_backward=True)\r\n",
        "    for param_name in [\"W1\", \"b1\", \"W2\", \"b2\"]:\r\n",
        "      param = getattr(net, param_name)\r\n",
        "      param[:] = param - alpha * getattr(net, param_name + \"_grad\")\r\n",
        "      \r\n",
        "  predictions, loss = net.forward(X3, Y3, do_backward=True)\r\n",
        "  for x, p in zip(X3, predictions):\r\n",
        "      print(f\"3DXORnet({x}) = {p[0]}\")\r\n",
        "  print(\"\\n\")"
      ],
      "execution_count": 17,
      "outputs": [
        {
          "output_type": "stream",
          "text": [
            "3DXORnet([0. 0. 0.]) = 8.314645972931567e-05\n",
            "3DXORnet([0. 0. 1.]) = 0.9999124555315769\n",
            "3DXORnet([0. 1. 0.]) = 0.9999187094633829\n",
            "3DXORnet([0. 1. 1.]) = 4.839643695274793e-05\n",
            "3DXORnet([1. 0. 0.]) = 0.999775183798753\n",
            "3DXORnet([1. 0. 1.]) = 0.00019419092691546307\n",
            "3DXORnet([1. 1. 0.]) = 0.0001338681256426438\n",
            "3DXORnet([1. 1. 1.]) = 0.9998700055446894\n",
            "\n",
            "\n",
            "3DXORnet([0. 0. 0.]) = 0.00011639498211921722\n",
            "3DXORnet([0. 0. 1.]) = 0.999971702073183\n",
            "3DXORnet([0. 1. 0.]) = 0.9997553627740731\n",
            "3DXORnet([0. 1. 1.]) = 0.00014332851579986947\n",
            "3DXORnet([1. 0. 0.]) = 0.9997544806714079\n",
            "3DXORnet([1. 0. 1.]) = 0.00014409576913095902\n",
            "3DXORnet([1. 1. 0.]) = 0.0003229654638829332\n",
            "3DXORnet([1. 1. 1.]) = 0.9997497884074039\n",
            "\n",
            "\n",
            "3DXORnet([0. 0. 0.]) = 7.616684934318005e-05\n",
            "3DXORnet([0. 0. 1.]) = 0.9998989877239454\n",
            "3DXORnet([0. 1. 0.]) = 0.9999129376889186\n",
            "3DXORnet([0. 1. 1.]) = 7.818393903414217e-05\n",
            "3DXORnet([1. 0. 0.]) = 0.9998591379138274\n",
            "3DXORnet([1. 0. 1.]) = 0.00010511808842143507\n",
            "3DXORnet([1. 1. 0.]) = 0.00011701256961034592\n",
            "3DXORnet([1. 1. 1.]) = 0.9999048161136616\n",
            "\n",
            "\n",
            "3DXORnet([0. 0. 0.]) = 0.00023538711281436374\n",
            "3DXORnet([0. 0. 1.]) = 0.9999214490224528\n",
            "3DXORnet([0. 1. 0.]) = 0.9997488221246836\n",
            "3DXORnet([0. 1. 1.]) = 0.00012588338711162016\n",
            "3DXORnet([1. 0. 0.]) = 0.9997464288596535\n",
            "3DXORnet([1. 0. 1.]) = 0.00012553004480254107\n",
            "3DXORnet([1. 1. 0.]) = 0.0003193514475772392\n",
            "3DXORnet([1. 1. 1.]) = 0.9997719026820645\n",
            "\n",
            "\n",
            "3DXORnet([0. 0. 0.]) = 3.873471171986498e-05\n",
            "3DXORnet([0. 0. 1.]) = 0.9998763858517554\n",
            "3DXORnet([0. 1. 0.]) = 0.9998954669396946\n",
            "3DXORnet([0. 1. 1.]) = 0.00016063505965677302\n",
            "3DXORnet([1. 0. 0.]) = 0.9999437003055535\n",
            "3DXORnet([1. 0. 1.]) = 0.0001187729045310496\n",
            "3DXORnet([1. 1. 0.]) = 9.359005087668996e-05\n",
            "3DXORnet([1. 1. 1.]) = 0.9998491993798817\n",
            "\n",
            "\n",
            "3DXORnet([0. 0. 0.]) = 0.00011730885266933402\n",
            "3DXORnet([0. 0. 1.]) = 0.9997768486514503\n",
            "3DXORnet([0. 1. 0.]) = 0.9999406041170384\n",
            "3DXORnet([0. 1. 1.]) = 0.00017169349586854726\n",
            "3DXORnet([1. 0. 0.]) = 0.9998675140799286\n",
            "3DXORnet([1. 0. 1.]) = 0.00020973003575707434\n",
            "3DXORnet([1. 1. 0.]) = 5.42267893333279e-05\n",
            "3DXORnet([1. 1. 1.]) = 0.9998690427213061\n",
            "\n",
            "\n",
            "3DXORnet([0. 0. 0.]) = 0.00010300453940942807\n",
            "3DXORnet([0. 0. 1.]) = 0.9998302392809917\n",
            "3DXORnet([0. 1. 0.]) = 0.999947777891051\n",
            "3DXORnet([0. 1. 1.]) = 9.559709814370941e-05\n",
            "3DXORnet([1. 0. 0.]) = 0.9998989225850082\n",
            "3DXORnet([1. 0. 1.]) = 0.00017917194895876204\n",
            "3DXORnet([1. 1. 0.]) = 4.335789474018646e-05\n",
            "3DXORnet([1. 1. 1.]) = 0.9998626673548117\n",
            "\n",
            "\n",
            "3DXORnet([0. 0. 0.]) = 3.3097911939603035e-06\n",
            "3DXORnet([0. 0. 1.]) = 0.9999146044482676\n",
            "3DXORnet([0. 1. 0.]) = 0.9999069647177113\n",
            "3DXORnet([0. 1. 1.]) = 0.0001502324123182729\n",
            "3DXORnet([1. 0. 0.]) = 0.9998970465715082\n",
            "3DXORnet([1. 0. 1.]) = 0.00015462025107783412\n",
            "3DXORnet([1. 1. 0.]) = 0.000156423172132596\n",
            "3DXORnet([1. 1. 1.]) = 0.9998069511892834\n",
            "\n",
            "\n",
            "3DXORnet([0. 0. 0.]) = 8.906301438148365e-05\n",
            "3DXORnet([0. 0. 1.]) = 0.9999255922716159\n",
            "3DXORnet([0. 1. 0.]) = 0.9998266835626455\n",
            "3DXORnet([0. 1. 1.]) = 0.0001759056974083103\n",
            "3DXORnet([1. 0. 0.]) = 0.9999464139661953\n",
            "3DXORnet([1. 0. 1.]) = 0.00010672368657157427\n",
            "3DXORnet([1. 1. 0.]) = 0.0001649077519561233\n",
            "3DXORnet([1. 1. 1.]) = 0.9998157033599718\n",
            "\n",
            "\n",
            "3DXORnet([0. 0. 0.]) = 7.035616361117702e-05\n",
            "3DXORnet([0. 0. 1.]) = 0.9999004734316695\n",
            "3DXORnet([0. 1. 0.]) = 0.9998223182578413\n",
            "3DXORnet([0. 1. 1.]) = 0.000168064205123811\n",
            "3DXORnet([1. 0. 0.]) = 0.999942768081848\n",
            "3DXORnet([1. 0. 1.]) = 7.084964135205794e-05\n",
            "3DXORnet([1. 1. 0.]) = 0.00011414869077850116\n",
            "3DXORnet([1. 1. 1.]) = 0.9998652578989452\n",
            "\n",
            "\n"
          ],
          "name": "stdout"
        }
      ]
    },
    {
      "cell_type": "markdown",
      "metadata": {
        "id": "_Hr_iAKX-ND1"
      },
      "source": [
        "## Problem 5"
      ]
    },
    {
      "cell_type": "code",
      "metadata": {
        "id": "rnz6CndQ-NRI"
      },
      "source": [
        "class SmallNet3:\r\n",
        "    def __init__(self, in_features, num_hidden, dtype=np.float32):\r\n",
        "        self.W1 = np.zeros((num_hidden, in_features), dtype=dtype)\r\n",
        "        self.b1 = np.zeros((num_hidden,), dtype=dtype)\r\n",
        "        self.W2 = np.zeros((num_hidden, num_hidden), dtype=dtype)\r\n",
        "        self.b2 = np.zeros((num_hidden,), dtype=dtype)\r\n",
        "        self.W3 = np.zeros((1, num_hidden), dtype=dtype)\r\n",
        "        self.b3 = np.zeros((1,), dtype=dtype)\r\n",
        "        self.init_params(in_features, num_hidden)\r\n",
        "\r\n",
        "    def init_params(self, in_features, num_hidden):\r\n",
        "        self.W1 = np.random.normal(0, 0.5, (num_hidden, in_features))\r\n",
        "        self.b1 = np.random.normal(0, 0.5, (num_hidden,))\r\n",
        "        self.W2 = np.random.normal(0, 0.5, (num_hidden, num_hidden))\r\n",
        "        self.b2 = np.random.normal(0, 0.5, (num_hidden,))\r\n",
        "        self.W3 = np.random.normal(0, 0.5, (1, num_hidden))\r\n",
        "        self.b3 = np.random.normal(0, 0.5, (1,))\r\n",
        "\r\n",
        "    def forward(self, X, Y=None, do_backward=False):\r\n",
        "        A1 = np.dot(X, self.W1.T) + self.b1\r\n",
        "        O1 = sigmoid(A1)\r\n",
        "        A2 = np.dot(O1, self.W2.T) + self.b2\r\n",
        "        O2 = sigmoid(A2)\r\n",
        "        A3 = np.dot(O2, self.W3.T) + self.b3\r\n",
        "        O3 = sigmoid(A3)\r\n",
        "\r\n",
        "        if Y is not None:\r\n",
        "            loss = -Y * np.log(O3) - (1 - Y) * np.log(1.0 - O3)\r\n",
        "            loss = loss.sum() / X.shape[0]\r\n",
        "        else:\r\n",
        "            loss = np.nan\r\n",
        "\r\n",
        "        if do_backward:\r\n",
        "            A3_grad = O3 - Y\r\n",
        "            self.b3_grad = A3_grad.sum(0) / X.shape[0]\r\n",
        "            self.W3_grad = np.dot(A3_grad.T, O2) / X.shape[0]\r\n",
        "            O2_grad = np.dot(A3_grad, self.W3)\r\n",
        "\r\n",
        "            A2_grad = O2_grad * O2 * (1 - O2)\r\n",
        "            self.b2_grad = A2_grad.sum(0) / X.shape[0]\r\n",
        "            self.W2_grad = np.dot(A2_grad.T, O1) / X.shape[0]\r\n",
        "            O1_grad = np.dot(A2_grad, self.W2)\r\n",
        "\r\n",
        "            A1_grad = O1_grad * O1 * (1 - O1)\r\n",
        "            self.b1_grad = A1_grad.sum(0) / X.shape[0]\r\n",
        "            self.W1_grad = np.dot(A1_grad.T, X) / X.shape[0]\r\n",
        "\r\n",
        "        return O3, loss"
      ],
      "execution_count": 64,
      "outputs": []
    },
    {
      "cell_type": "code",
      "metadata": {
        "id": "zbxOGb9849mx"
      },
      "source": [
        "net = SmallNet3(3, 2, dtype=np.float64)\r\n",
        "\r\n",
        "for param_name in [\"W1\", \"b1\", \"W2\", \"b2\", \"W3\", \"b3\"]:\r\n",
        "    check_grad(net, param_name, X3, Y3)"
      ],
      "execution_count": 62,
      "outputs": []
    },
    {
      "cell_type": "code",
      "metadata": {
        "colab": {
          "base_uri": "https://localhost:8080/"
        },
        "id": "LiwRnG59525P",
        "outputId": "94d681de-dfaf-4d81-b236-a9975a9e739b"
      },
      "source": [
        "for hidden_dim in [3, 5, 10, 20]:\r\n",
        "    print(f\"for hidden_dim {hidden_dim}\\n\")\r\n",
        "    for _ in range(3):\r\n",
        "      net = SmallNet3(3, hidden_dim, dtype=np.float64)\r\n",
        "\r\n",
        "      alpha = 0.2\r\n",
        "\r\n",
        "      for i in range(100000):\r\n",
        "        _, loss = net.forward(X3, Y3, do_backward=True)\r\n",
        "        for param_name in [\"W1\", \"b1\", \"W2\", \"b2\", \"W3\", \"b3\"]:\r\n",
        "          param = getattr(net, param_name)\r\n",
        "          param[:] = param - alpha * getattr(net, param_name + \"_grad\")\r\n",
        "      \r\n",
        "      predictions, loss = net.forward(X3, Y3, do_backward=True)\r\n",
        "      for x, p in zip(X3, predictions):\r\n",
        "          print(f\"3DXORnet({x}) = {p[0]}\")\r\n",
        "      print(\"\\n\")"
      ],
      "execution_count": 65,
      "outputs": [
        {
          "output_type": "stream",
          "text": [
            "for hidden_dim 3\n",
            "\n",
            "3DXORnet([0. 0. 0.]) = 6.392388490752066e-05\n",
            "3DXORnet([0. 0. 1.]) = 0.9998906950028245\n",
            "3DXORnet([0. 1. 0.]) = 0.999860183847425\n",
            "3DXORnet([0. 1. 1.]) = 0.00015543934845865508\n",
            "3DXORnet([1. 0. 0.]) = 0.999846668186131\n",
            "3DXORnet([1. 0. 1.]) = 0.0001479524075812217\n",
            "3DXORnet([1. 1. 0.]) = 0.00011796194853949878\n",
            "3DXORnet([1. 1. 1.]) = 0.9999669994851064\n",
            "\n",
            "\n",
            "3DXORnet([0. 0. 0.]) = 7.561036552550823e-05\n",
            "3DXORnet([0. 0. 1.]) = 0.9998456539543505\n",
            "3DXORnet([0. 1. 0.]) = 0.9998504313597206\n",
            "3DXORnet([0. 1. 1.]) = 0.00016908444814322772\n",
            "3DXORnet([1. 0. 0.]) = 0.9998795040004919\n",
            "3DXORnet([1. 0. 1.]) = 0.000187353373731129\n",
            "3DXORnet([1. 1. 0.]) = 0.00019181469045222814\n",
            "3DXORnet([1. 1. 1.]) = 0.9999825650555618\n",
            "\n",
            "\n",
            "3DXORnet([0. 0. 0.]) = 0.00017160171291651685\n",
            "3DXORnet([0. 0. 1.]) = 0.9998810956194475\n",
            "3DXORnet([0. 1. 0.]) = 0.999882991589447\n",
            "3DXORnet([0. 1. 1.]) = 0.00017307939211891644\n",
            "3DXORnet([1. 0. 0.]) = 0.9998308102442762\n",
            "3DXORnet([1. 0. 1.]) = 9.895047500690044e-05\n",
            "3DXORnet([1. 1. 0.]) = 0.00010291394260601165\n",
            "3DXORnet([1. 1. 1.]) = 0.9998648604969469\n",
            "\n",
            "\n",
            "for hidden_dim 5\n",
            "\n",
            "3DXORnet([0. 0. 0.]) = 0.00010155856288856136\n",
            "3DXORnet([0. 0. 1.]) = 0.9999141430536064\n",
            "3DXORnet([0. 1. 0.]) = 0.9999158427692482\n",
            "3DXORnet([0. 1. 1.]) = 0.0001302359971093759\n",
            "3DXORnet([1. 0. 0.]) = 0.9999072801873133\n",
            "3DXORnet([1. 0. 1.]) = 0.00010219398858331513\n",
            "3DXORnet([1. 1. 0.]) = 9.566553274636098e-05\n",
            "3DXORnet([1. 1. 1.]) = 0.999841825979398\n",
            "\n",
            "\n",
            "3DXORnet([0. 0. 0.]) = 5.407328519938242e-05\n",
            "3DXORnet([0. 0. 1.]) = 0.9999031102094543\n",
            "3DXORnet([0. 1. 0.]) = 0.9999073015065113\n",
            "3DXORnet([0. 1. 1.]) = 0.00011518485260496693\n",
            "3DXORnet([1. 0. 0.]) = 0.9998978927336174\n",
            "3DXORnet([1. 0. 1.]) = 8.309142845736508e-05\n",
            "3DXORnet([1. 1. 0.]) = 8.982621121494183e-05\n",
            "3DXORnet([1. 1. 1.]) = 0.9999644761532265\n",
            "\n",
            "\n",
            "3DXORnet([0. 0. 0.]) = 7.275133640056528e-05\n",
            "3DXORnet([0. 0. 1.]) = 0.9999190306927684\n",
            "3DXORnet([0. 1. 0.]) = 0.9999375422594529\n",
            "3DXORnet([0. 1. 1.]) = 5.376743857100254e-05\n",
            "3DXORnet([1. 0. 0.]) = 0.9999344894628434\n",
            "3DXORnet([1. 0. 1.]) = 0.00010400059574162382\n",
            "3DXORnet([1. 1. 0.]) = 4.4850098393368254e-05\n",
            "3DXORnet([1. 1. 1.]) = 0.9999425710417823\n",
            "\n",
            "\n",
            "for hidden_dim 10\n",
            "\n",
            "3DXORnet([0. 0. 0.]) = 5.602246082227498e-05\n",
            "3DXORnet([0. 0. 1.]) = 0.9999226178020828\n",
            "3DXORnet([0. 1. 0.]) = 0.9999201710839966\n",
            "3DXORnet([0. 1. 1.]) = 9.018571911777994e-05\n",
            "3DXORnet([1. 0. 0.]) = 0.9999172200508778\n",
            "3DXORnet([1. 0. 1.]) = 5.07335751047756e-05\n",
            "3DXORnet([1. 1. 0.]) = 5.391458508341744e-05\n",
            "3DXORnet([1. 1. 1.]) = 0.9999564767776767\n",
            "\n",
            "\n",
            "3DXORnet([0. 0. 0.]) = 4.774863528215813e-05\n",
            "3DXORnet([0. 0. 1.]) = 0.9999247231335725\n",
            "3DXORnet([0. 1. 0.]) = 0.999917075537147\n",
            "3DXORnet([0. 1. 1.]) = 6.567677646328593e-05\n",
            "3DXORnet([1. 0. 0.]) = 0.9999216185444922\n",
            "3DXORnet([1. 0. 1.]) = 6.695059907857891e-05\n",
            "3DXORnet([1. 1. 0.]) = 8.67000491809877e-05\n",
            "3DXORnet([1. 1. 1.]) = 0.9999736763551287\n",
            "\n",
            "\n",
            "3DXORnet([0. 0. 0.]) = 5.70521394497228e-05\n",
            "3DXORnet([0. 0. 1.]) = 0.9999415510237047\n",
            "3DXORnet([0. 1. 0.]) = 0.9999411697759986\n",
            "3DXORnet([0. 1. 1.]) = 4.490346818704664e-05\n",
            "3DXORnet([1. 0. 0.]) = 0.9999395585275336\n",
            "3DXORnet([1. 0. 1.]) = 8.23962346969669e-05\n",
            "3DXORnet([1. 1. 0.]) = 4.34464974341526e-05\n",
            "3DXORnet([1. 1. 1.]) = 0.9999640539319811\n",
            "\n",
            "\n",
            "for hidden_dim 20\n",
            "\n",
            "3DXORnet([0. 0. 0.]) = 4.51058037288956e-05\n",
            "3DXORnet([0. 0. 1.]) = 0.9999487122964336\n",
            "3DXORnet([0. 1. 0.]) = 0.9999539418174808\n",
            "3DXORnet([0. 1. 1.]) = 3.9824161908822155e-05\n",
            "3DXORnet([1. 0. 0.]) = 0.9999438237858896\n",
            "3DXORnet([1. 0. 1.]) = 6.144400289112528e-05\n",
            "3DXORnet([1. 1. 0.]) = 3.809209268352905e-05\n",
            "3DXORnet([1. 1. 1.]) = 0.9999752299033028\n",
            "\n",
            "\n",
            "3DXORnet([0. 0. 0.]) = 4.619918803033728e-05\n",
            "3DXORnet([0. 0. 1.]) = 0.9999431662007776\n",
            "3DXORnet([0. 1. 0.]) = 0.9999494979109408\n",
            "3DXORnet([0. 1. 1.]) = 4.569359541145776e-05\n",
            "3DXORnet([1. 0. 0.]) = 0.9999412258554478\n",
            "3DXORnet([1. 0. 1.]) = 5.7984784010033455e-05\n",
            "3DXORnet([1. 1. 0.]) = 5.1042599061297656e-05\n",
            "3DXORnet([1. 1. 1.]) = 0.9999778041093844\n",
            "\n",
            "\n",
            "3DXORnet([0. 0. 0.]) = 4.807410355362413e-05\n",
            "3DXORnet([0. 0. 1.]) = 0.9999389778792729\n",
            "3DXORnet([0. 1. 0.]) = 0.999940495593796\n",
            "3DXORnet([0. 1. 1.]) = 5.0389575300912345e-05\n",
            "3DXORnet([1. 0. 0.]) = 0.9999282470673053\n",
            "3DXORnet([1. 0. 1.]) = 5.468695480793938e-05\n",
            "3DXORnet([1. 1. 0.]) = 6.717843523978707e-05\n",
            "3DXORnet([1. 1. 1.]) = 0.9999707690760845\n",
            "\n",
            "\n"
          ],
          "name": "stdout"
        }
      ]
    },
    {
      "cell_type": "markdown",
      "metadata": {
        "id": "4PcNxrCt-NcN"
      },
      "source": [
        "## Problem 6"
      ]
    },
    {
      "cell_type": "code",
      "metadata": {
        "id": "6Brepirl-Nln"
      },
      "source": [
        ""
      ],
      "execution_count": null,
      "outputs": []
    },
    {
      "cell_type": "markdown",
      "metadata": {
        "id": "nWuv7Q77-Nut"
      },
      "source": [
        "## Problem 7"
      ]
    },
    {
      "cell_type": "code",
      "metadata": {
        "id": "avuvSoWY-N4Z"
      },
      "source": [
        ""
      ],
      "execution_count": null,
      "outputs": []
    }
  ]
}