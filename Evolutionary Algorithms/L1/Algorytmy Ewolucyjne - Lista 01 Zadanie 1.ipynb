{
 "cells": [
  {
   "cell_type": "markdown",
   "metadata": {},
   "source": [
    "# Zadanie 1"
   ]
  },
  {
   "cell_type": "raw",
   "metadata": {},
   "source": [
    "# Popularne instancje QAP wraz z dokładnym minimum funkcji celu\n",
    "   Nug12   12    578 (OPT)    (12,7,9,3,4,8,11,1,5,6,10,2)                 \n",
    "   Nug14   14   1014 (OPT)    (9,8,13,2,1,11,7,14,3,4,12,5,6,10)            \n",
    "   Nug15   15   1150 (OPT)    (1,2,13,8,9,4,3,14,7,11,10,15,6,5,12)          \n",
    "   Nug16a  16   1610 (OPT)    (9,14,2,15,16,3,10,12,8,11,6,5,7,1,4,13)      \n",
    "   Nug16b  16   1240 (OPT)    (16,12,13,8,4,2,9,11,15,10,7,3,14,6,1,5)       \n",
    "   Nug17   17   1732 (OPT)    (16,15,2,14,9,11,8,12,10,3,4,1,7,6,13,17,5)       \n",
    "   Nug18   18   1930 (OPT)    (10,3,14,2,18,6,7,12,15,4,5,1,11,8,17,13,9,16)     \n",
    "   Nug20   20   2570 (OPT)    (18,14,10,3,9,4,2,12,11,16,19,15,20,8,13,17,5,7,1,6)\n",
    "   Nug21   21   2438 (OPT)    (4,21,3,9,13,2,5,14,18,11,16,10,6,15,20,19,8,7,1,12,17) \n",
    "   Nug22   22   3596 (OPT)    (2,21,9,10,7,3,1,19,8,20,17,5,13,6,12,16,11,22,18,14,15) \n",
    "   Nug24   24   3488 (OPT)    (17,8,11,23,4,20,15,19,22,18,3,14,1,10,7,9,16,21,24,12,6,13,5,2)\n",
    "   Nug25   25   3744 (OPT)    (5,11,20,15,22,2,25,8,9,1,18,16,3,6,19,24,21,14,7,10,17,12,4,23,13)\n",
    "*  Nug27   27   5234 (OPT)    (23,18,3,1,27,17,5,12,7,15,4,26,8,19,20,2,24,21,14,10,9,13,22,25,6,16,11)\n",
    "*  Nug28   28   5166 (OPT)    (18,21,9,1,28,20,11,3,13,12,10,19,14,22,15,2,25,16,4,23,7,17,24,26,5,27,8,6)\n",
    "*  Nug30   30   6124 (OPT)    (5 12 6 13 2 21 26 24 10 9 29 28 17 1 8 7 19 25 23 22 11 16 30 4 15 18 27 3 14 20)"
   ]
  },
  {
   "cell_type": "code",
   "execution_count": 264,
   "metadata": {},
   "outputs": [],
   "source": [
    "import numpy as np\n",
    "import matplotlib.pyplot as plt\n",
    "import time\n",
    "import urllib.request\n",
    "import seaborn as sns\n",
    "import pandas as pd\n",
    "from tqdm.auto import tqdm\n",
    "sns.set_style('whitegrid')\n",
    "\n",
    "\n",
    "%matplotlib inline"
   ]
  },
  {
   "cell_type": "markdown",
   "metadata": {},
   "source": [
    "## Reading input data"
   ]
  },
  {
   "cell_type": "code",
   "execution_count": 33,
   "metadata": {},
   "outputs": [],
   "source": [
    "def read_input_data(input_data):\n",
    "    qap_instance_file = urllib.request.urlopen(input_data)\n",
    "\n",
    "    line = qap_instance_file.readline()\n",
    "    n = int(line.decode()[:-1].split()[0])\n",
    "\n",
    "    A = np.empty((n, n))\n",
    "    qap_instance_file.readline()\n",
    "    for i in range(n):\n",
    "        line = qap_instance_file.readline()\n",
    "        A[i, :] = list(map(int, line.decode()[:-1].split()))\n",
    "\n",
    "    B = np.empty((n, n))\n",
    "    qap_instance_file.readline()\n",
    "    for i in range(n):\n",
    "        line = qap_instance_file.readline()\n",
    "        B[i, :] = list(map(int, line.decode()[:-1].split()))\n",
    "    \n",
    "    return (n, A, B)"
   ]
  },
  {
   "cell_type": "markdown",
   "metadata": {},
   "source": [
    "## Objective function"
   ]
  },
  {
   "cell_type": "code",
   "execution_count": 34,
   "metadata": {},
   "outputs": [],
   "source": [
    "def qap_objective_function(p, n):\n",
    "    s = 0.0\n",
    "    for i in range(n):\n",
    "        s += (A[i, :] * B[p[i], p]).sum()\n",
    "    return s"
   ]
  },
  {
   "cell_type": "markdown",
   "metadata": {},
   "source": [
    "## Simulated Annealing"
   ]
  },
  {
   "cell_type": "code",
   "execution_count": 35,
   "metadata": {},
   "outputs": [],
   "source": [
    "def random_neighbor(p, radius):\n",
    "    q = p.copy()\n",
    "    for r in range(radius):\n",
    "        i, j = np.random.choice(n, 2, replace=False)\n",
    "        q[i], q[j] = q[j], q[i]\n",
    "    return q"
   ]
  },
  {
   "cell_type": "code",
   "execution_count": 278,
   "metadata": {},
   "outputs": [],
   "source": [
    "def SA(T, radius, alpha):\n",
    "    t0 = time.time()\n",
    "\n",
    "    p = np.random.permutation(n)\n",
    "    p_cost = qap_objective_function(p, n)\n",
    "    costs = np.zeros(T)\n",
    "    for t in range(T):\n",
    "        q = random_neighbor(p, radius)\n",
    "        q_cost = qap_objective_function(q, n)\n",
    "        if(q_cost < p_cost):\n",
    "            p, p_cost = q, q_cost\n",
    "        elif(np.random.rand() < np.exp(- alpha * (q_cost - p_cost) * t/T)):\n",
    "            p, p_cost = q, q_cost\n",
    "        costs[t] = p_cost\n",
    "\n",
    "    print(time.time() - t0, costs.min())"
   ]
  },
  {
   "cell_type": "markdown",
   "metadata": {},
   "source": [
    "## a)\n",
    "### Nug14"
   ]
  },
  {
   "cell_type": "code",
   "execution_count": 279,
   "metadata": {},
   "outputs": [],
   "source": [
    "input_data = 'http://anjos.mgi.polymtl.ca/qaplib/data.d/nug14.dat'\n",
    "\n",
    "data = read_input_data(input_data)\n",
    "n = data[0]\n",
    "A = data[1]\n",
    "B = data[2]"
   ]
  },
  {
   "cell_type": "code",
   "execution_count": 60,
   "metadata": {},
   "outputs": [
    {
     "name": "stdout",
     "output_type": "stream",
     "text": [
      "1014.0 [8, 7, 12, 1, 0, 10, 6, 13, 2, 3, 11, 4, 5, 9]\n"
     ]
    }
   ],
   "source": [
    "p = [8, 7, 12, 1, 0, 10, 6, 13, 2, 3, 11, 4, 5, 9]\n",
    "\n",
    "print(qap_objective_function(p, n), p)"
   ]
  },
  {
   "cell_type": "code",
   "execution_count": 68,
   "metadata": {},
   "outputs": [
    {
     "name": "stdout",
     "output_type": "stream",
     "text": [
      "52.46540546417236 1014.0\n"
     ]
    }
   ],
   "source": [
    "SA(500000, 1, 1.25)"
   ]
  },
  {
   "cell_type": "markdown",
   "metadata": {},
   "source": [
    "### Nug18"
   ]
  },
  {
   "cell_type": "code",
   "execution_count": 77,
   "metadata": {},
   "outputs": [],
   "source": [
    "input_data = 'http://anjos.mgi.polymtl.ca/qaplib/data.d/nug18.dat'\n",
    "\n",
    "data = read_input_data(input_data)\n",
    "n = data[0]\n",
    "A = data[1]\n",
    "B = data[2]"
   ]
  },
  {
   "cell_type": "code",
   "execution_count": 78,
   "metadata": {},
   "outputs": [
    {
     "name": "stdout",
     "output_type": "stream",
     "text": [
      "1930.0 [9, 2, 13, 1, 17, 5, 6, 11, 14, 3, 4, 0, 10, 7, 16, 12, 8, 15]\n"
     ]
    }
   ],
   "source": [
    "p = [9, 2, 13, 1, 17, 5, 6, 11, 14, 3, 4, 0, 10, 7, 16, 12, 8, 15]\n",
    "\n",
    "print(qap_objective_function(p, n), p)"
   ]
  },
  {
   "cell_type": "code",
   "execution_count": 84,
   "metadata": {},
   "outputs": [
    {
     "name": "stdout",
     "output_type": "stream",
     "text": [
      "63.733742475509644 1930.0\n"
     ]
    }
   ],
   "source": [
    "SA(500000, 1, 1.25)"
   ]
  },
  {
   "cell_type": "markdown",
   "metadata": {},
   "source": [
    "### Nug24"
   ]
  },
  {
   "cell_type": "code",
   "execution_count": 74,
   "metadata": {},
   "outputs": [],
   "source": [
    "input_data = 'http://anjos.mgi.polymtl.ca/qaplib/data.d/nug24.dat'\n",
    "\n",
    "data = read_input_data(input_data)\n",
    "n = data[0]\n",
    "A = data[1]\n",
    "B = data[2]"
   ]
  },
  {
   "cell_type": "code",
   "execution_count": 75,
   "metadata": {},
   "outputs": [
    {
     "name": "stdout",
     "output_type": "stream",
     "text": [
      "3488.0 [16, 7, 10, 22, 3, 19, 14, 18, 21, 17, 2, 13, 0, 9, 6, 8, 15, 20, 23, 11, 5, 12, 4, 1]\n"
     ]
    }
   ],
   "source": [
    "p = [16, 7, 10, 22, 3, 19, 14, 18, 21, 17, 2, 13, 0, 9, 6, 8, 15, 20, 23, 11, 5, 12, 4, 1]\n",
    "\n",
    "print(qap_objective_function(p, n), p)"
   ]
  },
  {
   "cell_type": "code",
   "execution_count": 76,
   "metadata": {},
   "outputs": [
    {
     "name": "stdout",
     "output_type": "stream",
     "text": [
      "80.42590069770813 3488.0\n"
     ]
    }
   ],
   "source": [
    "SA(500000, 1, 1.25)"
   ]
  },
  {
   "cell_type": "markdown",
   "metadata": {},
   "source": [
    "## b)"
   ]
  },
  {
   "cell_type": "code",
   "execution_count": 277,
   "metadata": {
    "scrolled": true
   },
   "outputs": [],
   "source": [
    "T = 1000\n",
    "\n",
    "results = np.zeros(T)\n",
    "for i in tqdm(range(T)):\n",
    "    res = SA(500000, 1, 1.25)\n",
    "    results[i] = res"
   ]
  },
  {
   "cell_type": "code",
   "execution_count": 276,
   "metadata": {},
   "outputs": [
    {
     "data": {
      "image/png": "[encoded data removed]",
      "text/plain": [
       "<Figure size 432x288 with 1 Axes>"
      ]
     },
     "metadata": {
      "needs_background": "light"
     },
     "output_type": "display_data"
    },
    {
     "name": "stdout",
     "output_type": "stream",
     "text": [
      "1016.402 3.157593387375898\n"
     ]
    }
   ],
   "source": [
    "plt.figure()\n",
    "plt.hist(results, bins=100)\n",
    "plt.xlabel('objective function value')\n",
    "plt.ylabel('number of occurrences')\n",
    "plt.show()\n",
    "\n",
    "print(results.mean(), results.std())"
   ]
  },
  {
   "cell_type": "markdown",
   "metadata": {},
   "source": [
    "## c)"
   ]
  },
  {
   "cell_type": "code",
   "execution_count": 223,
   "metadata": {},
   "outputs": [],
   "source": [
    "input_data = 'http://anjos.mgi.polymtl.ca/qaplib/data.d/nug14.dat'\n",
    "\n",
    "rid = read_input_data(input_data)\n",
    "n = rid[0]\n",
    "A = rid[1]\n",
    "B = rid[2]"
   ]
  },
  {
   "cell_type": "code",
   "execution_count": 228,
   "metadata": {},
   "outputs": [],
   "source": [
    "def SA2(T, radius, alpha):\n",
    "\n",
    "    p = np.random.permutation(n)\n",
    "    p_cost = qap_objective_function(p, n)\n",
    "    costs = np.zeros(T)\n",
    "    success = 0\n",
    "    failure = 0\n",
    "    success_measure = []\n",
    "    failure_measure = []\n",
    "    for t in range(T):\n",
    "        q = random_neighbor(p, radius)\n",
    "        q_cost = qap_objective_function(q, n)\n",
    "        if(q_cost < p_cost):\n",
    "            p, p_cost = q, q_cost\n",
    "            success += 1\n",
    "        elif(np.random.rand() < np.exp(- alpha * (q_cost - p_cost) * t/T)):\n",
    "            p, p_cost = q, q_cost\n",
    "            failure += 1\n",
    "        costs[t] = p_cost\n",
    "        if t > 0 and t % 1000 == 0:\n",
    "            success_measure.append(success)\n",
    "            failure_measure.append(failure)\n",
    "            success = 0\n",
    "            failure = 0\n",
    "\n",
    "    return (success_measure, failure_measure)"
   ]
  },
  {
   "cell_type": "code",
   "execution_count": 229,
   "metadata": {},
   "outputs": [],
   "source": [
    "def print_measures(T, radius, alpha):\n",
    "    measures = SA2(T, radius, alpha)\n",
    "    title = 'T = ' + str(T) + ', radius = ' + str(radius) + ', alpha = ' + str(alpha)\n",
    "    plt.figure()\n",
    "    plt.plot(measures[0])\n",
    "    plt.plot(measures[1])\n",
    "    plt.title(title)\n",
    "    plt.xlabel(\"Thousand\")\n",
    "    plt.ylabel(\"Number of s/f in one thousand\")\n",
    "    plt.legend(['success', 'failure'], loc='upper right')\n",
    "    plt.show()"
   ]
  },
  {
   "cell_type": "code",
   "execution_count": 230,
   "metadata": {},
   "outputs": [
    {
     "data": {
      "image/png": "[encoded data removed]",
      "text/plain": [
       "<Figure size 432x288 with 1 Axes>"
      ]
     },
     "metadata": {
      "needs_background": "light"
     },
     "output_type": "display_data"
    }
   ],
   "source": [
    "print_measures(500000, 1, 1.25)"
   ]
  },
  {
   "cell_type": "code",
   "execution_count": 231,
   "metadata": {},
   "outputs": [
    {
     "data": {
      "image/png": "[encoded data removed]",
      "text/plain": [
       "<Figure size 432x288 with 1 Axes>"
      ]
     },
     "metadata": {
      "needs_background": "light"
     },
     "output_type": "display_data"
    }
   ],
   "source": [
    "print_measures(500000, 1, 0.25)"
   ]
  },
  {
   "cell_type": "code",
   "execution_count": 232,
   "metadata": {},
   "outputs": [
    {
     "data": {
      "image/png": "[encoded data removed]",
      "text/plain": [
       "<Figure size 432x288 with 1 Axes>"
      ]
     },
     "metadata": {
      "needs_background": "light"
     },
     "output_type": "display_data"
    }
   ],
   "source": [
    "print_measures(500000, 5, 1.25)"
   ]
  },
  {
   "cell_type": "markdown",
   "metadata": {},
   "source": [
    "## d)"
   ]
  },
  {
   "cell_type": "code",
   "execution_count": 156,
   "metadata": {},
   "outputs": [],
   "source": [
    "def perm_dist(p0, p1):\n",
    "    cnt = 0\n",
    "    for i in range(len(p0)):\n",
    "        if p0[i] != p1[i]:\n",
    "            cnt += 1\n",
    "    return cnt"
   ]
  },
  {
   "cell_type": "code",
   "execution_count": 214,
   "metadata": {},
   "outputs": [],
   "source": [
    "def SA3(T, radius, alpha, results):\n",
    "    \n",
    "    p = np.random.permutation(n)\n",
    "    p_cost = qap_objective_function(p, n)\n",
    "    costs = np.zeros(T)\n",
    "    for t in range(T):\n",
    "        q = random_neighbor(p, radius)\n",
    "        q_cost = qap_objective_function(q, n)\n",
    "        if(q_cost < p_cost):\n",
    "            results.append((perm_dist(p, q), p_cost - q_cost))\n",
    "            p, p_cost = q, q_cost\n",
    "        elif(np.random.rand() < np.exp(- alpha * (q_cost - p_cost) * t/T)):\n",
    "            p, p_cost = q, q_cost\n",
    "        costs[t] = p_cost\n",
    "        \n",
    "    return results"
   ]
  },
  {
   "cell_type": "code",
   "execution_count": 222,
   "metadata": {},
   "outputs": [
    {
     "data": {
      "image/png": "[encoded data removed]",
      "text/plain": [
       "<Figure size 432x288 with 1 Axes>"
      ]
     },
     "metadata": {
      "needs_background": "light"
     },
     "output_type": "display_data"
    }
   ],
   "source": [
    "def print_dependencies():\n",
    "    results = []\n",
    "    \n",
    "    for i in range(1, 8):\n",
    "        SA3(100000, i, 1.25, results)\n",
    "             \n",
    "    results = [{'permutation distance': dist, 'cost difference': diff} for dist, diff in results]\n",
    "    \n",
    "    results_df = pd.DataFrame(results)\n",
    "\n",
    "    a_plot = sns.regplot(x='permutation distance', y='cost difference', data = results_df, scatter_kws={'edgecolor': 'white'})\n",
    "    a_plot.set(xlim=(0, 14))\n",
    "    a_plot.set(ylim=(0, 275))\n",
    "\n",
    "print_dependencies()"
   ]
  },
  {
   "cell_type": "markdown",
   "metadata": {},
   "source": [
    "## e)"
   ]
  },
  {
   "cell_type": "code",
   "execution_count": 291,
   "metadata": {},
   "outputs": [],
   "source": [
    "def modified_SA(T, radius):\n",
    "    t0 = time.time()\n",
    "\n",
    "    p = np.random.permutation(n)\n",
    "    p_cost = qap_objective_function(p, n)\n",
    "    costs = np.zeros(T)\n",
    "    temp = p_cost * 0.5\n",
    "    print(temp)\n",
    "    for t in range(T):\n",
    "        q = random_neighbor(p, radius)\n",
    "        q_cost = qap_objective_function(q, n)\n",
    "        if(q_cost < p_cost):\n",
    "            p, p_cost = q, q_cost\n",
    "        elif(np.random.rand() < np.exp(- 1.0 * (q_cost - p_cost) / temp)):\n",
    "            p, p_cost = q, q_cost\n",
    "        costs[t] = p_cost\n",
    "        temp = 0.99999 * temp\n",
    "\n",
    "    print(time.time() - t0, costs.min())"
   ]
  },
  {
   "cell_type": "code",
   "execution_count": 288,
   "metadata": {},
   "outputs": [
    {
     "name": "stdout",
     "output_type": "stream",
     "text": [
      "55.32289457321167 1014.0\n"
     ]
    }
   ],
   "source": [
    "SA(500000, 1, 1.0)"
   ]
  },
  {
   "cell_type": "code",
   "execution_count": 292,
   "metadata": {},
   "outputs": [
    {
     "name": "stdout",
     "output_type": "stream",
     "text": [
      "663.0\n",
      "41.065154790878296 1014.0\n"
     ]
    }
   ],
   "source": [
    "modified_SA(400000, 1)"
   ]
  },
  {
   "cell_type": "code",
   "execution_count": 297,
   "metadata": {},
   "outputs": [
    {
     "name": "stdout",
     "output_type": "stream",
     "text": [
      "41.68435573577881 1018.0\n"
     ]
    }
   ],
   "source": [
    "SA(400000, 1, 1.0)"
   ]
  },
  {
   "cell_type": "code",
   "execution_count": null,
   "metadata": {},
   "outputs": [],
   "source": []
  }
 ],
 "metadata": {
  "kernelspec": {
   "display_name": "Python 3",
   "language": "python",
   "name": "python3"
  },
  "language_info": {
   "codemirror_mode": {
    "name": "ipython",
    "version": 3
   },
   "file_extension": ".py",
   "mimetype": "text/x-python",
   "name": "python",
   "nbconvert_exporter": "python",
   "pygments_lexer": "ipython3",
   "version": "3.8.5"
  }
 },
 "nbformat": 4,
 "nbformat_minor": 4
}
