{
 "cells": [
  {
   "cell_type": "code",
   "execution_count": 8,
   "metadata": {},
   "outputs": [],
   "source": [
    "import re\n",
    "import numpy as np"
   ]
  },
  {
   "cell_type": "code",
   "execution_count": 9,
   "metadata": {},
   "outputs": [],
   "source": [
    "def regex(text):\n",
    "    return re.sub(r'[^\\w\\s]', '', text).rstrip().lower().split()"
   ]
  },
  {
   "cell_type": "code",
   "execution_count": 10,
   "metadata": {},
   "outputs": [],
   "source": [
    "unigram_dict = {}\n",
    "\n",
    "with open('polish_corpora.txt', 'r', encoding='utf8') as f:\n",
    "    for line in f:\n",
    "        for x in regex(line):\n",
    "            if x not in unigram_dict:\n",
    "                unigram_dict[x] = 1\n",
    "            else:\n",
    "                unigram_dict[x] += 1"
   ]
  },
  {
   "cell_type": "code",
   "execution_count": 11,
   "metadata": {},
   "outputs": [],
   "source": [
    "tag_word_dict = {}\n",
    "\n",
    "with open('supertags.txt', 'r', encoding='utf8') as f:\n",
    "    for line in f:\n",
    "        l = line.split()\n",
    "        if l[1] not in tag_word_dict:\n",
    "            tag_word_dict[l[1]] = [l[0]]\n",
    "        else:\n",
    "            tag_word_dict[l[1]].append(l[0])"
   ]
  },
  {
   "cell_type": "code",
   "execution_count": 12,
   "metadata": {},
   "outputs": [],
   "source": [
    "word_tag_dict = {}\n",
    "\n",
    "with open('supertags.txt', 'r', encoding='utf8') as f:\n",
    "    for line in f:\n",
    "        l = line.split()\n",
    "        word_tag_dict[l[0]] = [l[1]]"
   ]
  },
  {
   "cell_type": "code",
   "execution_count": 13,
   "metadata": {},
   "outputs": [],
   "source": [
    "def find_tags(text):\n",
    "    tags = []\n",
    "    for x in regex(text):\n",
    "        if x in word_tag_dict:\n",
    "            tags.append(word_tag_dict[x])\n",
    "        else:\n",
    "            tags.append(('^' + x)[-3:])\n",
    "    return tags"
   ]
  },
  {
   "cell_type": "code",
   "execution_count": 36,
   "metadata": {},
   "outputs": [],
   "source": [
    "test = 'Mały Piotruś spotkał w niewielkiej restauracyjce wczoraj poznaną koleżankę.'\n",
    "test2 = 'Judyta dała wczoraj Stefanowi czekoladki.'\n",
    "test3 = 'Wczoraj wieczorem spotkałem pewną piękną kobietę.'"
   ]
  },
  {
   "cell_type": "code",
   "execution_count": 15,
   "metadata": {},
   "outputs": [],
   "source": [
    "def generate(text):\n",
    "    text_tags = find_tags(text)\n",
    "    res = ''\n",
    "    for t in text_tags:\n",
    "        p = []\n",
    "        for w in tag_word_dict[t[0]]:\n",
    "            if w in unigram_dict:\n",
    "                p.append(unigram_dict[w] + 1)\n",
    "            else:\n",
    "                p.append(1)\n",
    "        norm = sum(p)\n",
    "        p = [x / norm for x in p]\n",
    "        possible_words = tag_word_dict[t[0]]\n",
    "        word = np.random.choice(possible_words, 1, p)\n",
    "        res += word[0] + ' '\n",
    "    return res"
   ]
  },
  {
   "cell_type": "code",
   "execution_count": 92,
   "metadata": {},
   "outputs": [
    {
     "data": {
      "text/plain": [
       "'cherubinkowy koniokrad pogiął w niedrapieżnej kolejce odkrywkowo sfermentowaną uszczelkę '"
      ]
     },
     "execution_count": 92,
     "metadata": {},
     "output_type": "execute_result"
    }
   ],
   "source": [
    "generate(test)"
   ]
  },
  {
   "cell_type": "code",
   "execution_count": 45,
   "metadata": {},
   "outputs": [
    {
     "data": {
      "text/plain": [
       "'heterogonia wystrzelała hiperbolicznie podjudzaczowi alpinistyki '"
      ]
     },
     "execution_count": 45,
     "metadata": {},
     "output_type": "execute_result"
    }
   ],
   "source": [
    "generate(test2)"
   ]
  },
  {
   "cell_type": "code",
   "execution_count": 46,
   "metadata": {},
   "outputs": [
    {
     "data": {
      "text/plain": [
       "'zawadiacko naciskiem dopatrzyłem kaloryczną materialistyczną kohabitację '"
      ]
     },
     "execution_count": 46,
     "metadata": {},
     "output_type": "execute_result"
    }
   ],
   "source": [
    "generate(test3)"
   ]
  },
  {
   "cell_type": "code",
   "execution_count": null,
   "metadata": {},
   "outputs": [],
   "source": []
  }
 ],
 "metadata": {
  "kernelspec": {
   "display_name": "Python 3",
   "language": "python",
   "name": "python3"
  },
  "language_info": {
   "codemirror_mode": {
    "name": "ipython",
    "version": 3
   },
   "file_extension": ".py",
   "mimetype": "text/x-python",
   "name": "python",
   "nbconvert_exporter": "python",
   "pygments_lexer": "ipython3",
   "version": "3.8.5"
  }
 },
 "nbformat": 4,
 "nbformat_minor": 4
}
