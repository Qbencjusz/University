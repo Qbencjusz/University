{
 "cells": [
  {
   "cell_type": "code",
   "execution_count": 246,
   "metadata": {},
   "outputs": [],
   "source": [
    "import re\n",
    "import numpy as np\n",
    "import os"
   ]
  },
  {
   "cell_type": "code",
   "execution_count": 247,
   "metadata": {},
   "outputs": [],
   "source": [
    "def regex(text):\n",
    "    return re.sub(r'[^\\w\\s]', '', text).rstrip().lower().split()"
   ]
  },
  {
   "cell_type": "code",
   "execution_count": 248,
   "metadata": {},
   "outputs": [],
   "source": [
    "orzeszkowa_init = []\n",
    "with open ('korpus_orzeszkowej.txt', 'r', encoding='utf8') as f:\n",
    "    orzeszkowa_init = f.readlines()"
   ]
  },
  {
   "cell_type": "code",
   "execution_count": 249,
   "metadata": {},
   "outputs": [],
   "source": [
    "orzeszkowa = []\n",
    "for i in range(len(orzeszkowa_init)):\n",
    "    for x in regex(orzeszkowa_init[i]):\n",
    "        orzeszkowa.append(x)"
   ]
  },
  {
   "cell_type": "code",
   "execution_count": 250,
   "metadata": {},
   "outputs": [],
   "source": [
    "orzeszkowa_dict = {}\n",
    "\n",
    "for x in orzeszkowa:\n",
    "    if x not in orzeszkowa_dict:\n",
    "        orzeszkowa_dict[x] = 1\n",
    "    else:\n",
    "        orzeszkowa_dict[x] += 1\n",
    "        \n",
    "for x in orzeszkowa_dict:\n",
    "    orzeszkowa_dict[x] /= len(orzeszkowa)\n",
    "    orzeszkowa_dict[x] = np.log(orzeszkowa_dict[x])"
   ]
  },
  {
   "cell_type": "code",
   "execution_count": 251,
   "metadata": {},
   "outputs": [],
   "source": [
    "prus_init = []\n",
    "with open ('korpus_prusa.txt', 'r', encoding='utf8') as f:\n",
    "    prus_init = f.readlines()"
   ]
  },
  {
   "cell_type": "code",
   "execution_count": 252,
   "metadata": {},
   "outputs": [],
   "source": [
    "prus = []\n",
    "for i in range(len(prus_init)):\n",
    "    for x in regex(prus_init[i]):\n",
    "        prus.append(x)"
   ]
  },
  {
   "cell_type": "code",
   "execution_count": 253,
   "metadata": {},
   "outputs": [],
   "source": [
    "prus_dict = {}\n",
    "\n",
    "for x in prus:\n",
    "    if x not in prus_dict:\n",
    "        prus_dict[x] = 1\n",
    "    else:\n",
    "        prus_dict[x] += 1\n",
    "        \n",
    "for x in prus_dict:\n",
    "    prus_dict[x] /= len(prus)\n",
    "    prus_dict[x] = np.log(prus_dict[x])"
   ]
  },
  {
   "cell_type": "code",
   "execution_count": 254,
   "metadata": {},
   "outputs": [],
   "source": [
    "sienkiewicz_init = []\n",
    "with open ('korpus_sienkiewicza.txt', 'r', encoding='utf8') as f:\n",
    "    sienkiewicz_init = f.readlines()"
   ]
  },
  {
   "cell_type": "code",
   "execution_count": 255,
   "metadata": {},
   "outputs": [],
   "source": [
    "sienkiewicz = []\n",
    "for i in range(len(sienkiewicz_init)):\n",
    "    for x in regex(sienkiewicz_init[i]):\n",
    "        sienkiewicz.append(x)"
   ]
  },
  {
   "cell_type": "code",
   "execution_count": 256,
   "metadata": {},
   "outputs": [],
   "source": [
    "sienkiewicz_dict = {}\n",
    "\n",
    "for x in sienkiewicz:\n",
    "    if x not in sienkiewicz_dict:\n",
    "        sienkiewicz_dict[x] = 1\n",
    "    else:\n",
    "        sienkiewicz_dict[x] += 1\n",
    "\n",
    "for x in sienkiewicz_dict:\n",
    "    sienkiewicz_dict[x] /= len(sienkiewicz)\n",
    "    sienkiewicz_dict[x] = np.log(sienkiewicz_dict[x])"
   ]
  },
  {
   "cell_type": "code",
   "execution_count": 294,
   "metadata": {},
   "outputs": [],
   "source": [
    "def naive_bayes(test):\n",
    "    probs = np.zeros(3)\n",
    "    for x in test:\n",
    "        if x in orzeszkowa_dict:\n",
    "            probs[0] += orzeszkowa_dict[x]\n",
    "        else:\n",
    "            probs[0] += np.log(3e-6)\n",
    "        if x in prus_dict:\n",
    "            probs[1] += prus_dict[x]\n",
    "        else:\n",
    "            probs[1] += np.log(3e-6)\n",
    "        if x in sienkiewicz_dict:\n",
    "            probs[2] += sienkiewicz_dict[x]\n",
    "        else:\n",
    "            probs[2] += np.log(3e-6)\n",
    "    res = np.argmax(probs)\n",
    "    if res == 0:\n",
    "        return 'orzeszkowa'\n",
    "    elif res == 1:\n",
    "        return 'prus'\n",
    "    else:\n",
    "        return 'sienkiewicz'"
   ]
  },
  {
   "cell_type": "code",
   "execution_count": 295,
   "metadata": {},
   "outputs": [
    {
     "name": "stdout",
     "output_type": "stream",
     "text": [
      "orzeszkowa\n",
      "orzeszkowa\n",
      "orzeszkowa\n",
      "orzeszkowa\n",
      "orzeszkowa\n",
      "orzeszkowa\n",
      "orzeszkowa\n",
      "orzeszkowa\n",
      "orzeszkowa\n",
      "orzeszkowa\n",
      "orzeszkowa\n",
      "orzeszkowa\n",
      "prus\n",
      "prus\n",
      "prus\n",
      "prus\n",
      "prus\n",
      "prus\n",
      "prus\n",
      "prus\n",
      "prus\n",
      "prus\n",
      "prus\n",
      "prus\n",
      "prus\n",
      "prus\n",
      "prus\n",
      "prus\n",
      "prus\n",
      "prus\n",
      "prus\n",
      "prus\n",
      "prus\n",
      "sienkiewicz\n",
      "sienkiewicz\n",
      "sienkiewicz\n",
      "sienkiewicz\n",
      "prus\n",
      "prus\n",
      "prus\n",
      "prus\n",
      "sienkiewicz\n",
      "sienkiewicz\n",
      "prus\n",
      "sienkiewicz\n",
      "prus\n",
      "prus\n",
      "prus\n",
      "prus\n",
      "prus\n",
      "sienkiewicz\n",
      "prus\n",
      "prus\n",
      "prus\n",
      "sienkiewicz\n",
      "sienkiewicz\n",
      "sienkiewicz\n",
      "prus\n",
      "sienkiewicz\n",
      "prus\n"
     ]
    }
   ],
   "source": [
    "for file_name in os.listdir('testy1'):\n",
    "        with open('testy1' + '/' + file_name, 'r', encoding='utf8') as f:\n",
    "            file_init = f.readlines()\n",
    "        file = []\n",
    "        for i in range(len(file_init)):\n",
    "            for x in regex(file_init[i]):\n",
    "                file.append(x)\n",
    "        print(naive_bayes(file))"
   ]
  },
  {
   "cell_type": "code",
   "execution_count": null,
   "metadata": {},
   "outputs": [],
   "source": []
  }
 ],
 "metadata": {
  "kernelspec": {
   "display_name": "Python 3",
   "language": "python",
   "name": "python3"
  },
  "language_info": {
   "codemirror_mode": {
    "name": "ipython",
    "version": 3
   },
   "file_extension": ".py",
   "mimetype": "text/x-python",
   "name": "python",
   "nbconvert_exporter": "python",
   "pygments_lexer": "ipython3",
   "version": "3.8.5"
  }
 },
 "nbformat": 4,
 "nbformat_minor": 4
}
