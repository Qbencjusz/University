{
 "cells": [
  {
   "cell_type": "code",
   "execution_count": 1,
   "metadata": {},
   "outputs": [],
   "source": [
    "with open('words_for_ai1.txt', 'r', encoding='utf8') as f:\n",
    "    polish_words = f.read().splitlines()"
   ]
  },
  {
   "cell_type": "code",
   "execution_count": 7,
   "metadata": {},
   "outputs": [],
   "source": [
    "def matchmax(text):\n",
    "    sentence = ''\n",
    "    prefix = ''\n",
    "    for c in text:\n",
    "        flag = False\n",
    "        for w in polish_words:\n",
    "            if w.startswith(prefix + c):\n",
    "                prefix += c\n",
    "                flag = True\n",
    "                break\n",
    "        if not flag:\n",
    "            sentence += prefix + ' '\n",
    "            prefix = c   \n",
    "    return sentence"
   ]
  },
  {
   "cell_type": "code",
   "execution_count": 3,
   "metadata": {},
   "outputs": [],
   "source": [
    "def similarity(s0, s1):\n",
    "    s0List = s0.split(\" \")\n",
    "    s1List = s1.split(\" \")\n",
    "    return len(list(set(s0List)&set(s1List))) / len(set(s0List))"
   ]
  },
  {
   "cell_type": "code",
   "execution_count": 8,
   "metadata": {},
   "outputs": [
    {
     "name": "stdout",
     "output_type": "stream",
     "text": [
      "system euroraty chcesz kupować więcej niż gdzie indziej ?\n",
      "systeme uro raty chcesz kupować więcej niż gdzie indziej ? \n",
      "0.7777777777777778\n",
      "parlament zdecydował jednak inaczej i przyjął w ustawie z dnia 28.06.1996 r. jednoinstancyjne postępowanie orzeczniczo-lekarskie .\n",
      "parlament zdecydował jednaki nacze ji przyjął wu stawie zd nia 2 8 . 0 6 . 1 9 9 6 r . jednoinstancyjne postępowanie orzeczniczo - lekarskie . \n",
      "0.375\n",
      "po kampanii wrześniowej 1.dlek raportowała 77 czołgów l.t.m.35 utraconych ( wraz z wozami dowodzenia ) i 52 uszkodzone lub zepsute , lecz ostatecznie po naprawach straty bezpowrotne ograniczyły się do 7 czołgów i w lutym 1940 roku posiadano 195 czołgów na stanie .\n",
      "poka mp ani iw rześ nio wej 1 . dl ekra portowa ła 7 7 czołgów l . t . m . 3 5 utraconych ( wraz zwoz amidow odze nia ) i 5 2 uszkodzone lubz eps ute , leczo statecznie ponapraw ach straty bezpowrotne ograniczyły sięd o 7 czołgów iwl uty m 1 9 4 0 roku posiadano 1 9 5 czołgów nastanie . \n",
      "0.38461538461538464\n",
      "w rolach głównych wystąpili jake gyllenhaal , forest whitaker oraz rachel mcadams .\n",
      "wro lach głównych wystąpili jake gy lle n ha al , forest whi take rora zrac helm cad ams . \n",
      "0.46153846153846156\n",
      "zapieczone z pomidorami , bazylią i serem ...\n",
      "zapieczone z pomidorami , bazylią is erem . . . \n",
      "0.625\n",
      "może ten przypadek odstraszy innych kłusowników od tego procederu .\n",
      "może ten przypadek odstraszy innych kłusowników odte gopro cede ru . \n",
      "0.7\n",
      "ulgi i przywileje są w stosunkach między państwami zwykle wzajemne , ambasador ma tu niewielkie pole działania .\n",
      "ulgi ip rzy wilej es ą wst osun kach międzypaństw ami zwykle wzajemne , ambasador matu niewielkie pole działania . \n",
      "0.5\n",
      "pośród wzgórz do strony południowej do państwa wpływał wierzbiak , który znany był już ze złotonośnych piasków .\n",
      "pośród wzgórz dostro ny południowej dopa ń stwa wpływał wierzbi ak , który znany był już zezło tono śn y ch piasków . \n",
      "0.6470588235294118\n",
      "tutaj możecie zobaczyć , jak wygląda to w praktyce , na mapie są wyszczególnione miejsca objęte programem .\n",
      "tutaj możecie zobaczyć , jak wygląda towp rak tyc e , nama pies ą wyszczególnionem i ej sca objęte programem . \n",
      "0.5294117647058824\n",
      "art. 39 ust . 1 ustawy z dnia 29 sierpnia 1997r .\n",
      "art . 3 9 ust . 1 ustawy zd nia 2 9 sierpnia 1 9 9 7 r . \n",
      "0.45454545454545453\n",
      "237.21886658668518 s\n",
      "0.5454947666712372 %\n"
     ]
    }
   ],
   "source": [
    "import time\n",
    "\n",
    "similarity_measure = 0\n",
    "N = 10\n",
    "\n",
    "with open('polish_corpora.txt', 'r', encoding='utf8') as f2:\n",
    "    lines = [next(f2) for _ in range(N)]\n",
    "\n",
    "lines = [line.strip() for line in lines]\n",
    "\n",
    "start = time.time()\n",
    "for line in lines:\n",
    "    original = line.lower()\n",
    "    print(original)\n",
    "    result = matchmax(original.replace(\" \", \"\") + ' ')\n",
    "    print(result)\n",
    "    measure = similarity(original, result)\n",
    "    print(measure)\n",
    "    similarity_measure += measure\n",
    "end = time.time()\n",
    "print(f'{end - start}' + ' s')\n",
    "print(f'{similarity_measure / N}' + ' %')"
   ]
  },
  {
   "cell_type": "code",
   "execution_count": null,
   "metadata": {},
   "outputs": [],
   "source": []
  }
 ],
 "metadata": {
  "kernelspec": {
   "display_name": "Python 3",
   "language": "python",
   "name": "python3"
  },
  "language_info": {
   "codemirror_mode": {
    "name": "ipython",
    "version": 3
   },
   "file_extension": ".py",
   "mimetype": "text/x-python",
   "name": "python",
   "nbconvert_exporter": "python",
   "pygments_lexer": "ipython3",
   "version": "3.8.5"
  }
 },
 "nbformat": 4,
 "nbformat_minor": 4
}
