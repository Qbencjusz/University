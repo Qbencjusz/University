{
 "cells": [
  {
   "cell_type": "code",
   "execution_count": 4,
   "metadata": {},
   "outputs": [],
   "source": [
    "sentences = []\n",
    "with open('sentences_for_task1.txt', 'r', encoding='utf8') as f:\n",
    "    for line in f:\n",
    "        sentences.append(line.rstrip())"
   ]
  },
  {
   "cell_type": "code",
   "execution_count": 59,
   "metadata": {},
   "outputs": [],
   "source": [
    "tests = []\n",
    "with open('test_for_task1.txt', 'r', encoding='utf8') as f:\n",
    "    for line in f:\n",
    "        l = line.split()\n",
    "        tests.append(l)"
   ]
  },
  {
   "cell_type": "code",
   "execution_count": 14,
   "metadata": {},
   "outputs": [],
   "source": [
    "prefix_dict = {}\n",
    "sufix_dict = {}\n",
    "for i in range(3, 7):\n",
    "    prefix_dict[i] = [sentences[0][:i]]\n",
    "    sufix_dict[i] = [sentences[0][-i:]]\n",
    "for j in range(1, len(sentences)):\n",
    "    for i in range(3, 7):\n",
    "        prefix_dict[i].append(sentences[j][:i])\n",
    "        sufix_dict[i].append(sentences[j][-i:])"
   ]
  },
  {
   "cell_type": "code",
   "execution_count": 33,
   "metadata": {},
   "outputs": [],
   "source": [
    "def word_val(word):\n",
    "    val = 0\n",
    "    for i in range(3, 7):\n",
    "        if word[:i] in prefix_dict[i]:\n",
    "            val += 1\n",
    "        if word[-i:] in sufix_dict[i]:\n",
    "            val += 1\n",
    "    return val"
   ]
  },
  {
   "cell_type": "code",
   "execution_count": 77,
   "metadata": {},
   "outputs": [],
   "source": [
    "def measure():\n",
    "    score = 0\n",
    "    i = 0\n",
    "    for test in tests:\n",
    "        val1 = word_val(test[0])\n",
    "        val2 = word_val(test[1])\n",
    "        if val1 > val2:\n",
    "            score += 1\n",
    "        elif val1 == val2:\n",
    "            score += 0.5\n",
    "        i += 1\n",
    "        if i != 0 and i % 10000 == 0:\n",
    "            print(score)\n",
    "    return score / len(tests)"
   ]
  },
  {
   "cell_type": "code",
   "execution_count": 78,
   "metadata": {},
   "outputs": [
    {
     "name": "stdout",
     "output_type": "stream",
     "text": [
      "8173.0\n",
      "16343.0\n",
      "24505.5\n",
      "32659.0\n",
      "40808.0\n",
      "48929.5\n",
      "57068.0\n",
      "65245.0\n",
      "73366.5\n",
      "81558.0\n"
     ]
    },
    {
     "data": {
      "text/plain": [
       "0.81558"
      ]
     },
     "execution_count": 78,
     "metadata": {},
     "output_type": "execute_result"
    }
   ],
   "source": [
    "measure()"
   ]
  },
  {
   "cell_type": "code",
   "execution_count": null,
   "metadata": {},
   "outputs": [],
   "source": []
  }
 ],
 "metadata": {
  "kernelspec": {
   "display_name": "Python 3",
   "language": "python",
   "name": "python3"
  },
  "language_info": {
   "codemirror_mode": {
    "name": "ipython",
    "version": 3
   },
   "file_extension": ".py",
   "mimetype": "text/x-python",
   "name": "python",
   "nbconvert_exporter": "python",
   "pygments_lexer": "ipython3",
   "version": "3.8.5"
  }
 },
 "nbformat": 4,
 "nbformat_minor": 4
}
