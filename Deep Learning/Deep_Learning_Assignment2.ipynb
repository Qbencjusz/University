{
  "nbformat": 4,
  "nbformat_minor": 0,
  "metadata": {
    "accelerator": "GPU",
    "colab": {
      "name": "Deep Learning Assignment2.ipynb",
      "provenance": [],
      "collapsed_sections": [],
      "toc_visible": true
    },
    "kernelspec": {
      "display_name": "Python 3",
      "language": "python",
      "name": "python3"
    },
    "language_info": {
      "codemirror_mode": {
        "name": "ipython",
        "version": 3
      },
      "file_extension": ".py",
      "mimetype": "text/x-python",
      "name": "python",
      "nbconvert_exporter": "python",
      "pygments_lexer": "ipython3",
      "version": "3.8.3"
    },
    "widgets": {
      "application/vnd.jupyter.widget-state+json": {
        "947baea25a0b4e3b86c7741f227430fc": {
          "model_module": "@jupyter-widgets/controls",
          "model_name": "HBoxModel",
          "state": {
            "_view_name": "HBoxView",
            "_dom_classes": [],
            "_model_name": "HBoxModel",
            "_view_module": "@jupyter-widgets/controls",
            "_model_module_version": "1.5.0",
            "_view_count": null,
            "_view_module_version": "1.5.0",
            "box_style": "",
            "layout": "IPY_MODEL_69428e836922418ab5d7c80473bd1a33",
            "_model_module": "@jupyter-widgets/controls",
            "children": [
              "IPY_MODEL_89f2a5065d0a46bab281d4ed2232f70f",
              "IPY_MODEL_e33cd8ac7d6942b3bd3965dbf9352629"
            ]
          }
        },
        "69428e836922418ab5d7c80473bd1a33": {
          "model_module": "@jupyter-widgets/base",
          "model_name": "LayoutModel",
          "state": {
            "_view_name": "LayoutView",
            "grid_template_rows": null,
            "right": null,
            "justify_content": null,
            "_view_module": "@jupyter-widgets/base",
            "overflow": null,
            "_model_module_version": "1.2.0",
            "_view_count": null,
            "flex_flow": null,
            "width": null,
            "min_width": null,
            "border": null,
            "align_items": null,
            "bottom": null,
            "_model_module": "@jupyter-widgets/base",
            "top": null,
            "grid_column": null,
            "overflow_y": null,
            "overflow_x": null,
            "grid_auto_flow": null,
            "grid_area": null,
            "grid_template_columns": null,
            "flex": null,
            "_model_name": "LayoutModel",
            "justify_items": null,
            "grid_row": null,
            "max_height": null,
            "align_content": null,
            "visibility": null,
            "align_self": null,
            "height": null,
            "min_height": null,
            "padding": null,
            "grid_auto_rows": null,
            "grid_gap": null,
            "max_width": null,
            "order": null,
            "_view_module_version": "1.2.0",
            "grid_template_areas": null,
            "object_position": null,
            "object_fit": null,
            "grid_auto_columns": null,
            "margin": null,
            "display": null,
            "left": null
          }
        },
        "89f2a5065d0a46bab281d4ed2232f70f": {
          "model_module": "@jupyter-widgets/controls",
          "model_name": "FloatProgressModel",
          "state": {
            "_view_name": "ProgressView",
            "style": "IPY_MODEL_684d97b30f784981a5c4d4bfaa373a44",
            "_dom_classes": [],
            "description": "100%",
            "_model_name": "FloatProgressModel",
            "bar_style": "success",
            "max": 50000,
            "_view_module": "@jupyter-widgets/controls",
            "_model_module_version": "1.5.0",
            "value": 50000,
            "_view_count": null,
            "_view_module_version": "1.5.0",
            "orientation": "horizontal",
            "min": 0,
            "description_tooltip": null,
            "_model_module": "@jupyter-widgets/controls",
            "layout": "IPY_MODEL_44b599813f974195a2f919c51f5cee1d"
          }
        },
        "e33cd8ac7d6942b3bd3965dbf9352629": {
          "model_module": "@jupyter-widgets/controls",
          "model_name": "HTMLModel",
          "state": {
            "_view_name": "HTMLView",
            "style": "IPY_MODEL_a61e788d72b04d5481908628ca6b415e",
            "_dom_classes": [],
            "description": "",
            "_model_name": "HTMLModel",
            "placeholder": "​",
            "_view_module": "@jupyter-widgets/controls",
            "_model_module_version": "1.5.0",
            "value": " 50000/50000 [00:07&lt;00:00, 6535.07it/s]",
            "_view_count": null,
            "_view_module_version": "1.5.0",
            "description_tooltip": null,
            "_model_module": "@jupyter-widgets/controls",
            "layout": "IPY_MODEL_3704cc5121dc4fc5bd0144957749022f"
          }
        },
        "684d97b30f784981a5c4d4bfaa373a44": {
          "model_module": "@jupyter-widgets/controls",
          "model_name": "ProgressStyleModel",
          "state": {
            "_view_name": "StyleView",
            "_model_name": "ProgressStyleModel",
            "description_width": "initial",
            "_view_module": "@jupyter-widgets/base",
            "_model_module_version": "1.5.0",
            "_view_count": null,
            "_view_module_version": "1.2.0",
            "bar_color": null,
            "_model_module": "@jupyter-widgets/controls"
          }
        },
        "44b599813f974195a2f919c51f5cee1d": {
          "model_module": "@jupyter-widgets/base",
          "model_name": "LayoutModel",
          "state": {
            "_view_name": "LayoutView",
            "grid_template_rows": null,
            "right": null,
            "justify_content": null,
            "_view_module": "@jupyter-widgets/base",
            "overflow": null,
            "_model_module_version": "1.2.0",
            "_view_count": null,
            "flex_flow": null,
            "width": null,
            "min_width": null,
            "border": null,
            "align_items": null,
            "bottom": null,
            "_model_module": "@jupyter-widgets/base",
            "top": null,
            "grid_column": null,
            "overflow_y": null,
            "overflow_x": null,
            "grid_auto_flow": null,
            "grid_area": null,
            "grid_template_columns": null,
            "flex": null,
            "_model_name": "LayoutModel",
            "justify_items": null,
            "grid_row": null,
            "max_height": null,
            "align_content": null,
            "visibility": null,
            "align_self": null,
            "height": null,
            "min_height": null,
            "padding": null,
            "grid_auto_rows": null,
            "grid_gap": null,
            "max_width": null,
            "order": null,
            "_view_module_version": "1.2.0",
            "grid_template_areas": null,
            "object_position": null,
            "object_fit": null,
            "grid_auto_columns": null,
            "margin": null,
            "display": null,
            "left": null
          }
        },
        "a61e788d72b04d5481908628ca6b415e": {
          "model_module": "@jupyter-widgets/controls",
          "model_name": "DescriptionStyleModel",
          "state": {
            "_view_name": "StyleView",
            "_model_name": "DescriptionStyleModel",
            "description_width": "",
            "_view_module": "@jupyter-widgets/base",
            "_model_module_version": "1.5.0",
            "_view_count": null,
            "_view_module_version": "1.2.0",
            "_model_module": "@jupyter-widgets/controls"
          }
        },
        "3704cc5121dc4fc5bd0144957749022f": {
          "model_module": "@jupyter-widgets/base",
          "model_name": "LayoutModel",
          "state": {
            "_view_name": "LayoutView",
            "grid_template_rows": null,
            "right": null,
            "justify_content": null,
            "_view_module": "@jupyter-widgets/base",
            "overflow": null,
            "_model_module_version": "1.2.0",
            "_view_count": null,
            "flex_flow": null,
            "width": null,
            "min_width": null,
            "border": null,
            "align_items": null,
            "bottom": null,
            "_model_module": "@jupyter-widgets/base",
            "top": null,
            "grid_column": null,
            "overflow_y": null,
            "overflow_x": null,
            "grid_auto_flow": null,
            "grid_area": null,
            "grid_template_columns": null,
            "flex": null,
            "_model_name": "LayoutModel",
            "justify_items": null,
            "grid_row": null,
            "max_height": null,
            "align_content": null,
            "visibility": null,
            "align_self": null,
            "height": null,
            "min_height": null,
            "padding": null,
            "grid_auto_rows": null,
            "grid_gap": null,
            "max_width": null,
            "order": null,
            "_view_module_version": "1.2.0",
            "grid_template_areas": null,
            "object_position": null,
            "object_fit": null,
            "grid_auto_columns": null,
            "margin": null,
            "display": null,
            "left": null
          }
        },
        "2e50bbe8c37041859b07ca1b0d1fbbd9": {
          "model_module": "@jupyter-widgets/controls",
          "model_name": "HBoxModel",
          "state": {
            "_view_name": "HBoxView",
            "_dom_classes": [],
            "_model_name": "HBoxModel",
            "_view_module": "@jupyter-widgets/controls",
            "_model_module_version": "1.5.0",
            "_view_count": null,
            "_view_module_version": "1.5.0",
            "box_style": "",
            "layout": "IPY_MODEL_1e0d90edd7d545b285a6a78912b8712b",
            "_model_module": "@jupyter-widgets/controls",
            "children": [
              "IPY_MODEL_bedb4217e8f34a00a0e63e85def03ffc",
              "IPY_MODEL_9c35f6260d2a46d5adbd4734274b1614"
            ]
          }
        },
        "1e0d90edd7d545b285a6a78912b8712b": {
          "model_module": "@jupyter-widgets/base",
          "model_name": "LayoutModel",
          "state": {
            "_view_name": "LayoutView",
            "grid_template_rows": null,
            "right": null,
            "justify_content": null,
            "_view_module": "@jupyter-widgets/base",
            "overflow": null,
            "_model_module_version": "1.2.0",
            "_view_count": null,
            "flex_flow": null,
            "width": null,
            "min_width": null,
            "border": null,
            "align_items": null,
            "bottom": null,
            "_model_module": "@jupyter-widgets/base",
            "top": null,
            "grid_column": null,
            "overflow_y": null,
            "overflow_x": null,
            "grid_auto_flow": null,
            "grid_area": null,
            "grid_template_columns": null,
            "flex": null,
            "_model_name": "LayoutModel",
            "justify_items": null,
            "grid_row": null,
            "max_height": null,
            "align_content": null,
            "visibility": null,
            "align_self": null,
            "height": null,
            "min_height": null,
            "padding": null,
            "grid_auto_rows": null,
            "grid_gap": null,
            "max_width": null,
            "order": null,
            "_view_module_version": "1.2.0",
            "grid_template_areas": null,
            "object_position": null,
            "object_fit": null,
            "grid_auto_columns": null,
            "margin": null,
            "display": null,
            "left": null
          }
        },
        "bedb4217e8f34a00a0e63e85def03ffc": {
          "model_module": "@jupyter-widgets/controls",
          "model_name": "FloatProgressModel",
          "state": {
            "_view_name": "ProgressView",
            "style": "IPY_MODEL_4fcfc3800cc547f992a73a0326559191",
            "_dom_classes": [],
            "description": "100%",
            "_model_name": "FloatProgressModel",
            "bar_style": "success",
            "max": 10000,
            "_view_module": "@jupyter-widgets/controls",
            "_model_module_version": "1.5.0",
            "value": 10000,
            "_view_count": null,
            "_view_module_version": "1.5.0",
            "orientation": "horizontal",
            "min": 0,
            "description_tooltip": null,
            "_model_module": "@jupyter-widgets/controls",
            "layout": "IPY_MODEL_43a9e0293869452c9987b10f85e69977"
          }
        },
        "9c35f6260d2a46d5adbd4734274b1614": {
          "model_module": "@jupyter-widgets/controls",
          "model_name": "HTMLModel",
          "state": {
            "_view_name": "HTMLView",
            "style": "IPY_MODEL_b317d5d06a494a1fb79f1aedcb35660d",
            "_dom_classes": [],
            "description": "",
            "_model_name": "HTMLModel",
            "placeholder": "​",
            "_view_module": "@jupyter-widgets/controls",
            "_model_module_version": "1.5.0",
            "value": " 10000/10000 [03:06&lt;00:00, 53.58it/s]",
            "_view_count": null,
            "_view_module_version": "1.5.0",
            "description_tooltip": null,
            "_model_module": "@jupyter-widgets/controls",
            "layout": "IPY_MODEL_c323ea4c0317434c905cfae092c7b58b"
          }
        },
        "4fcfc3800cc547f992a73a0326559191": {
          "model_module": "@jupyter-widgets/controls",
          "model_name": "ProgressStyleModel",
          "state": {
            "_view_name": "StyleView",
            "_model_name": "ProgressStyleModel",
            "description_width": "initial",
            "_view_module": "@jupyter-widgets/base",
            "_model_module_version": "1.5.0",
            "_view_count": null,
            "_view_module_version": "1.2.0",
            "bar_color": null,
            "_model_module": "@jupyter-widgets/controls"
          }
        },
        "43a9e0293869452c9987b10f85e69977": {
          "model_module": "@jupyter-widgets/base",
          "model_name": "LayoutModel",
          "state": {
            "_view_name": "LayoutView",
            "grid_template_rows": null,
            "right": null,
            "justify_content": null,
            "_view_module": "@jupyter-widgets/base",
            "overflow": null,
            "_model_module_version": "1.2.0",
            "_view_count": null,
            "flex_flow": null,
            "width": null,
            "min_width": null,
            "border": null,
            "align_items": null,
            "bottom": null,
            "_model_module": "@jupyter-widgets/base",
            "top": null,
            "grid_column": null,
            "overflow_y": null,
            "overflow_x": null,
            "grid_auto_flow": null,
            "grid_area": null,
            "grid_template_columns": null,
            "flex": null,
            "_model_name": "LayoutModel",
            "justify_items": null,
            "grid_row": null,
            "max_height": null,
            "align_content": null,
            "visibility": null,
            "align_self": null,
            "height": null,
            "min_height": null,
            "padding": null,
            "grid_auto_rows": null,
            "grid_gap": null,
            "max_width": null,
            "order": null,
            "_view_module_version": "1.2.0",
            "grid_template_areas": null,
            "object_position": null,
            "object_fit": null,
            "grid_auto_columns": null,
            "margin": null,
            "display": null,
            "left": null
          }
        },
        "b317d5d06a494a1fb79f1aedcb35660d": {
          "model_module": "@jupyter-widgets/controls",
          "model_name": "DescriptionStyleModel",
          "state": {
            "_view_name": "StyleView",
            "_model_name": "DescriptionStyleModel",
            "description_width": "",
            "_view_module": "@jupyter-widgets/base",
            "_model_module_version": "1.5.0",
            "_view_count": null,
            "_view_module_version": "1.2.0",
            "_model_module": "@jupyter-widgets/controls"
          }
        },
        "c323ea4c0317434c905cfae092c7b58b": {
          "model_module": "@jupyter-widgets/base",
          "model_name": "LayoutModel",
          "state": {
            "_view_name": "LayoutView",
            "grid_template_rows": null,
            "right": null,
            "justify_content": null,
            "_view_module": "@jupyter-widgets/base",
            "overflow": null,
            "_model_module_version": "1.2.0",
            "_view_count": null,
            "flex_flow": null,
            "width": null,
            "min_width": null,
            "border": null,
            "align_items": null,
            "bottom": null,
            "_model_module": "@jupyter-widgets/base",
            "top": null,
            "grid_column": null,
            "overflow_y": null,
            "overflow_x": null,
            "grid_auto_flow": null,
            "grid_area": null,
            "grid_template_columns": null,
            "flex": null,
            "_model_name": "LayoutModel",
            "justify_items": null,
            "grid_row": null,
            "max_height": null,
            "align_content": null,
            "visibility": null,
            "align_self": null,
            "height": null,
            "min_height": null,
            "padding": null,
            "grid_auto_rows": null,
            "grid_gap": null,
            "max_width": null,
            "order": null,
            "_view_module_version": "1.2.0",
            "grid_template_areas": null,
            "object_position": null,
            "object_fit": null,
            "grid_auto_columns": null,
            "margin": null,
            "display": null,
            "left": null
          }
        },
        "dfbb0c1bd4964e4b8f06e3437922532e": {
          "model_module": "@jupyter-widgets/controls",
          "model_name": "HBoxModel",
          "state": {
            "_view_name": "HBoxView",
            "_dom_classes": [],
            "_model_name": "HBoxModel",
            "_view_module": "@jupyter-widgets/controls",
            "_model_module_version": "1.5.0",
            "_view_count": null,
            "_view_module_version": "1.5.0",
            "box_style": "",
            "layout": "IPY_MODEL_ab6fda11b6094a778fd9578bfa695bc9",
            "_model_module": "@jupyter-widgets/controls",
            "children": [
              "IPY_MODEL_56e2e6fe4f144b4299a1279f547349ca",
              "IPY_MODEL_426fe7aaf4ea4eddaa7e78ae903d353a"
            ]
          }
        },
        "ab6fda11b6094a778fd9578bfa695bc9": {
          "model_module": "@jupyter-widgets/base",
          "model_name": "LayoutModel",
          "state": {
            "_view_name": "LayoutView",
            "grid_template_rows": null,
            "right": null,
            "justify_content": null,
            "_view_module": "@jupyter-widgets/base",
            "overflow": null,
            "_model_module_version": "1.2.0",
            "_view_count": null,
            "flex_flow": null,
            "width": null,
            "min_width": null,
            "border": null,
            "align_items": null,
            "bottom": null,
            "_model_module": "@jupyter-widgets/base",
            "top": null,
            "grid_column": null,
            "overflow_y": null,
            "overflow_x": null,
            "grid_auto_flow": null,
            "grid_area": null,
            "grid_template_columns": null,
            "flex": null,
            "_model_name": "LayoutModel",
            "justify_items": null,
            "grid_row": null,
            "max_height": null,
            "align_content": null,
            "visibility": null,
            "align_self": null,
            "height": null,
            "min_height": null,
            "padding": null,
            "grid_auto_rows": null,
            "grid_gap": null,
            "max_width": null,
            "order": null,
            "_view_module_version": "1.2.0",
            "grid_template_areas": null,
            "object_position": null,
            "object_fit": null,
            "grid_auto_columns": null,
            "margin": null,
            "display": null,
            "left": null
          }
        },
        "56e2e6fe4f144b4299a1279f547349ca": {
          "model_module": "@jupyter-widgets/controls",
          "model_name": "FloatProgressModel",
          "state": {
            "_view_name": "ProgressView",
            "style": "IPY_MODEL_1b837e28c99845b984bbd1650528464b",
            "_dom_classes": [],
            "description": "100%",
            "_model_name": "FloatProgressModel",
            "bar_style": "success",
            "max": 10000,
            "_view_module": "@jupyter-widgets/controls",
            "_model_module_version": "1.5.0",
            "value": 10000,
            "_view_count": null,
            "_view_module_version": "1.5.0",
            "orientation": "horizontal",
            "min": 0,
            "description_tooltip": null,
            "_model_module": "@jupyter-widgets/controls",
            "layout": "IPY_MODEL_8a618d1dcd4e422980eb30ef5bf3330c"
          }
        },
        "426fe7aaf4ea4eddaa7e78ae903d353a": {
          "model_module": "@jupyter-widgets/controls",
          "model_name": "HTMLModel",
          "state": {
            "_view_name": "HTMLView",
            "style": "IPY_MODEL_dffa480cdf6d4c5083a090a97147645e",
            "_dom_classes": [],
            "description": "",
            "_model_name": "HTMLModel",
            "placeholder": "​",
            "_view_module": "@jupyter-widgets/controls",
            "_model_module_version": "1.5.0",
            "value": " 10000/10000 [03:05&lt;00:00, 54.03it/s]",
            "_view_count": null,
            "_view_module_version": "1.5.0",
            "description_tooltip": null,
            "_model_module": "@jupyter-widgets/controls",
            "layout": "IPY_MODEL_1f270305eebd4be68320485ab4077fc3"
          }
        },
        "1b837e28c99845b984bbd1650528464b": {
          "model_module": "@jupyter-widgets/controls",
          "model_name": "ProgressStyleModel",
          "state": {
            "_view_name": "StyleView",
            "_model_name": "ProgressStyleModel",
            "description_width": "initial",
            "_view_module": "@jupyter-widgets/base",
            "_model_module_version": "1.5.0",
            "_view_count": null,
            "_view_module_version": "1.2.0",
            "bar_color": null,
            "_model_module": "@jupyter-widgets/controls"
          }
        },
        "8a618d1dcd4e422980eb30ef5bf3330c": {
          "model_module": "@jupyter-widgets/base",
          "model_name": "LayoutModel",
          "state": {
            "_view_name": "LayoutView",
            "grid_template_rows": null,
            "right": null,
            "justify_content": null,
            "_view_module": "@jupyter-widgets/base",
            "overflow": null,
            "_model_module_version": "1.2.0",
            "_view_count": null,
            "flex_flow": null,
            "width": null,
            "min_width": null,
            "border": null,
            "align_items": null,
            "bottom": null,
            "_model_module": "@jupyter-widgets/base",
            "top": null,
            "grid_column": null,
            "overflow_y": null,
            "overflow_x": null,
            "grid_auto_flow": null,
            "grid_area": null,
            "grid_template_columns": null,
            "flex": null,
            "_model_name": "LayoutModel",
            "justify_items": null,
            "grid_row": null,
            "max_height": null,
            "align_content": null,
            "visibility": null,
            "align_self": null,
            "height": null,
            "min_height": null,
            "padding": null,
            "grid_auto_rows": null,
            "grid_gap": null,
            "max_width": null,
            "order": null,
            "_view_module_version": "1.2.0",
            "grid_template_areas": null,
            "object_position": null,
            "object_fit": null,
            "grid_auto_columns": null,
            "margin": null,
            "display": null,
            "left": null
          }
        },
        "dffa480cdf6d4c5083a090a97147645e": {
          "model_module": "@jupyter-widgets/controls",
          "model_name": "DescriptionStyleModel",
          "state": {
            "_view_name": "StyleView",
            "_model_name": "DescriptionStyleModel",
            "description_width": "",
            "_view_module": "@jupyter-widgets/base",
            "_model_module_version": "1.5.0",
            "_view_count": null,
            "_view_module_version": "1.2.0",
            "_model_module": "@jupyter-widgets/controls"
          }
        },
        "1f270305eebd4be68320485ab4077fc3": {
          "model_module": "@jupyter-widgets/base",
          "model_name": "LayoutModel",
          "state": {
            "_view_name": "LayoutView",
            "grid_template_rows": null,
            "right": null,
            "justify_content": null,
            "_view_module": "@jupyter-widgets/base",
            "overflow": null,
            "_model_module_version": "1.2.0",
            "_view_count": null,
            "flex_flow": null,
            "width": null,
            "min_width": null,
            "border": null,
            "align_items": null,
            "bottom": null,
            "_model_module": "@jupyter-widgets/base",
            "top": null,
            "grid_column": null,
            "overflow_y": null,
            "overflow_x": null,
            "grid_auto_flow": null,
            "grid_area": null,
            "grid_template_columns": null,
            "flex": null,
            "_model_name": "LayoutModel",
            "justify_items": null,
            "grid_row": null,
            "max_height": null,
            "align_content": null,
            "visibility": null,
            "align_self": null,
            "height": null,
            "min_height": null,
            "padding": null,
            "grid_auto_rows": null,
            "grid_gap": null,
            "max_width": null,
            "order": null,
            "_view_module_version": "1.2.0",
            "grid_template_areas": null,
            "object_position": null,
            "object_fit": null,
            "grid_auto_columns": null,
            "margin": null,
            "display": null,
            "left": null
          }
        }
      }
    }
  },
  "cells": [
    {
      "cell_type": "markdown",
      "metadata": {
        "id": "CzR6cZvYkyl6"
      },
      "source": [
        "## Assignment 2\n",
        "\n",
        "**Submission deadlines:** \n",
        "- get at least 4 points by Tuesday, 23.03.2021\n",
        "- remaining points: last lab session before or on Tuesday, 13.04.2021 (02.04.2021 – 06.04.2021 there is Easter break)\n",
        "\n",
        "**Points:** Aim to get 16 out of 20+ possible points\n",
        "\n",
        "## Submission instructions\n",
        "The class is held remotely. To submit your solutions please show the notebook over the video call. Make sure you know all the questions and answers, and that the notebook contains results (before presentation do `Runtime -> Restart and run all`)\n",
        "\n",
        "We provide starter code, however, you are not required to use it as long as you properly solve the tasks.\n",
        "\n",
        "As always, please submit corrections using GitHub's Pull Requests to https://github.com/janchorowski/dl_uwr."
      ]
    },
    {
      "cell_type": "markdown",
      "metadata": {
        "id": "eJ7DqCH7NDlC"
      },
      "source": [
        "# Problems"
      ]
    },
    {
      "cell_type": "markdown",
      "metadata": {
        "id": "YXr1RwyMFITD"
      },
      "source": [
        "## Problem 1 [1p]:\n",
        "\n",
        "Let's see why GPUs are useful in deep learning. Compare matrix multiplication speed for a few matrix shapes when implemented:\n",
        "1. as loops in Python\n",
        "2. using np.einsum\n",
        "3. using numpy on CPU\n",
        "4. using pytorch on CPU\n",
        "5. using pytorch on GPU\n",
        "\n",
        "Finally, consider two square matrices, $A$ and $B$. We have 4 possibilities of multiplying them or their transpositions:\n",
        "1. $AB$\n",
        "2. $A^TB$\n",
        "3. $AB^T$\n",
        "4. $A^TB^T$\n",
        "\n",
        "Which option is the fastest? Why?"
      ]
    },
    {
      "cell_type": "markdown",
      "metadata": {
        "id": "eQa69LGTaiym"
      },
      "source": [
        "## Problem 2: Stochastic Gradient Descent [3p]\n",
        "\n",
        "We provide below starter code that trains a softmax regression model. Alternatively, implement your own training loop and use it to solve this problem jointly with the next one.\n",
        "\n",
        "Implement the following additions to the SGD code provided:\n",
        "  1. **[1p]** momentum\n",
        "  2. **[1p]** learning rate schedule\n",
        "  3. **[1p]** weight decay, in which we additionally minimize for each weight matrix (but typically not the bias) the sum of its elements squared. One way to implement it is to use the function `model.named_parameters` and select all parameters whose names contain \"`weight`\" rather than \"`bias`\"."
      ]
    },
    {
      "cell_type": "markdown",
      "metadata": {
        "id": "YsLt4dGsaosv"
      },
      "source": [
        "## Problem 3: Tuning the Network for MNIST [4p]\n",
        "\n",
        "Tune the following network to reach **validation error rate below 1.9%**.\n",
        "This should result in a **test error rate below 2%**. To\n",
        "tune the network you will need to:\n",
        "1. Choose the number of layers (more than 1, less than 5);\n",
        "2. Choose the number of neurons in each layer (more than 100,\n",
        "    less than 5000);\n",
        "3. Pick proper weight initialization;\n",
        "4. Pick proper learning rate schedule (need to decay over time,\n",
        "    a good range to check on MNIST is about 1e-2 ... 1e-1 at the beginning and\n",
        "    half of that after 10000 batches);\n",
        "5. Pick a momentum constant (probably a constant one will be OK).\n",
        "\n",
        "\n",
        "Please note: there are many hyperparameter settings that give the desired answer, some may require tuning all hyperparameters, some only a few."
      ]
    },
    {
      "cell_type": "markdown",
      "metadata": {
        "id": "YrUQloaln1UA"
      },
      "source": [
        "## Problem 4: Convolutional Network [2p]\n",
        "\n",
        "Use convolutional and max-pooling layers (`Conv2d`, `Max_pool2d` or their functional variants) and (without dropout) get a test error rate below 1.5%."
      ]
    },
    {
      "cell_type": "markdown",
      "metadata": {
        "id": "_9DaWUy_atrn"
      },
      "source": [
        "## Problem 5: Dropout [2p]\n",
        "\n",
        "Learn about dropout:\n",
        "\n",
        "- implement a **dropout** layer \n",
        "- or use `nn.Dropout` (then the exercise is worth 1.5 points)\n",
        "\n",
        "and try to train a\n",
        "network getting below 1.5% test error rates with dropout, but no convolutions, or below 1% when dropout is used jointly with convolutions!\n",
        "\n",
        "Remember to turn off dropout during testing, using `model.train()` and `model.eval()`!\n",
        "\n",
        "Hint: Use [torch.nn.functional.dropout](http://pytorch.org/docs/master/nn.html#torch.nn.functional.dropout).\n",
        "\n",
        "Details: http://arxiv.org/pdf/1207.0580.pdf."
      ]
    },
    {
      "cell_type": "markdown",
      "metadata": {
        "id": "mB3T_HuYawyQ"
      },
      "source": [
        "## Problem 6: Data Augmentation [1p]\n",
        "\n",
        "Apply data augmentation methods (e.g. rotations, noise, crops) when training networks on MNIST, to significantly reduce test error rate for your network. You can use functions from the [torchvision.transforms](http://pytorch.org/docs/master/torchvision/transforms.html) module.\n",
        "\n",
        "Please note: when using random transformations during training, use a data loader that re-computes them for each training minibatch. The `InMemoryDataloader` assumes that the transformations are deterministic and applies them only once."
      ]
    },
    {
      "cell_type": "markdown",
      "metadata": {
        "id": "Af7itFE7a0eY"
      },
      "source": [
        "## Problem 7: Batch Normalization [1p]\n",
        "\n",
        "[Batch Normalization](https://arxiv.org/abs/1502.03167) helps training neural networks because it [normalizes layer activation magnitudes](https://papers.nips.cc/paper/7515-how-does-batch-normalization-help-optimization.pdf). It typically allows to train networks faster and/or with higher learning rates, lessens the importance\n",
        "of initialization and might eliminate the need for Dropout.\n",
        "\n",
        "Implement Batch Normalization and compare with regular training of MNIST models.\n",
        "\n",
        "Remember to use the batch statistics during model training and to use an average of training batch statistics during model evaluation. For details please consult the paper."
      ]
    },
    {
      "cell_type": "markdown",
      "metadata": {
        "id": "CD1Ke8R4a1-Q"
      },
      "source": [
        "## Problem 8: Norm Constraints [1p]\n",
        "\n",
        "Implement norm constraints, i.e. instead of weight decay, that tries to set all weights to small values, apply a limit on the total\n",
        "norm of connections incoming to a neuron. In our case, this\n",
        "corresponds to clipping the norm of *rows* of weight\n",
        "matrices. An easy way of implementing it is to make a gradient\n",
        "step, then look at the norm of rows and scale down those that are\n",
        "over the threshold (this technique is called \"projected gradient descent\").\n",
        "\n",
        "Please consult the Dropout paper (http://arxiv.org/pdf/1207.0580.pdf) for details."
      ]
    },
    {
      "cell_type": "markdown",
      "metadata": {
        "id": "CL3_e1xCa4YG"
      },
      "source": [
        "## Problem 9: Polyak Averaging [1p]\n",
        "\n",
        "Implement Polyak averaging. For each parameter $\\theta$\n",
        "keep a separate, exponentially decayed average of the past values\n",
        "$$\n",
        "\\bar{\\theta}_n = \\alpha_p\\bar{\\theta}_{n-1} + (1-\\alpha_p)\\theta_n.\n",
        "$$\n",
        "Use that average when evaluating the model on the test set.\n",
        "Validate the approach by training a model on the MNIST dataset."
      ]
    },
    {
      "cell_type": "markdown",
      "metadata": {
        "id": "w7LoH9DIa88J"
      },
      "source": [
        "## Problem 10: Hyperparameter tuner [1p]\n",
        "\n",
        "Implement a hyper-parameter tuner able to optimize the learning rate schedule, number of neurons, and similar hyperparameters. To start, use a random search (please see http://jmlr.csail.mit.edu/papers/volume13/bergstra12a/bergstra12a.pdf and especially Fig 1. for intuitions on why random search is better than grid search). It may be a good idea to use a fixed maximum number of epochs (or training time) for each optimization trial to prevent selecting hyperparameters that yield slowly converging solutions. A good result will be a set of hyperparameters that reach on MNIST solutions with test errors less than $1.3\\%$ in no more than 50 epochs."
      ]
    },
    {
      "cell_type": "markdown",
      "metadata": {
        "id": "mzJTDu2aE8sk"
      },
      "source": [
        "## Problem 11: Pruning [1p]\n",
        "\n",
        "Prune the MNIST network to retain validation accuracy no worse than 0.1 percentage point at maximum sparsity (maximal number of weights removed from the network).\n",
        "\n",
        "One way to do it is to \n",
        "1. train the network, \n",
        "2. set to zero smalles weights (typically you can zero up to 50% of weights)\n",
        "3. retrain the network, keeping the zeroed weights zeroed, and repeat"
      ]
    },
    {
      "cell_type": "markdown",
      "metadata": {
        "id": "7jyEkvsqo2bx"
      },
      "source": [
        "## Problem 12: Extreme Learning Machine (ELM) [2p]\n",
        "\n",
        "Consider a neural network with 1 hidden layer. In the extreme learning approach, the first layer is not trained, but instead, it is randomly set. It is often very large. The second (output) layer weights can then be set using the closed-form formula for linear regression. Thus, training an ELM is fast (there is no iterative optimization) and one can try many different hyperparameters, such as hidden layer size, the random distribution from which weights are sampled, the hidden activation function, and so forth.\n",
        "\n",
        "Task: Implement an ELM for MNIST and try to reach the performance of your backpropagation-trained model."
      ]
    },
    {
      "cell_type": "markdown",
      "metadata": {
        "id": "aotfN2N2FCM6"
      },
      "source": [
        "## Problem 13: Other tricks [1p-many]\n",
        "\n",
        "The neural network literature is full of tricks for training neural networks. Find some and implement them. Please note: the number of points depends on the hardness of the extension you want to implement. If in doubt, consult the TA beforehand"
      ]
    },
    {
      "cell_type": "markdown",
      "metadata": {
        "id": "NNfw6pY9sRJe"
      },
      "source": [
        "# Starter code\n",
        "\n",
        "The code below trains a SoftMax regression model in PyTorch. It can easily be extended into a full multilayer neural network."
      ]
    },
    {
      "cell_type": "code",
      "metadata": {
        "id": "iEUPZksWm9YU"
      },
      "source": [
        "%matplotlib inline"
      ],
      "execution_count": 184,
      "outputs": []
    },
    {
      "cell_type": "code",
      "metadata": {
        "id": "039umgT_lsH2"
      },
      "source": [
        "import os\n",
        "import time\n",
        "\n",
        "import matplotlib.pyplot as plt\n",
        "import numpy as np\n",
        "from IPython.display import clear_output\n",
        "from tqdm.auto import tqdm\n",
        "\n",
        "import torch\n",
        "import torch.nn.functional as F\n",
        "import torchvision.datasets\n",
        "from torch import nn"
      ],
      "execution_count": 185,
      "outputs": []
    },
    {
      "cell_type": "code",
      "metadata": {
        "id": "tPOMFqLZsfuj"
      },
      "source": [
        "def compute_error_rate(model, data_loader, device=\"cpu\"):\n",
        "    \"\"\"Evaluate model on all samples from the data loader.\n",
        "    \"\"\"\n",
        "    # Put the model in eval mode, and move to the evaluation device.\n",
        "    model.eval()\n",
        "    model.to(device)\n",
        "    if isinstance(data_loader, InMemDataLoader):\n",
        "        data_loader.to(device)\n",
        "\n",
        "    num_errs = 0.0\n",
        "    num_examples = 0\n",
        "    # we don't need gradient during eval!\n",
        "    with torch.no_grad():\n",
        "        for x, y in data_loader:\n",
        "            x = x.to(device)\n",
        "            y = y.to(device)\n",
        "            outputs = model.forward(x)\n",
        "            _, predictions = outputs.data.max(dim=1)\n",
        "            num_errs += (predictions != y.data).sum().item()\n",
        "            num_examples += x.size(0)\n",
        "    return num_errs / num_examples\n",
        "\n",
        "\n",
        "def plot_history(history):\n",
        "    \"\"\"Helper to plot the trainig progress over time.\"\"\"\n",
        "    plt.figure(figsize=(16, 4))\n",
        "    plt.subplot(1, 2, 1)\n",
        "    train_loss = np.array(history[\"train_losses\"])\n",
        "    plt.semilogy(np.arange(train_loss.shape[0]), train_loss, label=\"batch train loss\")\n",
        "    plt.legend()\n",
        "\n",
        "    plt.subplot(1, 2, 2)\n",
        "    train_errs = np.array(history[\"train_errs\"])\n",
        "    plt.plot(np.arange(train_errs.shape[0]), train_errs, label=\"batch train error rate\")\n",
        "    val_errs = np.array(history[\"val_errs\"])\n",
        "    plt.plot(val_errs[:, 0], val_errs[:, 1], label=\"validation error rate\", color=\"r\")\n",
        "    plt.ylim(0, 0.20)\n",
        "    plt.legend()"
      ],
      "execution_count": 186,
      "outputs": []
    },
    {
      "cell_type": "markdown",
      "metadata": {
        "id": "OT6R09JnnYs9"
      },
      "source": [
        "## Data loading\n",
        "\n",
        "Training speed is important. By default, data is loaded on the CPU, then shipped in batches to the GPU. For this exercise, we will load the full dataset onto the GPU, which speeds up training."
      ]
    },
    {
      "cell_type": "code",
      "metadata": {
        "id": "OPh9uR8ZorL7"
      },
      "source": [
        "class InMemDataLoader(object):\n",
        "    \"\"\"\n",
        "    A data loader that keeps all data in CPU or GPU memory.\n",
        "    \"\"\"\n",
        "\n",
        "    __initialized = False\n",
        "\n",
        "    def __init__(\n",
        "        self,\n",
        "        dataset,\n",
        "        batch_size=1,\n",
        "        shuffle=False,\n",
        "        sampler=None,\n",
        "        batch_sampler=None,\n",
        "        drop_last=False,\n",
        "    ):\n",
        "        \"\"\"A torch dataloader that fetches data from memory.\"\"\"\n",
        "        batches = []\n",
        "        for i in tqdm(range(len(dataset))):\n",
        "            batch = [torch.tensor(t) for t in dataset[i]]\n",
        "            batches.append(batch)\n",
        "        tensors = [torch.stack(ts) for ts in zip(*batches)]\n",
        "        dataset = torch.utils.data.TensorDataset(*tensors)\n",
        "        self.dataset = dataset\n",
        "        self.batch_size = batch_size\n",
        "        self.drop_last = drop_last\n",
        "\n",
        "        if batch_sampler is not None:\n",
        "            if batch_size > 1 or shuffle or sampler is not None or drop_last:\n",
        "                raise ValueError(\n",
        "                    \"batch_sampler option is mutually exclusive \"\n",
        "                    \"with batch_size, shuffle, sampler, and \"\n",
        "                    \"drop_last\"\n",
        "                )\n",
        "            self.batch_size = None\n",
        "            self.drop_last = None\n",
        "\n",
        "        if sampler is not None and shuffle:\n",
        "            raise ValueError(\"sampler option is mutually exclusive with \" \"shuffle\")\n",
        "\n",
        "        if batch_sampler is None:\n",
        "            if sampler is None:\n",
        "                if shuffle:\n",
        "                    sampler = torch.utils.data.RandomSampler(dataset)\n",
        "                else:\n",
        "                    sampler = torch.utils.data.SequentialSampler(dataset)\n",
        "            batch_sampler = torch.utils.data.BatchSampler(\n",
        "                sampler, batch_size, drop_last\n",
        "            )\n",
        "\n",
        "        self.sampler = sampler\n",
        "        self.batch_sampler = batch_sampler\n",
        "        self.__initialized = True\n",
        "\n",
        "    def __setattr__(self, attr, val):\n",
        "        if self.__initialized and attr in (\"batch_size\", \"sampler\", \"drop_last\"):\n",
        "            raise ValueError(\n",
        "                \"{} attribute should not be set after {} is \"\n",
        "                \"initialized\".format(attr, self.__class__.__name__)\n",
        "            )\n",
        "\n",
        "        super(InMemDataLoader, self).__setattr__(attr, val)\n",
        "\n",
        "    def __iter__(self):\n",
        "        for batch_indices in self.batch_sampler:\n",
        "            yield self.dataset[batch_indices]\n",
        "\n",
        "    def __len__(self):\n",
        "        return len(self.batch_sampler)\n",
        "\n",
        "    def to(self, device):\n",
        "        self.dataset.tensors = tuple(t.to(device) for t in self.dataset.tensors)\n",
        "        return self"
      ],
      "execution_count": 187,
      "outputs": []
    },
    {
      "cell_type": "code",
      "metadata": {
        "id": "d4RuDI9YpPhe"
      },
      "source": [
        "# Monkey-patch MNIST to use a more robust MIST mirror\n",
        "torchvision.datasets.MNIST.resources = [\n",
        "    (\n",
        "        \"https://web.archive.org/web/20150906081542/http://yann.lecun.com/exdb/mnist/train-images-idx3-ubyte.gz\",\n",
        "        \"f68b3c2dcbeaaa9fbdd348bbdeb94873\",\n",
        "    ),\n",
        "    (\n",
        "        \"https://web.archive.org/web/20150906081542/http://yann.lecun.com/exdb/mnist/train-labels-idx1-ubyte.gz\",\n",
        "        \"d53e105ee54ea40749a09fcbcd1e9432\",\n",
        "    ),\n",
        "    (\n",
        "        \"https://web.archive.org/web/20150906081542/http://yann.lecun.com/exdb/mnist/t10k-images-idx3-ubyte.gz\",\n",
        "        \"9fb629c4189551a2d022fa330f9573f3\",\n",
        "    ),\n",
        "    (\n",
        "        \"https://web.archive.org/web/20150906081542/http://yann.lecun.com/exdb/mnist/t10k-labels-idx1-ubyte.gz\",\n",
        "        \"ec29112dd5afa0611ce80d1b7f02629c\",\n",
        "    ),\n",
        "]"
      ],
      "execution_count": 188,
      "outputs": []
    },
    {
      "cell_type": "code",
      "metadata": {
        "colab": {
          "base_uri": "https://localhost:8080/",
          "height": 205,
          "referenced_widgets": [
            "947baea25a0b4e3b86c7741f227430fc",
            "69428e836922418ab5d7c80473bd1a33",
            "89f2a5065d0a46bab281d4ed2232f70f",
            "e33cd8ac7d6942b3bd3965dbf9352629",
            "684d97b30f784981a5c4d4bfaa373a44",
            "44b599813f974195a2f919c51f5cee1d",
            "a61e788d72b04d5481908628ca6b415e",
            "3704cc5121dc4fc5bd0144957749022f",
            "2e50bbe8c37041859b07ca1b0d1fbbd9",
            "1e0d90edd7d545b285a6a78912b8712b",
            "bedb4217e8f34a00a0e63e85def03ffc",
            "9c35f6260d2a46d5adbd4734274b1614",
            "4fcfc3800cc547f992a73a0326559191",
            "43a9e0293869452c9987b10f85e69977",
            "b317d5d06a494a1fb79f1aedcb35660d",
            "c323ea4c0317434c905cfae092c7b58b",
            "dfbb0c1bd4964e4b8f06e3437922532e",
            "ab6fda11b6094a778fd9578bfa695bc9",
            "56e2e6fe4f144b4299a1279f547349ca",
            "426fe7aaf4ea4eddaa7e78ae903d353a",
            "1b837e28c99845b984bbd1650528464b",
            "8a618d1dcd4e422980eb30ef5bf3330c",
            "dffa480cdf6d4c5083a090a97147645e",
            "1f270305eebd4be68320485ab4077fc3"
          ]
        },
        "id": "wDM2KTPQm8V3",
        "outputId": "b7fd3e0c-cdf2-4e72-d095-b2c3c3e62686"
      },
      "source": [
        "# Load the data\n",
        "\n",
        "batch_size = 128\n",
        "data_path = \"./data\"\n",
        "\n",
        "transform = torchvision.transforms.Compose(\n",
        "    [\n",
        "        torchvision.transforms.ToTensor(),\n",
        "        torchvision.transforms.Normalize((0.1307,), (0.3081,)),\n",
        "    ]\n",
        ")\n",
        "\n",
        "_test = torchvision.datasets.MNIST(\n",
        "    data_path, train=False, download=True, transform=transform\n",
        ")\n",
        "\n",
        "# Load training data, split into train and valid sets\n",
        "_train = torchvision.datasets.MNIST(\n",
        "    data_path, train=True, download=True, transform=transform\n",
        ")\n",
        "_train.data = _train.data[:50000]\n",
        "_train.targets = _train.targets[:50000]\n",
        "\n",
        "_valid = torchvision.datasets.MNIST(\n",
        "    data_path, train=True, download=True, transform=transform\n",
        ")\n",
        "_valid.data = _valid.data[50000:]\n",
        "_valid.targets = _valid.targets[50000:]\n",
        "\n",
        "mnist_loaders = {\n",
        "    \"train\": InMemDataLoader(_train, batch_size=batch_size, shuffle=True),\n",
        "    \"valid\": InMemDataLoader(_valid, batch_size=batch_size, shuffle=False),\n",
        "    \"test\": InMemDataLoader(_test, batch_size=batch_size, shuffle=False),\n",
        "}"
      ],
      "execution_count": 189,
      "outputs": [
        {
          "output_type": "display_data",
          "data": {
            "application/vnd.jupyter.widget-view+json": {
              "model_id": "947baea25a0b4e3b86c7741f227430fc",
              "version_minor": 0,
              "version_major": 2
            },
            "text/plain": [
              "HBox(children=(FloatProgress(value=0.0, max=50000.0), HTML(value='')))"
            ]
          },
          "metadata": {
            "tags": []
          }
        },
        {
          "output_type": "stream",
          "text": [
            "/usr/local/lib/python3.7/dist-packages/ipykernel_launcher.py:20: UserWarning: To copy construct from a tensor, it is recommended to use sourceTensor.clone().detach() or sourceTensor.clone().detach().requires_grad_(True), rather than torch.tensor(sourceTensor).\n"
          ],
          "name": "stderr"
        },
        {
          "output_type": "stream",
          "text": [
            "\n"
          ],
          "name": "stdout"
        },
        {
          "output_type": "display_data",
          "data": {
            "application/vnd.jupyter.widget-view+json": {
              "model_id": "2e50bbe8c37041859b07ca1b0d1fbbd9",
              "version_minor": 0,
              "version_major": 2
            },
            "text/plain": [
              "HBox(children=(FloatProgress(value=0.0, max=10000.0), HTML(value='')))"
            ]
          },
          "metadata": {
            "tags": []
          }
        },
        {
          "output_type": "stream",
          "text": [
            "\n"
          ],
          "name": "stdout"
        },
        {
          "output_type": "display_data",
          "data": {
            "application/vnd.jupyter.widget-view+json": {
              "model_id": "dfbb0c1bd4964e4b8f06e3437922532e",
              "version_minor": 0,
              "version_major": 2
            },
            "text/plain": [
              "HBox(children=(FloatProgress(value=0.0, max=10000.0), HTML(value='')))"
            ]
          },
          "metadata": {
            "tags": []
          }
        },
        {
          "output_type": "stream",
          "text": [
            "\n"
          ],
          "name": "stdout"
        }
      ]
    },
    {
      "cell_type": "markdown",
      "metadata": {
        "id": "W4J9j-gvycMs"
      },
      "source": [
        "## Problem 1"
      ]
    },
    {
      "cell_type": "markdown",
      "metadata": {
        "id": "zTHme7J-pDnk"
      },
      "source": [
        "### Part 1"
      ]
    },
    {
      "cell_type": "code",
      "metadata": {
        "id": "YuKosw-DygFS"
      },
      "source": [
        "A = np.random.rand(10, 100)\n",
        "B = np.random.rand(100, 1000)\n",
        "T = 100"
      ],
      "execution_count": 190,
      "outputs": []
    },
    {
      "cell_type": "code",
      "metadata": {
        "colab": {
          "base_uri": "https://localhost:8080/"
        },
        "id": "TqBqe9Yb5vau",
        "outputId": "1b0157ce-0165-4d40-d701-c825015a5eec"
      },
      "source": [
        "%%time\n",
        "for _ in range(T):\n",
        "  result = np.zeros((A.shape[0], B.shape[1]))\n",
        "  for i in range(len(A)):\n",
        "    for j in range(len(B[0])):\n",
        "      for k in range(len(B)):\n",
        "        result[i][j] += A[i][k] * B[k][j]"
      ],
      "execution_count": 191,
      "outputs": [
        {
          "output_type": "stream",
          "text": [
            "CPU times: user 2min 10s, sys: 0 ns, total: 2min 10s\n",
            "Wall time: 2min 10s\n"
          ],
          "name": "stdout"
        }
      ]
    },
    {
      "cell_type": "code",
      "metadata": {
        "id": "KkzhvDZTyuHJ"
      },
      "source": [
        "A = np.random.rand(100, 100)\n",
        "B = np.random.rand(100, 1000)\n",
        "T = 1000"
      ],
      "execution_count": 192,
      "outputs": []
    },
    {
      "cell_type": "code",
      "metadata": {
        "colab": {
          "base_uri": "https://localhost:8080/"
        },
        "id": "67f-hdNF6hN7",
        "outputId": "bc03afb1-6c58-48d4-f305-df67ea62456d"
      },
      "source": [
        "%%time\n",
        "for _ in range(T):\n",
        "  np.einsum('ij,jk->ik', A, B)"
      ],
      "execution_count": 193,
      "outputs": [
        {
          "output_type": "stream",
          "text": [
            "CPU times: user 3.47 s, sys: 0 ns, total: 3.47 s\n",
            "Wall time: 3.46 s\n"
          ],
          "name": "stdout"
        }
      ]
    },
    {
      "cell_type": "code",
      "metadata": {
        "colab": {
          "base_uri": "https://localhost:8080/"
        },
        "id": "ATDIuY1V8dsP",
        "outputId": "7dad6515-0c35-4e4d-a1af-b2b3300e1afa"
      },
      "source": [
        "%%time\n",
        "for _ in range(T):\n",
        "  np.dot(A, B)"
      ],
      "execution_count": 194,
      "outputs": [
        {
          "output_type": "stream",
          "text": [
            "CPU times: user 1.4 s, sys: 153 ms, total: 1.55 s\n",
            "Wall time: 811 ms\n"
          ],
          "name": "stdout"
        }
      ]
    },
    {
      "cell_type": "code",
      "metadata": {
        "colab": {
          "base_uri": "https://localhost:8080/"
        },
        "id": "9Tac4JTm9-b2",
        "outputId": "36ae987d-19f4-48a4-adae-0424337f6714"
      },
      "source": [
        "%%time\n",
        "for _ in range(T):\n",
        "  torch.matmul(torch.tensor(A), torch.tensor(B))"
      ],
      "execution_count": 195,
      "outputs": [
        {
          "output_type": "stream",
          "text": [
            "CPU times: user 752 ms, sys: 99.6 ms, total: 851 ms\n",
            "Wall time: 747 ms\n"
          ],
          "name": "stdout"
        }
      ]
    },
    {
      "cell_type": "code",
      "metadata": {
        "colab": {
          "base_uri": "https://localhost:8080/"
        },
        "id": "1eG1Hr-S-8cI",
        "outputId": "91ce3ca9-6405-4cdf-d15c-340e4ed1ee89"
      },
      "source": [
        "%%time\n",
        "for _ in range(T):\n",
        "  torch.matmul(torch.tensor(A, device='cuda', dtype=float), torch.tensor(B, device='cuda', dtype=float))"
      ],
      "execution_count": 196,
      "outputs": [
        {
          "output_type": "stream",
          "text": [
            "CPU times: user 362 ms, sys: 164 ms, total: 526 ms\n",
            "Wall time: 528 ms\n"
          ],
          "name": "stdout"
        }
      ]
    },
    {
      "cell_type": "markdown",
      "metadata": {
        "id": "1hpPmnT2pIHm"
      },
      "source": [
        "### Part 2"
      ]
    },
    {
      "cell_type": "code",
      "metadata": {
        "id": "GjO3dda9dchb"
      },
      "source": [
        "C = np.random.rand(1000, 1000)\n",
        "D = np.random.rand(1000, 1000)"
      ],
      "execution_count": 197,
      "outputs": []
    },
    {
      "cell_type": "code",
      "metadata": {
        "colab": {
          "base_uri": "https://localhost:8080/"
        },
        "id": "tiQ4qfGQj16d",
        "outputId": "e63aaee7-cc71-4df6-c928-f3488a0cacbb"
      },
      "source": [
        "%%time\n",
        "for _ in range(T):\n",
        "  torch.matmul(torch.tensor(C, device='cuda', dtype=float), torch.tensor(D, device='cuda', dtype=float))"
      ],
      "execution_count": 198,
      "outputs": [
        {
          "output_type": "stream",
          "text": [
            "CPU times: user 7.19 s, sys: 4.29 s, total: 11.5 s\n",
            "Wall time: 11.5 s\n"
          ],
          "name": "stdout"
        }
      ]
    },
    {
      "cell_type": "code",
      "metadata": {
        "colab": {
          "base_uri": "https://localhost:8080/"
        },
        "id": "xt2cexDfj_TL",
        "outputId": "3f4d25a7-9de8-418c-d486-3c90cdfbae07"
      },
      "source": [
        "%%time\n",
        "for _ in range(T):\n",
        "  torch.matmul(torch.tensor(C.T, device='cuda', dtype=float), torch.tensor(D, device='cuda', dtype=float))"
      ],
      "execution_count": 199,
      "outputs": [
        {
          "output_type": "stream",
          "text": [
            "CPU times: user 7.52 s, sys: 4.52 s, total: 12 s\n",
            "Wall time: 12 s\n"
          ],
          "name": "stdout"
        }
      ]
    },
    {
      "cell_type": "code",
      "metadata": {
        "colab": {
          "base_uri": "https://localhost:8080/"
        },
        "id": "-qOoDt7ikHb7",
        "outputId": "0a788fbc-b23e-4001-a4b4-354341c16582"
      },
      "source": [
        "%%time\n",
        "for _ in range(T):\n",
        "  torch.matmul(torch.tensor(C, device='cuda', dtype=float), torch.tensor(D.T, device='cuda', dtype=float))"
      ],
      "execution_count": 200,
      "outputs": [
        {
          "output_type": "stream",
          "text": [
            "CPU times: user 7.24 s, sys: 4.19 s, total: 11.4 s\n",
            "Wall time: 11.4 s\n"
          ],
          "name": "stdout"
        }
      ]
    },
    {
      "cell_type": "code",
      "metadata": {
        "colab": {
          "base_uri": "https://localhost:8080/"
        },
        "id": "Eqe4xzVJkHgU",
        "outputId": "6f8deaac-64e8-4150-ae0f-fec8ecb2a4f8"
      },
      "source": [
        "%%time\n",
        "for _ in range(T):\n",
        "  torch.matmul(torch.tensor(C.T, device='cuda', dtype=float), torch.tensor(D.T, device='cuda', dtype=float))"
      ],
      "execution_count": 201,
      "outputs": [
        {
          "output_type": "stream",
          "text": [
            "CPU times: user 7.23 s, sys: 4.19 s, total: 11.4 s\n",
            "Wall time: 11.4 s\n"
          ],
          "name": "stdout"
        }
      ]
    },
    {
      "cell_type": "markdown",
      "metadata": {
        "id": "VKRB1ZUHkSxW"
      },
      "source": [
        "All options are pretty much the same in terms of computation time except $C^TD$ which is slower."
      ]
    },
    {
      "cell_type": "markdown",
      "metadata": {
        "id": "rRYr7XmnnGO_"
      },
      "source": [
        "## SGD implementation\n",
        "\n",
        "We provide below a scaffolding for SGD. You will need to fill the TODOs while solving the assignments."
      ]
    },
    {
      "cell_type": "code",
      "metadata": {
        "id": "WY1xG-cqnRoE"
      },
      "source": [
        "def SGD(\n",
        "    model,\n",
        "    data_loaders,\n",
        "    alpha=1e-4,\n",
        "    epsilon=0.0,\n",
        "    decay=0.0,\n",
        "    num_epochs=1,\n",
        "    max_num_epochs=np.nan,\n",
        "    patience_expansion=1.5,\n",
        "    log_every=100,\n",
        "    device=\"cpu\",\n",
        "):\n",
        "\n",
        "    # Put the model in train mode, and move to the evaluation device.\n",
        "    model.train()\n",
        "    model.to(device)\n",
        "    for data_loader in data_loaders.values():\n",
        "        if isinstance(data_loader, InMemDataLoader):\n",
        "            data_loader.to(device)\n",
        "\n",
        "    #\n",
        "    # TODO for Problem 1.3: Initialize momentum variables\n",
        "    # Hint: You need one velocity matrix for each parameter\n",
        "    #\n",
        "    velocities = [torch.zeros(p.shape, device=device) for p in model.parameters()]\n",
        "    #\n",
        "    iter_ = 0\n",
        "    epoch = 0\n",
        "    best_params = None\n",
        "    best_val_err = np.inf\n",
        "    history = {\"train_losses\": [], \"train_errs\": [], \"val_errs\": []}\n",
        "    print(\"Training the model!\")\n",
        "    print(\"Interrupt at any time to evaluate the best validation model so far.\")\n",
        "    try:\n",
        "        tstart = time.time()\n",
        "        siter = iter_\n",
        "        while epoch < num_epochs:\n",
        "            model.train()\n",
        "            epoch += 1\n",
        "            if epoch > max_num_epochs:\n",
        "                break\n",
        "            #\n",
        "            # TODO: You can implement learning rate control here (it is updated\n",
        "            # once per epoch), or below in the loop over minibatches.\n",
        "            #\n",
        "            if epoch % 5 == 0:\n",
        "              alpha /= 2\n",
        "            \n",
        "            for x, y in data_loaders[\"train\"]:\n",
        "                x = x.to(device)\n",
        "                y = y.to(device)\n",
        "                iter_ += 1\n",
        "                # This calls the `forward` function: https://pytorch.org/tutorials/beginner/examples_nn/two_layer_net_module.html\n",
        "                out = model(x)\n",
        "                loss = model.loss(out, y)\n",
        "                loss.backward()\n",
        "                _, predictions = out.max(dim=1)\n",
        "                batch_err_rate = (predictions != y).sum().item() / out.size(0)\n",
        "\n",
        "                history[\"train_losses\"].append(loss.item())\n",
        "                history[\"train_errs\"].append(batch_err_rate)\n",
        "\n",
        "                # disable gradient computations - we do not want torch to\n",
        "                # backpropagate through the gradient application!\n",
        "                with torch.no_grad():\n",
        "                    for (name, p), v in zip(model.named_parameters(), velocities):\n",
        "                        if \"weight\" in name:\n",
        "                            #\n",
        "                            # TODO for Problem 1.3: Implement weight decay (L2 regularization\n",
        "                            # on weights by changing the gradients)\n",
        "                            p.grad += 2 * decay * p\n",
        "\n",
        "                        #\n",
        "                        # TODO for Problem 1.2: Implement a learning rate schedule\n",
        "                        # Hint: You can use the iteration or epoch counters\n",
        "                        # alpha = TODO\n",
        "                        # \n",
        "\n",
        "                        #\n",
        "                        # TODO for Problem 1.1: If needed, implement here a momentum schedule\n",
        "                        # epsilon = TODO\n",
        "                        # \n",
        "\n",
        "                        #\n",
        "                        # TODO for Problem 1.1: Implement velocity updates for momentum\n",
        "                        # lease make sure to modify the contents of v, not the v pointer!!!\n",
        "                        #\n",
        "                        v[...] = epsilon * v[...] - alpha * p.grad\n",
        "\n",
        "                        #\n",
        "                        # TODO for Problem 1: Set a more sensible learning rule here,\n",
        "                        #       using your learning rate schedule and momentum\n",
        "                        #\n",
        "                        p += v[...]\n",
        "\n",
        "                        # Zero gradients for the next iteration\n",
        "                        p.grad.zero_()\n",
        "\n",
        "                if iter_ % log_every == 0:\n",
        "                    num_iter = iter_ - siter + 1\n",
        "                    print(\n",
        "                        \"Minibatch {0: >6}  | loss {1: >5.2f} | err rate {2: >5.2f}%, steps/s {3: >5.2f}\".format(\n",
        "                            iter_,\n",
        "                            loss.item(),\n",
        "                            batch_err_rate * 100.0,\n",
        "                            num_iter / (time.time() - tstart),\n",
        "                        )\n",
        "                    )\n",
        "                    tstart = time.time()\n",
        "\n",
        "            val_err_rate = compute_error_rate(model, data_loaders[\"valid\"], device)\n",
        "            history[\"val_errs\"].append((iter_, val_err_rate))\n",
        "\n",
        "            if val_err_rate < best_val_err:\n",
        "                # Adjust num of epochs\n",
        "                num_epochs = int(np.maximum(num_epochs, epoch * patience_expansion + 1))\n",
        "                best_epoch = epoch\n",
        "                best_val_err = val_err_rate\n",
        "                best_params = [p.detach().cpu() for p in model.parameters()]\n",
        "            clear_output(True)\n",
        "            m = \"After epoch {0: >2} | valid err rate: {1: >5.2f}% | doing {2: >3} epochs\".format(\n",
        "                epoch, val_err_rate * 100.0, num_epochs\n",
        "            )\n",
        "            print(\"{0}\\n{1}\\n{0}\".format(\"-\" * len(m), m))\n",
        "\n",
        "    except KeyboardInterrupt:\n",
        "        pass\n",
        "\n",
        "    if best_params is not None:\n",
        "        print(\"\\nLoading best params on validation set (epoch %d)\\n\" % (best_epoch))\n",
        "        with torch.no_grad():\n",
        "            for param, best_param in zip(model.parameters(), best_params):\n",
        "                param[...] = best_param\n",
        "    plot_history(history)"
      ],
      "execution_count": 218,
      "outputs": []
    },
    {
      "cell_type": "code",
      "metadata": {
        "colab": {
          "base_uri": "https://localhost:8080/",
          "height": 433
        },
        "id": "2gmDmR2K6CVQ",
        "outputId": "fb0bf733-2510-4e93-abe1-ea0be303c1eb"
      },
      "source": [
        "class Model(nn.Module):\n",
        "    def __init__(self, *args, **kwargs):\n",
        "        super(Model, self).__init__()\n",
        "        self.layers = nn.Sequential(*args, **kwargs)\n",
        "\n",
        "    def forward(self, X):\n",
        "        X = X.view(X.size(0), -1)\n",
        "        return self.layers.forward(X)\n",
        "\n",
        "    def loss(self, Out, Targets):\n",
        "        return F.cross_entropy(Out, Targets)\n",
        "\n",
        "\n",
        "model = Model(nn.Linear(28 * 28, 10))\n",
        "\n",
        "with torch.no_grad():\n",
        "    # Initialize parameters\n",
        "    for name, p in model.named_parameters():\n",
        "        if \"weight\" in name:\n",
        "            p.normal_(0, 0.5)\n",
        "        elif \"bias\" in name:\n",
        "            p.zero_()\n",
        "        else:\n",
        "            raise ValueError('Unknown parameter name \"%s\"' % name)\n",
        "\n",
        "# On GPU enabled devices set device='cuda' else set device='cpu'\n",
        "t_start = time.time()\n",
        "SGD(model, mnist_loaders, alpha=1e-1, epsilon=0.8, decay=1e-3, max_num_epochs=30, device=\"cuda\")\n",
        "\n",
        "\n",
        "test_err_rate = compute_error_rate(model, mnist_loaders[\"test\"])\n",
        "m = (\n",
        "    f\"Test error rate: {test_err_rate * 100.0:.3f}%, \"\n",
        "    f\"training took {time.time() - t_start:.0f}s.\"\n",
        ")\n",
        "print(\"{0}\\n{1}\\n{0}\".format(\"-\" * len(m), m))"
      ],
      "execution_count": 226,
      "outputs": [
        {
          "output_type": "stream",
          "text": [
            "----------------------------------------------------------\n",
            "After epoch 30 | valid err rate:  7.02% | doing  46 epochs\n",
            "----------------------------------------------------------\n",
            "\n",
            "Loading best params on validation set (epoch 30)\n",
            "\n",
            "-------------------------------------------\n",
            "Test error rate: 7.480%, training took 12s.\n",
            "-------------------------------------------\n"
          ],
          "name": "stdout"
        },
        {
          "output_type": "display_data",
          "data": {
            "image/png": "[encoded data removed]",
            "text/plain": [
              "<Figure size 1152x288 with 2 Axes>"
            ]
          },
          "metadata": {
            "tags": [],
            "needs_background": "light"
          }
        }
      ]
    }
  ]
}