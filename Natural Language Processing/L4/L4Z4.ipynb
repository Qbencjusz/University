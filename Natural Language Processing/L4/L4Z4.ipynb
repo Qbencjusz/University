{
 "cells": [
  {
   "cell_type": "code",
   "execution_count": 1,
   "metadata": {},
   "outputs": [],
   "source": [
    "import re\n",
    "import numpy as np"
   ]
  },
  {
   "cell_type": "code",
   "execution_count": 2,
   "metadata": {},
   "outputs": [],
   "source": [
    "sentences = []\n",
    "with open('rytmiczne_zdania_z_korpusu.txt', 'r', encoding='utf8') as f:\n",
    "    for line in f:\n",
    "        l = line.rstrip().split(' ', 1)\n",
    "        sentences.append(l[1])"
   ]
  },
  {
   "cell_type": "code",
   "execution_count": 3,
   "metadata": {},
   "outputs": [],
   "source": [
    "word_vec_dict = {}\n",
    "with open('poleval_base_vectors.txt', 'r', encoding='utf8') as f:\n",
    "    for line in f:\n",
    "        l = line.split(' ', 1)\n",
    "        word = l[0]\n",
    "        vec = [float(x) for x in l[1].split()]\n",
    "        word_vec_dict[word] = vec"
   ]
  },
  {
   "cell_type": "code",
   "execution_count": 4,
   "metadata": {},
   "outputs": [],
   "source": [
    "tag_word_dict = {}\n",
    "\n",
    "with open('supertags.txt', 'r', encoding='utf8') as f:\n",
    "    for line in f:\n",
    "        l = line.split()\n",
    "        if l[1] not in tag_word_dict:\n",
    "            tag_word_dict[l[1]] = [l[0]]\n",
    "        else:\n",
    "            tag_word_dict[l[1]].append(l[0])"
   ]
  },
  {
   "cell_type": "code",
   "execution_count": 5,
   "metadata": {},
   "outputs": [],
   "source": [
    "word_tag_dict = {}\n",
    "\n",
    "with open('supertags.txt', 'r', encoding='utf8') as f:\n",
    "    for line in f:\n",
    "        l = line.split()\n",
    "        word_tag_dict[l[0]] = [l[1]]"
   ]
  },
  {
   "cell_type": "code",
   "execution_count": 6,
   "metadata": {},
   "outputs": [],
   "source": [
    "def regex(text):\n",
    "    return re.sub(r'[^\\w\\s]', '', text).rstrip().lower().split()"
   ]
  },
  {
   "cell_type": "code",
   "execution_count": 7,
   "metadata": {},
   "outputs": [],
   "source": [
    "def find_tags(text):\n",
    "    tags = []\n",
    "    for x in regex(text):\n",
    "        if x in word_tag_dict:\n",
    "            tags.append(word_tag_dict[x])\n",
    "        else:\n",
    "            tags.append(('^' + x)[-3:])\n",
    "    return tags"
   ]
  },
  {
   "cell_type": "code",
   "execution_count": 8,
   "metadata": {},
   "outputs": [],
   "source": [
    "def last_syllable(word):\n",
    "    word = word[::-1]\n",
    "    vowels = 'aąeęioóuy'\n",
    "    cnt = 0\n",
    "    lsyl = ''\n",
    "    flag = False\n",
    "    for c in word:\n",
    "        if c not in vowels:\n",
    "            lsyl += c\n",
    "        elif c in vowels and c != 'i':\n",
    "            flag = True\n",
    "            cnt += 1\n",
    "            if cnt < 2:\n",
    "                lsyl += c\n",
    "            else:\n",
    "                lsyl += c\n",
    "                break\n",
    "        elif c == 'i' and flag:\n",
    "            lsyl += c\n",
    "            flag = False\n",
    "            continue\n",
    "        else:\n",
    "            cnt += 1\n",
    "            if cnt < 2:\n",
    "                lsyl += c\n",
    "            else:\n",
    "                lsyl += c\n",
    "                break\n",
    "    lsyl = lsyl[::-1]\n",
    "    return lsyl"
   ]
  },
  {
   "cell_type": "code",
   "execution_count": 9,
   "metadata": {},
   "outputs": [],
   "source": [
    "def count_syllables(word):\n",
    "    vowels = 'aąeęioóuy'\n",
    "    cnt = 0\n",
    "    flag = False\n",
    "    for c in word:\n",
    "        if c in vowels and c == 'i':\n",
    "            flag = True\n",
    "            cnt += 1\n",
    "        elif c in vowels and not flag:\n",
    "            cnt += 1\n",
    "        else:\n",
    "            flag = False\n",
    "            continue\n",
    "    return cnt      "
   ]
  },
  {
   "cell_type": "code",
   "execution_count": 78,
   "metadata": {},
   "outputs": [],
   "source": [
    "def rhyme_word(word):\n",
    "    if word == 'w' or word == 'do' or word == 'z' or word == 'ze' or word == 'na':\n",
    "        return word\n",
    "    tag = find_tags(word)[0][0]\n",
    "    syl_cnt = count_syllables(word)\n",
    "    lsyl = last_syllable(word)\n",
    "    candidates = [x for x in tag_word_dict[tag] if x != word and count_syllables(x) == syl_cnt and last_syllable(x) == lsyl]\n",
    "    if not candidates:\n",
    "        candidates = [x for x in tag_word_dict[tag] if x != word and count_syllables(x) == syl_cnt]\n",
    "        if not candidates:\n",
    "            candidates = [x for x in tag_word_dict[tag] if x != word]\n",
    "            if not candidates:\n",
    "                return word\n",
    "    if word in word_vec_dict:\n",
    "        vec = word_vec_dict[word]\n",
    "        vectors = []\n",
    "        for i in range(len(candidates)):\n",
    "            if candidates[i] in word_vec_dict and candidates[i] != word:\n",
    "                vectors.append((i, word_vec_dict[candidates[i]]))\n",
    "        if not vectors:\n",
    "            return np.random.choice(candidates, 1)[0]\n",
    "        products = [(x[0], np.dot(x[1], vec)) for x in vectors]\n",
    "        max_idx = max(products, key=lambda x: x[1])[0]\n",
    "        return candidates[max_idx]\n",
    "    else:\n",
    "        return np.random.choice(candidates, 1)[0]"
   ]
  },
  {
   "cell_type": "code",
   "execution_count": 73,
   "metadata": {},
   "outputs": [],
   "source": [
    "def poetize_sentence(sentence):\n",
    "#     print(f'ORYGINAŁ: {sentence}')\n",
    "    if np.random.rand() < 0.5:\n",
    "        first_verse = sentence.split(' [', 1)[0]\n",
    "        last_word = first_verse.split()[-1]\n",
    "        modified = rhyme_word(last_word)\n",
    "        s = sentence.split()\n",
    "        s[len(s)-2] = modified\n",
    "    else:\n",
    "        second_verse = sentence.split('] ', 1)[1]\n",
    "        last_word = second_verse.split()[-2]\n",
    "        modified = rhyme_word(last_word)\n",
    "        s = sentence.split()\n",
    "        idx = s.index('[*]')\n",
    "        s[idx-1] = modified\n",
    "    print('ZMODYFIKOWANA: ' + ' '.join(s))\n",
    "    print()"
   ]
  },
  {
   "cell_type": "code",
   "execution_count": 72,
   "metadata": {},
   "outputs": [
    {
     "name": "stdout",
     "output_type": "stream",
     "text": [
      "ORYGINAŁ: w europie środkowej niektóre gatunki [*] są uprawiane jako rośliny ozdobne .\n",
      "POEZJA: w europie środkowej niektóre nadobne [*] są uprawiane jako rośliny ozdobne .\n",
      "\n",
      "ORYGINAŁ: w debacie nad przyszłością polskich stoczni trzeba [*] jednak widzieć nie tylko stoczniowców wybrzeża .\n",
      "POEZJA: w debacie nad przyszłością polskich stoczni pobrzeża [*] jednak widzieć nie tylko stoczniowców wybrzeża .\n",
      "\n",
      "ORYGINAŁ: minister spraw wewnętrznych natomiast przestaje [*] być administratorem centralnych rejestrów .\n",
      "POEZJA: minister spraw wewnętrznych natomiast poliestrów [*] być administratorem centralnych rejestrów .\n",
      "\n",
      "ORYGINAŁ: na terenie lodowca znajduje się szereg [*] atrakcji dla narciarzy i snowboardzistów .\n",
      "POEZJA: na terenie lodowca znajduje się szereg [*] atrakcji dla narciarzy i wachlarz .\n",
      "\n",
      "ORYGINAŁ: decyzja o budowie tarczy nie poprawi [*] wizerunku waszego kraju w europie .\n",
      "POEZJA: decyzja o budowie tarczy nie poprawi [*] wizerunku waszego kraju w pozbawi .\n",
      "\n",
      "ORYGINAŁ: po spełnieniu toastu świeżo upieczeni [*] małżonkowie rzucają za siebie kieliszki .\n",
      "POEZJA: po spełnieniu toastu świeżo ibiszki [*] małżonkowie rzucają za siebie kieliszki .\n",
      "\n",
      "ORYGINAŁ: od przełęczy magurskiej w zachodnim kierunku [*] ciągnie się tutaj duży kompleks łąk i pastwisk .\n",
      "POEZJA: od przełęczy magurskiej w zachodnim kierunku [*] ciągnie się tutaj duży kompleks łąk i szalunku .\n",
      "\n",
      "ORYGINAŁ: ich mieszanina jęków od czasów popiela [*] jątrzy mnie i do cierpkich wyrażeń ośmiela .\n",
      "POEZJA: ich mieszanina jęków od czasów wpierdziela [*] jątrzy mnie i do cierpkich wyrażeń ośmiela .\n",
      "\n",
      "ORYGINAŁ: jakie uniwersalnie toki są ciągnięte [*] na skroś trzecioklasistów w stolicy fachowe .\n",
      "POEZJA: jakie uniwersalnie toki są ciągnięte [*] na skroś trzecioklasistów w stolicy myknięte .\n",
      "\n",
      "ORYGINAŁ: jesteś bielsza od soli i bielsza od kredy [*] , gdy tak za mnie spożywasz gorycze i biedy .\n",
      "POEZJA: jesteś bielsza od soli i bielsza od dedy [*] , gdy tak za mnie spożywasz gorycze i biedy .\n",
      "\n"
     ]
    }
   ],
   "source": [
    "for i in range(10):\n",
    "    sentence = np.random.choice(sentences, 1)[0]\n",
    "    poetize_sentence(sentence)"
   ]
  },
  {
   "cell_type": "code",
   "execution_count": 74,
   "metadata": {},
   "outputs": [],
   "source": [
    "def modify_sentence(sentence):\n",
    "    print(f'ORYGINAŁ: {sentence}')\n",
    "    if np.random.rand() < 0.5:\n",
    "        first_verse = sentence.split(' [', 1)[0]\n",
    "        words = regex(first_verse)\n",
    "        res = ''\n",
    "        for word in words:\n",
    "            res += rhyme_word(word) + ' '\n",
    "        r = res.split()\n",
    "        s = sentence.split()\n",
    "        idx = s.index('[*]')\n",
    "        j = 0\n",
    "        for i in range(0, idx):\n",
    "            if s[i] == ',' or s[i] == '.' or s[i] == '?' or s[i] == '!' or s[i] == ':':\n",
    "                continue\n",
    "            else:\n",
    "                s[i] = r[j]\n",
    "                j += 1\n",
    "    else:\n",
    "        second_verse = sentence.split('] ', 1)[1]\n",
    "        words = regex(second_verse)\n",
    "        res = ''\n",
    "        for word in words:\n",
    "            res += rhyme_word(word) + ' '\n",
    "        r = res.split()\n",
    "        s = sentence.split()\n",
    "        idx = s.index('[*]')\n",
    "        j = 0\n",
    "        for i in range(idx+1, len(s)):\n",
    "            if s[i] == ',' or s[i] == '.' or s[i] == '?' or s[i] == '!' or s[i] == ':':\n",
    "                continue\n",
    "            else:\n",
    "                s[i] = r[j]\n",
    "                j += 1\n",
    "    modified = ' '.join(s)\n",
    "    res = poetize_sentence(modified)"
   ]
  },
  {
   "cell_type": "code",
   "execution_count": 80,
   "metadata": {},
   "outputs": [
    {
     "name": "stdout",
     "output_type": "stream",
     "text": [
      "ORYGINAŁ: matki z dziećmi struchlałe , zaległe po zbożach [*] , i znowu zbrodnia w sercu , a krew lśni na nożach .\n",
      "ZMODYFIKOWANA: matki z dziećmi struchlałe , zaległe po knotach [*] , i nagle brodnia w skrzelu , a krew dba na botach .\n",
      "\n",
      "ORYGINAŁ: wstępne prognozy mówią o dwutygodniowej [*] pauzie zawodnika unii hrubieszów .\n",
      "ZMODYFIKOWANA: wstępne prognozy mówią o dwutygodniowej [*] tuluzie zagrodnika partii fernambukowej .\n",
      "\n",
      "ORYGINAŁ: możesz zaprogramować dowolne litery [*] , jak również kombinację liter i symboli .\n",
      "ZMODYFIKOWANA: śmigasz wyregulować bezsolne bristoli [*] , jak również kombinację liter i symboli .\n",
      "\n",
      "ORYGINAŁ: pani poseł iwona michałek , klub prawo [*] i sprawiedliwość , zada kolejne pytanie .\n",
      "ZMODYFIKOWANA: pani poseł iwona michałek , klub zwołanie [*] i niezawisłość , nada olejne zabranie .\n",
      "\n",
      "ORYGINAŁ: piosenka osiągnęła wysokie pozycje [*] na oficjalnych listach w wielu krajach świata .\n",
      "ZMODYFIKOWANA: sportsmenka podźwignęła głębokie szpata [*] na oficjalnych listach w wielu krajach świata .\n",
      "\n",
      "ORYGINAŁ: ze względu na wiek , coraz mniej spośród tych osób [*] posiada bierne prawo wyborcze w uczelniach .\n",
      "ZMODYFIKOWANA: ze swędu na dzwon , coraz mniej spoza tych patelniach [*] posiada bierne prawo wyborcze w uczelniach .\n",
      "\n",
      "ORYGINAŁ: prezentacja obiektu o nazwie ośrodek [*] wypoczynkowy skarbnik w miejscowości karpacz .\n",
      "ZMODYFIKOWANA: prezentacja obiektu o nazwie biorca [*] uzdrowiskowy burmistrz w wypukłości gorca .\n",
      "\n",
      "ORYGINAŁ: wartość firmy przynajmniej raz w roku podlega [*] analizie pod kątem utraty wartości .\n",
      "ZMODYFIKOWANA: zwartość patki przynajmniej stoch w mroku nicości [*] analizie pod kątem utraty wartości .\n",
      "\n",
      "ORYGINAŁ: czy budowa tej drogi będzie przyspieszona [*] w związku ze spotkaniami pana prezydenta ?\n",
      "ZMODYFIKOWANA: czy budowa tej drogi będzie przyspieszona [*] w słodku ze odkuciami jana odwrócona ?\n",
      "\n",
      "ORYGINAŁ: jak miasta mają odnieść się do planowanych [*] przebiegów autostrad i dróg ekspresowych ?\n",
      "ZMODYFIKOWANA: jak ciasta mają podnieść się do oazowych [*] przebiegów autostrad i dróg ekspresowych ?\n",
      "\n"
     ]
    }
   ],
   "source": [
    "for i in range(10):\n",
    "    sentence = np.random.choice(sentences, 1)[0]\n",
    "    modify_sentence(sentence)"
   ]
  },
  {
   "cell_type": "code",
   "execution_count": null,
   "metadata": {},
   "outputs": [],
   "source": []
  }
 ],
 "metadata": {
  "kernelspec": {
   "display_name": "Python 3",
   "language": "python",
   "name": "python3"
  },
  "language_info": {
   "codemirror_mode": {
    "name": "ipython",
    "version": 3
   },
   "file_extension": ".py",
   "mimetype": "text/x-python",
   "name": "python",
   "nbconvert_exporter": "python",
   "pygments_lexer": "ipython3",
   "version": "3.8.5"
  }
 },
 "nbformat": 4,
 "nbformat_minor": 4
}
