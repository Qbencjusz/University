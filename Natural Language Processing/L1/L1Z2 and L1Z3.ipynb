{
 "cells": [
  {
   "cell_type": "code",
   "execution_count": 1,
   "metadata": {},
   "outputs": [],
   "source": [
    "bigram_dict = dict()\n",
    "bigrams = []\n",
    "\n",
    "with open('poleval_2grams.txt', 'r', encoding='utf8') as f:\n",
    "    for line in f:\n",
    "        l = line.split()\n",
    "        if int(l[0]) > 4:\n",
    "            bigrams.append(line)\n",
    "\n",
    "for line in bigrams:\n",
    "    l = line.split()\n",
    "    if l[1] in bigram_dict:\n",
    "        bigram_dict[l[1]].append((l[2], l[0]))\n",
    "    else:\n",
    "        bigram_dict[l[1]] = [(l[2], l[0])]"
   ]
  },
  {
   "cell_type": "code",
   "execution_count": 2,
   "metadata": {},
   "outputs": [],
   "source": [
    "import random\n",
    "\n",
    "def generate(s, res, dic):\n",
    "    res += s + ' '\n",
    "    succ = random.choice(dic[s])[0]\n",
    "    if succ in bigram_dict:\n",
    "        generate(succ, res, dic)\n",
    "    else:\n",
    "        print(res.capitalize()[:-1] + '.' + ' ', end='')"
   ]
  },
  {
   "cell_type": "code",
   "execution_count": 3,
   "metadata": {},
   "outputs": [],
   "source": [
    "import numpy as np\n",
    "\n",
    "def generate2(s, res, dic):\n",
    "    res += s + ' '\n",
    "    candidates = [val[0] for val in dic[s]]\n",
    "    occ_sum = 0\n",
    "    for val in dic[s]:\n",
    "        occ_sum += int(val[1])\n",
    "    distribution = [int(val[1])/occ_sum for val in dic[s]]\n",
    "    succ = np.random.choice(candidates, 1, p=distribution).tolist()[0]\n",
    "    if succ in bigram_dict:\n",
    "        generate2(succ, res, dic)\n",
    "    else:\n",
    "        print(res.capitalize()[:-1] + '.' + ' ', end='')"
   ]
  },
  {
   "cell_type": "code",
   "execution_count": 4,
   "metadata": {
    "scrolled": true
   },
   "outputs": [
    {
     "name": "stdout",
     "output_type": "stream",
     "text": [
      "Skonsultować to utrzymywało kontakty partnerskie podejście ideologiczne . med . 201 roku eksploatacji czołgów sherman firefly ( 1974-1984 ) 2200mah oem i referencje . lucjan kydryński i wywiadu czy prokuratorskiego , osieku jasielskim w cwol w stacje męki naszego domu poprawy dostępu społeczności afroamerykańskiej w żużlach i marianny popiełuszko . połączenie systemów poprzez punkty wymiany maszyn trafiło 1,898 mld ówczesnych okrętów ze świętością i napisanych po. Skonsultować .. Decepticony , gwangju , mistrzu świata np. planowanie finansowe potrzeby głosowania otrzymał dymisję ?. Decepticony , jak i na 1 , zaś do ustawy , włoska agencja mieszkaniowa im. prof. andrzej załuski , wykorzystując do tego , czy nawet postawić na uchwałę w warszawie gdzie trudno jest zdecydowanie większy nacisk na zidentyfikowanie i zawsze , lew , a nie pasuje do 2000 , już przed chwilą wydania .. Finito . lwów - stwierdzam jako powodujące zmniejszenie dostępu pacjentowi przez młodych dam im najbliższym walnym zieźdźie w mię ta do lancii , deep , perfekcyjnie na nieprawdziwość zarzutu , mieszający się ani inne wątki zawarte tam wspaniały lekarz staje nam dojechać windą i antyklerykalne , 38-letni mężczyzna mieszka i-go , trafnego i arktycznej . rafała paczkowskiego , zawieszona , wymuszą to gorzką pigułką antykoncepcyjną ?. Finito .. Poznań-grunwald . 84 pkt 42 o okolicznych posesji p. and big air staff ) towarzyszyła grupa podatkowa - uroczysta kolacja we wlasne pieniadze to poręczny i biczami wodnymi owadami latającymi , staszów ( guttae ) dopóki taki wskaźnik ciąż z kształtowania pozytywnej realizacji wybrano drugi odpust parafialny : dzwonnica ma istnieć różnice anatomiczne oraz założeniami resortu finansów powie i korzystaniem ze środowiskowej . natural i czujnikiem poziomu płac sędziowskich lub białymi liniami. Poznań-grunwald .. Deresza w suwon . 1365 osób spod deski sosnowe lub poruszania tematów rozmów w wojennej był radosny dzień oznacza rewolucję bolszewicką i brązowo z emu . jerzym rybickim . galeria echo i dg pkp bydgoszcz czy instalacji. Deresza w momencie okazało się na dzień .. "
     ]
    }
   ],
   "source": [
    "# flag == True -> zad2\n",
    "# flag == False -> zad3\n",
    "\n",
    "def generator(dic, n, flag):\n",
    "    for _ in range(n):\n",
    "        sentence = ''\n",
    "        first_word = random.choice(list(dic))\n",
    "        if flag:\n",
    "            generate(first_word, sentence, dic)\n",
    "        generate2(first_word, sentence, dic)\n",
    "\n",
    "generator(bigram_dict, 5, True)"
   ]
  },
  {
   "cell_type": "code",
   "execution_count": 5,
   "metadata": {},
   "outputs": [],
   "source": [
    "trigram_dict = dict()\n",
    "trigrams = []\n",
    "\n",
    "with open('poleval_3grams.txt', 'r', encoding='utf8') as f:\n",
    "    for line in f:\n",
    "        l = line.split()\n",
    "        if int(l[0]) > 10:\n",
    "            trigrams.append(line)\n",
    "            \n",
    "for line in trigrams:\n",
    "    l = line.split()\n",
    "    if len(l) == 4:\n",
    "        if l[1] in trigram_dict:\n",
    "            trigram_dict[l[1]].append((l[2], l[3], l[0]))\n",
    "        else:\n",
    "            trigram_dict[l[1]] = [(l[2], l[3], l[0])]"
   ]
  },
  {
   "cell_type": "code",
   "execution_count": 6,
   "metadata": {},
   "outputs": [],
   "source": [
    "def tri_generate(s, res, dic):\n",
    "    res += s + ' '\n",
    "    random_pair = random.choice(dic[s])\n",
    "    res += random_pair[0] + ' '\n",
    "    succ = random_pair[1]\n",
    "    if succ in trigram_dict:\n",
    "        tri_generate(succ, res, dic)\n",
    "    else:\n",
    "        print(res.capitalize()[:-1] + '.' + ' ', end='')"
   ]
  },
  {
   "cell_type": "code",
   "execution_count": 7,
   "metadata": {},
   "outputs": [],
   "source": [
    "def tri_generate2(s, res, dic):\n",
    "    res += s + ' '\n",
    "    candidates = [(val[0] + ' ' + val[1]) for val in dic[s]]\n",
    "    occ_sum = 0\n",
    "    for val in dic[s]:\n",
    "        occ_sum += int(val[2])\n",
    "    distribution = [int(val[2])/occ_sum for val in dic[s]]\n",
    "    random_pair = np.random.choice(candidates, 1, p=distribution).tolist()[0].split()\n",
    "    res += random_pair[0] + ' '\n",
    "    succ = random_pair[1]\n",
    "    if succ in trigram_dict:\n",
    "        tri_generate(succ, res, dic)\n",
    "    else:\n",
    "        print(res.capitalize()[:-1] + '.' + ' ', end='')"
   ]
  },
  {
   "cell_type": "code",
   "execution_count": 8,
   "metadata": {},
   "outputs": [
    {
     "name": "stdout",
     "output_type": "stream",
     "text": [
      "Wrestler .. Art.10 ust . 10 oraz b.. Edycja festiwalu odbyła się specjalna : wykonana z płyty dvd w koryncie , młodszą siostrę bliźniaczkę , planując budżet na tym zajmuje się przepisów o punkty obejmujące m.in. wprowadzenie przez senat , komisja polityki senioralnej .. Piórami .. Wyjazd na studia medyczne ukończył instytut technologiczny , w praktyce maszyny rolnicze ( 3-5 ) , czarne chmury , czego ci dwaj ostatni mówca zapisany w tej firmie na koszty wdrożenia przepisów unijnych pieniędzy , ale zmiany w kursowaniu kolei najczęściej zadawanych pytań !. Piotruś pan ( niebieskie ) w raporcie .. Awersie medalu w kwestii pierwszej rundy kwalifikacji do tego przykładem . xx wiek przejścia na kształcenie i lasów państwowych , komunalnych , z mlekiem matki nie jest kwestią oceny jakości , iż obszar gminy włączono do miasta i mieszkańców , która ma możliwość nadużyć . , new york ( obejmujące m.in. w wydatkach .. Plotkach .. Fiknął salto do kwietnia 1948 były jego utwory były niewystarczające , łotwą i stanowi zgodnie z pisemnym wnioskiem do bardziej konkretnych kroków w końcu jakiś czas w ocenie klubu zakończył karierę w mma ) . 7 oraz w organizacjach emigracyjnych . ref . 14 i skierniewic . 2 znowelizowanej ustawy z chrześcijanami . , 18 polskich zakładów lotniczych , z pierścieniem liczb całkowitych wydatków na zakończenie swojego wystąpienia powiedział : jeśli tak mogę tylko prosić o udzielenie pierwszej pomocy społecznej przeprowadza postępowanie wyjaśniające .. Michałowa .. "
     ]
    }
   ],
   "source": [
    "# flag == True -> zad2\n",
    "# flag == False -> zad3\n",
    "\n",
    "def tri_generator(dic, n, flag):\n",
    "    for _ in range(n):\n",
    "        sentence = ''\n",
    "        first_word = random.choice(list(dic))\n",
    "        if flag:\n",
    "            tri_generate(first_word, sentence, dic)\n",
    "        tri_generate2(first_word, sentence, dic)\n",
    "        \n",
    "tri_generator(trigram_dict, 10, False)"
   ]
  },
  {
   "cell_type": "code",
   "execution_count": null,
   "metadata": {},
   "outputs": [],
   "source": []
  }
 ],
 "metadata": {
  "kernelspec": {
   "display_name": "Python 3",
   "language": "python",
   "name": "python3"
  },
  "language_info": {
   "codemirror_mode": {
    "name": "ipython",
    "version": 3
   },
   "file_extension": ".py",
   "mimetype": "text/x-python",
   "name": "python",
   "nbconvert_exporter": "python",
   "pygments_lexer": "ipython3",
   "version": "3.8.5"
  }
 },
 "nbformat": 4,
 "nbformat_minor": 4
}
