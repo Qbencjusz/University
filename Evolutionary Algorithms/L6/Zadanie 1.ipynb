{
 "cells": [
  {
   "cell_type": "markdown",
   "metadata": {},
   "source": [
    "# Zadanie 1"
   ]
  },
  {
   "cell_type": "markdown",
   "metadata": {},
   "source": [
    "## PBIL"
   ]
  },
  {
   "cell_type": "code",
   "execution_count": 65,
   "metadata": {},
   "outputs": [],
   "source": [
    "import numpy as np\n",
    "import time\n",
    "import matplotlib.pyplot as plt"
   ]
  },
  {
   "cell_type": "code",
   "execution_count": 66,
   "metadata": {},
   "outputs": [],
   "source": [
    "def init_prob_vec(d):\n",
    "    p = np.zeros(d)\n",
    "    for k in range(d):\n",
    "        p[k] = 0.5\n",
    "    return p"
   ]
  },
  {
   "cell_type": "code",
   "execution_count": 67,
   "metadata": {},
   "outputs": [],
   "source": [
    "def binary_random(p):\n",
    "    if np.random.rand() < p:\n",
    "        z = 1\n",
    "    else:\n",
    "        z = 0\n",
    "    return z"
   ]
  },
  {
   "cell_type": "code",
   "execution_count": 68,
   "metadata": {},
   "outputs": [],
   "source": [
    "def random_individual(p, d):\n",
    "    x = np.zeros(d, dtype=int)\n",
    "    for k in range(d):\n",
    "        x[k] = binary_random(p[k])\n",
    "    return x"
   ]
  },
  {
   "cell_type": "code",
   "execution_count": 69,
   "metadata": {},
   "outputs": [],
   "source": [
    "def random_population(p, N, d):\n",
    "    population = np.zeros((N, d))\n",
    "    for k in range (N):\n",
    "        population[k] = random_individual(p, d)\n",
    "    return population"
   ]
  },
  {
   "cell_type": "code",
   "execution_count": 70,
   "metadata": {},
   "outputs": [],
   "source": [
    "def population_evaluation(population, F, N):\n",
    "    evaluation = np.zeros(N)\n",
    "    for k in range(N):\n",
    "        evaluation[k] = F(population[k])\n",
    "    return evaluation"
   ]
  },
  {
   "cell_type": "code",
   "execution_count": 71,
   "metadata": {},
   "outputs": [],
   "source": [
    "def best_individual(population, evaluation):\n",
    "    max_idx = np.argmax(evaluation)\n",
    "    return (population[max_idx], evaluation[max_idx])"
   ]
  },
  {
   "cell_type": "markdown",
   "metadata": {},
   "source": [
    "d - chromosome length  \n",
    "N - population size  \n",
    "T - number of iterations  \n",
    "theta1 - learning rate  \n",
    "theta2 - probability of mutation  \n",
    "theta3 - mutation disorder rate  \n",
    "F - objective function  "
   ]
  },
  {
   "cell_type": "code",
   "execution_count": 116,
   "metadata": {},
   "outputs": [],
   "source": [
    "def pbil(d, N, T, theta1, theta2, theta3, F):\n",
    "    t0 = time.time()\n",
    "    \n",
    "    results = []\n",
    "    p = init_prob_vec(d)\n",
    "    population = random_population(p, N, d)\n",
    "    evaluation = population_evaluation(population, F, N)\n",
    "    for t in range(T):\n",
    "        best = best_individual(population, evaluation)\n",
    "        x = best[0]\n",
    "        results.append(best[1])\n",
    "#         print(f'Best individual in iteration nr {t}: \\t {x}')\n",
    "        for k in range(d):\n",
    "            p[k] = p[k] * (1 - theta1) + x[k] * theta1\n",
    "        for k in range(d):\n",
    "            if np.random.rand() < theta2:\n",
    "                p[k] = p[k] * (1 - theta3) + binary_random(0.5) * theta3\n",
    "        population = random_population(p, N, d)\n",
    "        evaluation = population_evaluation(population, F, N)\n",
    "    results.append(best[1])\n",
    "    print(time.time() - t0, best[0])\n",
    "    return results"
   ]
  },
  {
   "cell_type": "markdown",
   "metadata": {},
   "source": [
    "## CGA"
   ]
  },
  {
   "cell_type": "markdown",
   "metadata": {},
   "source": [
    "d - chromosome length </br>\n",
    "theta - learning rate"
   ]
  },
  {
   "cell_type": "code",
   "execution_count": 312,
   "metadata": {},
   "outputs": [],
   "source": [
    "def cga(d, T, theta, F):\n",
    "    t0 = time.time()\n",
    "    \n",
    "    results = []\n",
    "    p = init_prob_vec(d)\n",
    "    x1 = random_individual(p, d)\n",
    "    x2 = random_individual(p, d)\n",
    "    x1_eval = F(x1)\n",
    "    x2_eval = F(x2)\n",
    "    for t in range(T):\n",
    "        if x1_eval >= x2_eval:\n",
    "            best = x1\n",
    "            worst = x2\n",
    "            results.append(x1_eval)\n",
    "        else:\n",
    "            best = x2\n",
    "            worst = x1\n",
    "            results.append(x2_eval)\n",
    "#         print(f'Best individual in iteration nr {t}: \\t {best}')\n",
    "        for k in range(d):\n",
    "            if best[k] == 1 and worst[k] == 0:\n",
    "                p[k] = p[k] + theta\n",
    "            if best[k] == 0 and worst[k] == 1:\n",
    "                p[k] = p[k] - theta\n",
    "        x1 = random_individual(p, d)\n",
    "        x2 = random_individual(p, d)\n",
    "        x1_eval = F(x1)\n",
    "        x2_eval = F(x2)\n",
    "    if x1_eval >= x2_eval:\n",
    "        results.append(x1_eval)\n",
    "        print(time.time() - t0, x1)\n",
    "    else:\n",
    "        results.append(x2_eval)\n",
    "        print(time.time() - t0, x2)\n",
    "\n",
    "    return results"
   ]
  },
  {
   "cell_type": "markdown",
   "metadata": {},
   "source": [
    "## UMDA"
   ]
  },
  {
   "cell_type": "code",
   "execution_count": 74,
   "metadata": {},
   "outputs": [],
   "source": [
    "def select(population, evaluation, M):\n",
    "    selected = []\n",
    "    indices = (-evaluation).argsort()[:M]\n",
    "    for i in indices:\n",
    "        selected.append(population[i])\n",
    "    return selected"
   ]
  },
  {
   "cell_type": "markdown",
   "metadata": {},
   "source": [
    "d - chromosome length </br>\n",
    "N - population size </br>\n",
    "M - sample size </br>\n",
    "T - number of iterations </br>\n",
    "F - objective function </br>"
   ]
  },
  {
   "cell_type": "code",
   "execution_count": 118,
   "metadata": {},
   "outputs": [],
   "source": [
    "def umda(d, N, M, T ,F):\n",
    "    t0 = time.time()\n",
    "    \n",
    "    results = []\n",
    "    p = init_prob_vec(d)\n",
    "    population = random_population(p, N, d)\n",
    "    evaluation = population_evaluation(population, F, N)\n",
    "    best = best_individual(population, evaluation)\n",
    "    results.append(best[1])\n",
    "    for t in range(T):\n",
    "        sample = select(population, evaluation, M)\n",
    "        p = np.sum(sample, axis=0)\n",
    "        p = [x / M for x in p]\n",
    "        population = random_population(p, N, d)\n",
    "        evaluation = population_evaluation(population, F, N)\n",
    "        best = best_individual(population, evaluation)\n",
    "        results.append(best[1])\n",
    "    print(time.time() - t0, best[0])\n",
    "    return results"
   ]
  },
  {
   "cell_type": "markdown",
   "metadata": {},
   "source": [
    "## Results"
   ]
  },
  {
   "cell_type": "code",
   "execution_count": 82,
   "metadata": {},
   "outputs": [],
   "source": [
    "def show_plt(results):\n",
    "    plt.figure()\n",
    "    plt.plot(results)\n",
    "    plt.xlabel(\"iteration number\")\n",
    "    plt.ylabel(\"objective function value\")\n",
    "    plt.show()"
   ]
  },
  {
   "cell_type": "markdown",
   "metadata": {},
   "source": [
    "### OneMax"
   ]
  },
  {
   "cell_type": "code",
   "execution_count": 83,
   "metadata": {},
   "outputs": [],
   "source": [
    "def one_max(x):\n",
    "    return np.sum(x)"
   ]
  },
  {
   "cell_type": "markdown",
   "metadata": {},
   "source": [
    "#### PBIL"
   ]
  },
  {
   "cell_type": "code",
   "execution_count": 119,
   "metadata": {},
   "outputs": [
    {
     "name": "stdout",
     "output_type": "stream",
     "text": [
      "0.020949363708496094 [1. 1. 1. 1. 1. 1. 1. 1. 1. 1. 1. 1. 1. 1. 1. 1. 1. 1. 1. 1.]\n"
     ]
    },
    {
     "data": {
      "image/png": "[encoded data removed]",
      "text/plain": [
       "<Figure size 432x288 with 1 Axes>"
      ]
     },
     "metadata": {
      "needs_background": "light"
     },
     "output_type": "display_data"
    }
   ],
   "source": [
    "results = pbil(20, 20, 50, 0.1, 0.05, 0.01, one_max)\n",
    "show_plt(results)"
   ]
  },
  {
   "cell_type": "markdown",
   "metadata": {},
   "source": [
    "#### CGA"
   ]
  },
  {
   "cell_type": "code",
   "execution_count": 314,
   "metadata": {},
   "outputs": [
    {
     "name": "stdout",
     "output_type": "stream",
     "text": [
      "0.002981424331665039 [1 1 1 1 1 1 1 1 1 1 1 1 0 1 1 1 1 1 1 1]\n"
     ]
    },
    {
     "data": {
      "image/png": "[encoded data removed]",
      "text/plain": [
       "<Figure size 432x288 with 1 Axes>"
      ]
     },
     "metadata": {
      "needs_background": "light"
     },
     "output_type": "display_data"
    }
   ],
   "source": [
    "results = cga(20, 50, 0.1, one_max)\n",
    "show_plt(results)"
   ]
  },
  {
   "cell_type": "markdown",
   "metadata": {},
   "source": [
    "#### UMDA"
   ]
  },
  {
   "cell_type": "code",
   "execution_count": 122,
   "metadata": {},
   "outputs": [
    {
     "name": "stdout",
     "output_type": "stream",
     "text": [
      "0.01897597312927246 [1. 1. 1. 1. 1. 1. 1. 1. 1. 1. 1. 1. 1. 1. 1. 1. 1. 1. 1. 1.]\n"
     ]
    },
    {
     "data": {
      "image/png": "[encoded data removed]",
      "text/plain": [
       "<Figure size 432x288 with 1 Axes>"
      ]
     },
     "metadata": {
      "needs_background": "light"
     },
     "output_type": "display_data"
    }
   ],
   "source": [
    "results = umda(20, 20, 5, 50, one_max)\n",
    "show_plt(results)"
   ]
  },
  {
   "cell_type": "markdown",
   "metadata": {},
   "source": [
    "### DeceptiveOneMax"
   ]
  },
  {
   "cell_type": "code",
   "execution_count": null,
   "metadata": {},
   "outputs": [],
   "source": [
    "def deceptive_one_max(x):\n",
    "    if np.count_nonzero(x) == 0:\n",
    "        return len(x) + 1\n",
    "    else:\n",
    "        return np.sum(x)"
   ]
  },
  {
   "cell_type": "markdown",
   "metadata": {},
   "source": [
    "#### PBIL"
   ]
  },
  {
   "cell_type": "code",
   "execution_count": 123,
   "metadata": {},
   "outputs": [
    {
     "name": "stdout",
     "output_type": "stream",
     "text": [
      "0.01994633674621582 [1. 1. 1. 1. 1. 1. 1. 1. 1. 1. 1. 1. 1. 1. 1. 1. 1. 1. 1. 1.]\n"
     ]
    },
    {
     "data": {
      "image/png": "[encoded data removed]",
      "text/plain": [
       "<Figure size 432x288 with 1 Axes>"
      ]
     },
     "metadata": {
      "needs_background": "light"
     },
     "output_type": "display_data"
    }
   ],
   "source": [
    "results = pbil(20, 20, 50, 0.1, 0.05, 0.01, deceptive_one_max)\n",
    "show_plt(results)"
   ]
  },
  {
   "cell_type": "markdown",
   "metadata": {},
   "source": [
    "#### CGA"
   ]
  },
  {
   "cell_type": "code",
   "execution_count": 309,
   "metadata": {},
   "outputs": [
    {
     "name": "stdout",
     "output_type": "stream",
     "text": [
      "0.0019941329956054688 [1 1 1 1 1 1 1 1 1 1 1 1 1 1 1 1 1 0 1 1]\n"
     ]
    },
    {
     "data": {
      "image/png": "[encoded data removed]",
      "text/plain": [
       "<Figure size 432x288 with 1 Axes>"
      ]
     },
     "metadata": {
      "needs_background": "light"
     },
     "output_type": "display_data"
    }
   ],
   "source": [
    "results = cga(20, 50, 0.1, deceptive_one_max)\n",
    "show_plt(results)"
   ]
  },
  {
   "cell_type": "markdown",
   "metadata": {},
   "source": [
    "#### UMDA"
   ]
  },
  {
   "cell_type": "code",
   "execution_count": 126,
   "metadata": {},
   "outputs": [
    {
     "name": "stdout",
     "output_type": "stream",
     "text": [
      "0.019971609115600586 [1. 1. 1. 1. 1. 1. 1. 1. 1. 1. 1. 1. 1. 1. 1. 1. 1. 1. 1. 1.]\n"
     ]
    },
    {
     "data": {
      "image/png": "[encoded data removed]",
      "text/plain": [
       "<Figure size 432x288 with 1 Axes>"
      ]
     },
     "metadata": {
      "needs_background": "light"
     },
     "output_type": "display_data"
    }
   ],
   "source": [
    "results = umda(20, 20, 5, 50, deceptive_one_max)\n",
    "show_plt(results)"
   ]
  },
  {
   "cell_type": "markdown",
   "metadata": {},
   "source": [
    "### K-DeceptiveOneMax"
   ]
  },
  {
   "cell_type": "code",
   "execution_count": 189,
   "metadata": {},
   "outputs": [],
   "source": [
    "def k_deceptive_one_max(x, k):\n",
    "    i = 0\n",
    "    j = k\n",
    "    res = 0\n",
    "    for _ in range(0, len(x), k):\n",
    "        res += deceptive_one_max(x[i:j])\n",
    "        i += k\n",
    "        j += k\n",
    "    return res  "
   ]
  },
  {
   "cell_type": "code",
   "execution_count": 306,
   "metadata": {},
   "outputs": [],
   "source": [
    "def population_evaluation_k(population, F, N, k):\n",
    "    evaluation = np.zeros(N)\n",
    "    for i in range(N):\n",
    "        evaluation[i] = F(population[i], k)\n",
    "    return evaluation"
   ]
  },
  {
   "cell_type": "code",
   "execution_count": 343,
   "metadata": {},
   "outputs": [],
   "source": [
    "def pbil_k(d, N, T, theta1, theta2, theta3, F, k):\n",
    "    t0 = time.time()\n",
    "    \n",
    "    results = []\n",
    "    p = init_prob_vec(d)\n",
    "    population = random_population(p, N, d)\n",
    "    evaluation = population_evaluation_k(population, F, N, k)\n",
    "    for t in range(T):\n",
    "        best = best_individual(population, evaluation)\n",
    "        x = best[0]\n",
    "        results.append(best[1])\n",
    "#         print(f'Best individual in iteration nr {t}: \\t {best[0]}, {best[1]}')\n",
    "        for i in range(d):\n",
    "            p[i] = p[i] * (1 - theta1) + x[i] * theta1\n",
    "        for i in range(d):\n",
    "            if np.random.rand() < theta2:\n",
    "                p[i] = p[i] * (1 - theta3) + binary_random(0.5) * theta3\n",
    "        population = random_population(p, N, d)\n",
    "        evaluation = population_evaluation_k(population, F, N, k)\n",
    "    best = best_individual(population, evaluation)\n",
    "    results.append(best[1])\n",
    "    print(time.time() - t0, best[0])\n",
    "    return results"
   ]
  },
  {
   "cell_type": "code",
   "execution_count": 344,
   "metadata": {},
   "outputs": [],
   "source": [
    "def cga_k(d, T, theta, F, k):\n",
    "    t0 = time.time()\n",
    "    \n",
    "    results = []\n",
    "    p = init_prob_vec(d)\n",
    "    x1 = random_individual(p, d)\n",
    "    x2 = random_individual(p, d)\n",
    "    x1_eval = F(x1, k)\n",
    "    x2_eval = F(x2, k)\n",
    "    for t in range(T):\n",
    "        if x1_eval >= x2_eval:\n",
    "            best = x1\n",
    "            worst = x2\n",
    "            results.append(x1_eval)\n",
    "        else:\n",
    "            best = x2\n",
    "            worst = x1\n",
    "            results.append(x2_eval)\n",
    "#         print(f'Best individual in iteration nr {t}: \\t {best}')\n",
    "        for i in range(d):\n",
    "            if best[i] == 1 and worst[i] == 0:\n",
    "                p[i] = p[i] + theta\n",
    "            if best[i] == 0 and worst[i] == 1:\n",
    "                p[i] = p[i] - theta\n",
    "        x1 = random_individual(p, d)\n",
    "        x2 = random_individual(p, d)\n",
    "        x1_eval = F(x1, k)\n",
    "        x2_eval = F(x2, k)\n",
    "    if x1_eval >= x2_eval:\n",
    "        results.append(x1_eval)\n",
    "        print(time.time() - t0, x1)\n",
    "    else:\n",
    "        results.append(x2_eval)\n",
    "        print(time.time() - t0, x2)\n",
    "    return results"
   ]
  },
  {
   "cell_type": "code",
   "execution_count": 193,
   "metadata": {},
   "outputs": [],
   "source": [
    "def umda_k(d, N, M, T , F, k):\n",
    "    t0 = time.time()\n",
    "    \n",
    "    results = []\n",
    "    p = init_prob_vec(d)\n",
    "    population = random_population(p, N, d)\n",
    "    evaluation = population_evaluation_k(population, F, N, k)\n",
    "    best = best_individual(population, evaluation)\n",
    "    results.append(best[1])\n",
    "    for t in range(T):\n",
    "        sample = select(population, evaluation, M)\n",
    "        p = np.sum(sample, axis=0)\n",
    "        p = [x / M for x in p]\n",
    "        population = random_population(p, N, d)\n",
    "        evaluation = population_evaluation_k(population, F, N, k)\n",
    "        best = best_individual(population, evaluation)\n",
    "        results.append(best[1])\n",
    "    print(time.time() - t0, best[0])\n",
    "    return results"
   ]
  },
  {
   "cell_type": "markdown",
   "metadata": {},
   "source": [
    "#### PBIL"
   ]
  },
  {
   "cell_type": "code",
   "execution_count": 345,
   "metadata": {},
   "outputs": [
    {
     "name": "stdout",
     "output_type": "stream",
     "text": [
      "0.03291201591491699 [1. 1. 1. 1. 1. 1. 1. 1. 1. 1. 1. 1. 1. 1. 1. 1. 1. 1. 1. 1.]\n"
     ]
    },
    {
     "data": {
      "image/png": "[encoded data removed]",
      "text/plain": [
       "<Figure size 432x288 with 1 Axes>"
      ]
     },
     "metadata": {
      "needs_background": "light"
     },
     "output_type": "display_data"
    }
   ],
   "source": [
    "results = pbil_k(20, 20, 50, 0.1, 0.05, 0.01, k_deceptive_one_max, 7)\n",
    "show_plt(results)"
   ]
  },
  {
   "cell_type": "markdown",
   "metadata": {},
   "source": [
    "#### CGA"
   ]
  },
  {
   "cell_type": "code",
   "execution_count": 346,
   "metadata": {},
   "outputs": [
    {
     "name": "stdout",
     "output_type": "stream",
     "text": [
      "0.002989530563354492 [1 1 1 1 1 1 0 1 1 1 1 1 1 1 1 1 1 1 1 1]\n"
     ]
    },
    {
     "data": {
      "image/png": "[encoded data removed]",
      "text/plain": [
       "<Figure size 432x288 with 1 Axes>"
      ]
     },
     "metadata": {
      "needs_background": "light"
     },
     "output_type": "display_data"
    }
   ],
   "source": [
    "results = cga_k(20, 50, 0.1, k_deceptive_one_max, 7)\n",
    "show_plt(results)"
   ]
  },
  {
   "cell_type": "markdown",
   "metadata": {},
   "source": [
    "#### UMDA"
   ]
  },
  {
   "cell_type": "code",
   "execution_count": 198,
   "metadata": {},
   "outputs": [
    {
     "name": "stdout",
     "output_type": "stream",
     "text": [
      "0.02894902229309082 [1. 1. 1. 1. 1. 1. 1. 1. 1. 1. 1. 1. 1. 1. 1. 1. 1. 1. 1. 1.]\n"
     ]
    },
    {
     "data": {
      "image/png": "[encoded data removed]",
      "text/plain": [
       "<Figure size 432x288 with 1 Axes>"
      ]
     },
     "metadata": {
      "needs_background": "light"
     },
     "output_type": "display_data"
    }
   ],
   "source": [
    "results = umda_k(20, 20, 5, 50, k_deceptive_one_max, 7)\n",
    "show_plt(results)"
   ]
  },
  {
   "cell_type": "code",
   "execution_count": null,
   "metadata": {},
   "outputs": [],
   "source": []
  }
 ],
 "metadata": {
  "kernelspec": {
   "display_name": "Python 3",
   "language": "python",
   "name": "python3"
  },
  "language_info": {
   "codemirror_mode": {
    "name": "ipython",
    "version": 3
   },
   "file_extension": ".py",
   "mimetype": "text/x-python",
   "name": "python",
   "nbconvert_exporter": "python",
   "pygments_lexer": "ipython3",
   "version": "3.8.5"
  }
 },
 "nbformat": 4,
 "nbformat_minor": 4
}
