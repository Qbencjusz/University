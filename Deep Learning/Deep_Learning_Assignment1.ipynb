{
  "nbformat": 4,
  "nbformat_minor": 0,
  "metadata": {
    "colab": {
      "name": "Deep Learning Assignment1.ipynb",
      "provenance": [],
      "collapsed_sections": [],
      "toc_visible": true
    },
    "kernelspec": {
      "display_name": "Python 3",
      "language": "python",
      "name": "python3"
    },
    "language_info": {
      "codemirror_mode": {
        "name": "ipython",
        "version": 3
      },
      "file_extension": ".py",
      "mimetype": "text/x-python",
      "name": "python",
      "nbconvert_exporter": "python",
      "pygments_lexer": "ipython3",
      "version": "3.8.3"
    }
  },
  "cells": [
    {
      "cell_type": "markdown",
      "metadata": {
        "id": "CGXgWugfJ0Vl"
      },
      "source": [
        "## Assignment 1\n",
        "\n",
        "**Submission deadlines:** \n",
        "- get at least **2** points by Tuesday, 9.03.2021\n",
        "- remaining points: last lab session before or on Tuesday, 16.03.2021\n",
        "\n",
        "**Points:** Aim to get 8 out of 12 possible points\n",
        "\n",
        "## Submission instructions\n",
        "The class is held remotely. To sumbmit your solutions please show the notebook over the video call. Make sure you know all the questions and asnwers, and that the notebook contains results (before presentation do `Runtime -> Restar and run all`)\n",
        "\n",
        "We provide starter code, however you are not required to use it as long as you properly solve the tasks.\n",
        "\n",
        "As always, please submit corrections using GitHub's Pull Requests to https://github.com/janchorowski/dl_uwr."
      ]
    },
    {
      "cell_type": "markdown",
      "metadata": {
        "id": "5S8iRaCPyO2a"
      },
      "source": [
        "# Task description\n",
        "\n",
        "## TLDR\n",
        "Implement and train a neural network using pure numpy."
      ]
    },
    {
      "cell_type": "markdown",
      "metadata": {
        "id": "JHcz7I2V-bVM"
      },
      "source": [
        "\n",
        "## Problem 1 [2p]\n",
        "Implement a two-layer network, manually set weights and biases to solve the XOR task.\n",
        "\n",
        "A two-layer neural network implementes a function $f: \\mathbb{R}^D \\rightarrow \\mathbb{R}^O$ where $D$ is the input dimensionality and $O$ is the output dinemsionality. The output goes through an intermediate representation (the hidden layer) with dimensionality $H$. \n",
        "\n",
        "The computations are as follows:\n",
        "\\begin{equation}\n",
        "\\begin{split}\n",
        "A_1 &= x W_1^T + b_1  & \\qquad\\text{Total input to neurons in the hidden layer (network's first layer)} \\\\\n",
        "O_1 &= \\sigma_1(A_1)  & \\qquad\\text{Output of the hidden layer} \\\\\n",
        "A_2 &= O_1 W_2^T + b_2 & \\qquad\\text{Total input to neurons in the output layer (network's second layer)}\\\\\n",
        "O_2 &= \\sigma_2(A_2) & \\qquad\\text{Output of the network}\n",
        "\\end{split}\n",
        "\\end{equation}\n",
        "\n",
        "Where $W$ are weight matrices, $b$ are bias vectors, $\\sigma$ are non-linear activation functions (e.g. the logistic sigmoid applied element-wise, or softmax).\n",
        "\n",
        "For the 2D xor problem the network will:\n",
        "- have 2 inputs, 2 hidden neurons, one output\n",
        "- use the logistic sigmoid everywhere (that way we, when hand-designig the weights, we can assume that neurons' outputs are binary).\n",
        "\n",
        "Therrefore the shapes of the data floing through the network will be:\n",
        "- input: $x\\in\\mathbb{}R^{2}$\n",
        "- hidden layer parameters: $W_1\\in\\mathbb{}R^{2\\times 2}$ and $b_1\\in\\mathbb{}R^{2}$\n",
        "- representations in the hidden layer: $A_1\\in\\mathbb{}R^{2}$ and $O_1\\in\\mathbb{}R^{2}$\n",
        "- output layer parameters: $W_2\\in\\mathbb{}R^{1\\times 2}$ and $b_1\\in\\mathbb{}R^{1}$\n",
        "- representations in the output layer: $A_2\\in\\mathbb{}R^{1}$ and $O_2\\in\\mathbb{}R^{1}$\n",
        "\n",
        "The network can be seen as a logistic regression model, prefixed by a nonlinear transformation of the data.\n",
        "\n",
        "The first tasks consists of:\n",
        "- implementing the network\n",
        "- selecting parametwrs ($W_1, b_1, W_2, b_2$) such that $f(x)\\approx XOR(x_1, x_2)$ where the approximation is die to the sigmoids - the output may be close to 0 or 1, but doesn't need to saturate at 0 or 1.\n",
        "\n",
        "NB: the convention on weight matrix shapes follows linear [layers in PyTorch](https://pytorch.org/docs/stable/generated/torch.nn.Linear.html).\n"
      ]
    },
    {
      "cell_type": "markdown",
      "metadata": {
        "id": "0QSpZxuH-bLe"
      },
      "source": [
        "## Problem 2 [2p]\n",
        "1. Add a backward pass.\n",
        "2. Use a sensible random initialization for weights and biases.\n",
        "3. Numerically check the correctness of your gradient computation.\n",
        "\n",
        "There is nice article about taking derivative over vectors and vector chain rule: https://explained.ai/matrix-calculus/ if someone don't have experience with suchr calculus.\n"
      ]
    },
    {
      "cell_type": "markdown",
      "metadata": {
        "id": "s1Tn8j0m-bAy"
      },
      "source": [
        "## Problem 3 [2p]\n",
        "1. Implement gradient descent\n",
        "2. Train your network to solve 3D XOR\n",
        "3. Try several hidden layer sizes, for each size record the fracton of successful trainings. Then answer:\n",
        "    - What is the minimal hidden size required to solve 3D XOR (even with low reliability, when the training has to be repeated multiple times)\n",
        "    - What is the minimal hidden size required to reliably solve 3D XOR\n",
        "    - Which networks are easier to train - small or large ones? Why?\n"
      ]
    },
    {
      "cell_type": "markdown",
      "metadata": {
        "id": "RP9Pvpmf-a2A"
      },
      "source": [
        "## Problem 4 [1p]\n",
        "Replace the first nonlinearity with the [ReLU](https://en.wikipedia.org/wiki/Rectifier_(neural_networks)) activation function. Find a network architecture which reliably learns the 3D XOR problem.\n"
      ]
    },
    {
      "cell_type": "markdown",
      "metadata": {
        "id": "cGgtpe-w-asB"
      },
      "source": [
        "## Problem 5 [1p]\n",
        "Add a second hidden layer to your network, implement the forward and backward pass, then demonstrate training.\n"
      ]
    },
    {
      "cell_type": "markdown",
      "metadata": {
        "id": "Pe-pcFeO-aiE"
      },
      "source": [
        "## Problem 6 [2p]\n",
        "Implement a way to have a _variable number_ of hidden layers. Check how deep sigmoid or ReLU networks you  can train. For simplicity you can assume that all hidden layers have the same number of neurons, and use the same activation function.\n"
      ]
    },
    {
      "cell_type": "markdown",
      "metadata": {
        "id": "kIpn17Cm-aW7"
      },
      "source": [
        "## Problem 7 [2p]\n",
        "For each weight matrix $w\\in\\mathbb{R}^{n\\times m}$, add a randomly initialized `backward weight` $w_b\\in\\mathbb{R}^{m\\times n}$, which will not change during training. Change the backward pass to use $w_b$ instead of $w^T$, getting an approxmatoin of the true gradient. Can you get your network to train?\n",
        "\n",
        "NB: this approach, dubbed [feedback alignment](https://www.nature.com/articles/ncomms13276), was proposed to make error backpropagation more biologically plausible, by providing a solution to the \"weight transport problem\". Regular backpropagation requires that neurons not only know their incoming weights (thet they control), but also their outgoing weights (that are controlled by neurons in the upper layers). This is nearly impossible in a real brain."
      ]
    },
    {
      "cell_type": "markdown",
      "metadata": {
        "id": "rXJaoHSH0DZO"
      },
      "source": [
        "# Solutions and starter code"
      ]
    },
    {
      "cell_type": "code",
      "metadata": {
        "id": "YiTEWD2oqW0Y"
      },
      "source": [
        "import matplotlib.pyplot as plt\n",
        "import numpy as np"
      ],
      "execution_count": null,
      "outputs": []
    },
    {
      "cell_type": "markdown",
      "metadata": {
        "id": "eqtfJKR40J3x"
      },
      "source": [
        "XOR dataset creation"
      ]
    },
    {
      "cell_type": "code",
      "metadata": {
        "colab": {
          "base_uri": "https://localhost:8080/",
          "height": 296
        },
        "id": "lYEbCfbSpv5M",
        "outputId": "743d3a65-3cc4-49da-80c1-3386b3138b73"
      },
      "source": [
        "# Let's define a XOR dataset\n",
        "\n",
        "# X will be matrix of N 2-dimensional inputs\n",
        "X = np.array([[0, 0], [0, 1], [1, 0], [1, 1],], dtype=np.float32)\n",
        "# Y is a matrix of N numners - answers\n",
        "Y = np.array([[0], [1], [1], [0],], dtype=np.float32)\n",
        "\n",
        "plt.scatter(\n",
        "    X[:, 0], X[:, 1], c=Y[:, 0],\n",
        ")\n",
        "plt.xlabel(\"X[0]\")\n",
        "plt.ylabel(\"X[1]\")\n",
        "plt.axis(\"square\")"
      ],
      "execution_count": null,
      "outputs": [
        {
          "output_type": "execute_result",
          "data": {
            "text/plain": [
              "(-0.05, 1.05, -0.05, 1.05)"
            ]
          },
          "metadata": {
            "tags": []
          },
          "execution_count": 2
        },
        {
          "output_type": "display_data",
          "data": {
            "image/png": "[encoded data removed]",
            "text/plain": [
              "<Figure size 432x288 with 1 Axes>"
            ]
          },
          "metadata": {
            "tags": []
          }
        }
      ]
    },
    {
      "cell_type": "markdown",
      "metadata": {
        "id": "Rb3azMn929_I"
      },
      "source": [
        "## Problem 1"
      ]
    },
    {
      "cell_type": "markdown",
      "metadata": {
        "id": "RZCM_hdELE04"
      },
      "source": [
        "The code below contains a mock-up of a two-layer neural network. Fill in the code and manually set weights to solve the XOR problem.\n",
        "\n",
        "Please note: the shapes are set to be compatible with PyTorch's conventions:\n",
        "* a batch containing $N$ $D$-dimensional examples has shape $N\\times D$ (each example is a row!)\n",
        "* a weight matrix in a linear layer with $I$ inputs and $O$ outputs has shape $O \\times I$\n",
        "* a bias vector is a 1D vector. Please note that [broadcasting rules](https://docs.scipy.org/doc/numpy/user/basics.broadcasting.html) allow us to think about it as a $1 \\times D$ matrix."
      ]
    },
    {
      "cell_type": "code",
      "metadata": {
        "id": "lrrRuk6zLiF0"
      },
      "source": [
        "def sigmoid(x):\n",
        "    return 1 / (1 + np.exp(-x))\n",
        "\n",
        "\n",
        "class SmallNet:\n",
        "    def __init__(self, in_features, num_hidden, dtype=np.float32):\n",
        "        self.W1 = np.zeros((num_hidden, in_features), dtype=dtype)\n",
        "        self.b1 = np.zeros((num_hidden,), dtype=dtype)\n",
        "        self.W2 = np.zeros((1, num_hidden), dtype=dtype)\n",
        "        self.b2 = np.zeros((1,), dtype=dtype)\n",
        "        self.init_params(in_features, num_hidden)\n",
        "\n",
        "    def init_params(self, in_features, num_hidden):\n",
        "        # TODO for Problem 2:\n",
        "        # set all parameters to small random values, e.g. from N(0, 0.5)\n",
        "        self.W1 = np.random.normal(0, 0.5, (num_hidden, in_features))\n",
        "        self.b1 = np.random.normal(0, 0.5, (num_hidden,))\n",
        "        self.W2 = np.random.normal(0, 0.5, (1, num_hidden))\n",
        "        self.b2 = np.random.normal(0, 0.5, (1,))\n",
        "\n",
        "    def forward(self, X, Y=None, do_backward=False):\n",
        "        # TODO Problem 1: Fill in details of forward propagation\n",
        "\n",
        "        # Input to neurons in 1st layer\n",
        "        A1 = np.dot(X, self.W1.T) + self.b1\n",
        "        # Outputs after the sigmoid non-linearity\n",
        "        O1 = sigmoid(A1)\n",
        "        # Inputs to neuron in the second layer\n",
        "        A2 = np.dot(O1, self.W2.T) + self.b2\n",
        "        # Outputs after the sigmoid non-linearity\n",
        "        O2 = sigmoid(A2)\n",
        "\n",
        "        # When Y is none, simply return the predictions. Else compute the loss\n",
        "        if Y is not None:\n",
        "            loss = -Y * np.log(O2) - (1 - Y) * np.log(1.0 - O2)\n",
        "            # normalize loss by batch size\n",
        "            loss = loss.sum() / X.shape[0]\n",
        "        else:\n",
        "            loss = np.nan\n",
        "\n",
        "        if do_backward:\n",
        "            # TODO in Problem 2:\n",
        "            # fill in the gradient computation\n",
        "            # Please note, that there is a correspondance between\n",
        "            # the forward and backward pass: with backward computations happening\n",
        "            # in reverse order.\n",
        "            # We save the gradients with respect to the parameters as fields of self.\n",
        "            # It is not very elegant, but simplifies training code later on.\n",
        "\n",
        "            # A2_grad is the gradient of loss with respect to A2\n",
        "            # Hint: there is a concise formula for the gradient\n",
        "            # of logistic sigmoid and cross-entropy loss\n",
        "            A2_grad = O2 - Y\n",
        "            self.b2_grad = A2_grad.sum(0) / X.shape[0]\n",
        "            self.W2_grad = np.dot(A2_grad.T, O1) / X.shape[0]\n",
        "            O1_grad = np.dot(A2_grad, self.W2)\n",
        "            A1_grad = O1_grad * O1 * (1 - O1)\n",
        "            self.b1_grad = A1_grad.sum(0) / X.shape[0]\n",
        "            self.W1_grad = np.dot(A1_grad.T, X) / X.shape[0]\n",
        "\n",
        "        return O2, loss"
      ],
      "execution_count": null,
      "outputs": []
    },
    {
      "cell_type": "code",
      "metadata": {
        "colab": {
          "base_uri": "https://localhost:8080/"
        },
        "id": "jJswvBk0oiIY",
        "outputId": "057de450-a824-4e1b-fe10-b24a613dd25c"
      },
      "source": [
        "# TODO Problem 1:\n",
        "# Set by hand the weight values to solve the XOR problem\n",
        "\n",
        "net = SmallNet(2, 2, dtype=np.float64)\n",
        "net.W1 = np.array([10, 10, 10, 10]).reshape(2,2)\n",
        "net.b1 = np.array([-5, -15])\n",
        "net.W2 = np.array([10, -10]).reshape(1,2)\n",
        "net.b2 = np.array([-5])\n",
        "\n",
        "# Hint: since we use the logistic sigmoid activation, the weights may need to\n",
        "# be fairly large\n",
        "\n",
        "\n",
        "predictions, loss = net.forward(X, Y, do_backward=False)\n",
        "for x, p in zip(X, predictions):\n",
        "    print(f\"XORnet({x}) = {p[0]}\")"
      ],
      "execution_count": null,
      "outputs": [
        {
          "output_type": "stream",
          "text": [
            "XORnet([0. 0.]) = 0.0071527881888964915\n",
            "XORnet([0. 1.]) = 0.9923558641717396\n",
            "XORnet([1. 0.]) = 0.9923558641717396\n",
            "XORnet([1. 1.]) = 0.0071527881888964785\n"
          ],
          "name": "stdout"
        }
      ]
    },
    {
      "cell_type": "markdown",
      "metadata": {
        "id": "wmxCi5Vl6_xB"
      },
      "source": [
        "## Problem 2"
      ]
    },
    {
      "cell_type": "code",
      "metadata": {
        "id": "eSM5hgJ1mrhY"
      },
      "source": [
        "def check_grad(net, param_name, X, Y, eps=1e-5):\n",
        "    \"\"\"A gradient checking routine\"\"\"\n",
        "\n",
        "    param = getattr(net, param_name)\n",
        "    param_flat_accessor = param.reshape(-1)\n",
        "\n",
        "    grad = np.empty_like(param)\n",
        "    grad_flat_accessor = grad.reshape(-1)\n",
        "\n",
        "    net.forward(X, Y, do_backward=True)\n",
        "    orig_grad = getattr(net, param_name + \"_grad\")\n",
        "    assert param.shape == orig_grad.shape\n",
        "\n",
        "    for i in range(param_flat_accessor.shape[0]):\n",
        "        orig_val = param_flat_accessor[i]\n",
        "        param_flat_accessor[i] = orig_val + eps\n",
        "        _, loss_positive = net.forward(X, Y)\n",
        "        param_flat_accessor[i] = orig_val - eps\n",
        "        _, loss_negative = net.forward(X, Y)\n",
        "        param_flat_accessor[i] = orig_val\n",
        "        grad_flat_accessor[i] = (loss_positive - loss_negative) / (2 * eps)\n",
        "    assert np.allclose(grad, orig_grad)\n",
        "    return grad, orig_grad"
      ],
      "execution_count": null,
      "outputs": []
    },
    {
      "cell_type": "code",
      "metadata": {
        "id": "TTZu0jFEvgXF"
      },
      "source": [
        "# Hint: use float64 for checking the correctness of the gradient\n",
        "net = SmallNet(2, 2, dtype=np.float64)\n",
        "\n",
        "for param_name in [\"W1\", \"b1\", \"W2\", \"b2\"]:\n",
        "    check_grad(net, param_name, X, Y)"
      ],
      "execution_count": null,
      "outputs": []
    },
    {
      "cell_type": "markdown",
      "metadata": {
        "id": "8mUOs3cVvjM2"
      },
      "source": [
        "## Problem 3"
      ]
    },
    {
      "cell_type": "code",
      "metadata": {
        "colab": {
          "base_uri": "https://localhost:8080/"
        },
        "id": "nn2AAoZo0vjU",
        "outputId": "7135a371-c514-4ae7-f016-bc6867a40d12"
      },
      "source": [
        "net = SmallNet(2, 10, dtype=np.float64)\n",
        "\n",
        "alpha = 0.1  # set a learning rate\n",
        "\n",
        "for i in range(100000):\n",
        "    _, loss = net.forward(X, Y, do_backward=True)\n",
        "    if (i % 5000) == 0:\n",
        "        print(f\"after {i} steps \\tloss={loss}\")\n",
        "    for param_name in [\"W1\", \"b1\", \"W2\", \"b2\"]:\n",
        "        param = getattr(net, param_name)\n",
        "        # Hint: use the construct `param[:]` to change the contents of the array!\n",
        "        # Doing instead `param = new_val` simply changes to what the variable\n",
        "        # param points to, without affecting the network!\n",
        "        # alternatively, you could do setattr(net, param_name, new_value)\n",
        "        param[:] = param - alpha * getattr(net, param_name + \"_grad\")"
      ],
      "execution_count": null,
      "outputs": [
        {
          "output_type": "stream",
          "text": [
            "after 0 steps \tloss=0.709872346759553\n",
            "after 5000 steps \tloss=0.05510508093276124\n",
            "after 10000 steps \tloss=0.010446778178377157\n",
            "after 15000 steps \tloss=0.005193528714331537\n",
            "after 20000 steps \tloss=0.0033785689841866594\n",
            "after 25000 steps \tloss=0.002481971901701274\n",
            "after 30000 steps \tloss=0.001952900769096796\n",
            "after 35000 steps \tloss=0.0016056445009589772\n",
            "after 40000 steps \tloss=0.0013609861959383953\n",
            "after 45000 steps \tloss=0.0011796747507473474\n",
            "after 50000 steps \tloss=0.0010401223575581516\n",
            "after 55000 steps \tloss=0.0009295043510774081\n",
            "after 60000 steps \tloss=0.0008397359996770907\n",
            "after 65000 steps \tloss=0.0007654745243709257\n",
            "after 70000 steps \tloss=0.000703050981998123\n",
            "after 75000 steps \tloss=0.00064986429207144\n",
            "after 80000 steps \tloss=0.0006040201914785013\n",
            "after 85000 steps \tloss=0.0005641070930087175\n",
            "after 90000 steps \tloss=0.0005290519781547688\n",
            "after 95000 steps \tloss=0.0004980249073521072\n"
          ],
          "name": "stdout"
        }
      ]
    },
    {
      "cell_type": "code",
      "metadata": {
        "colab": {
          "base_uri": "https://localhost:8080/"
        },
        "id": "TwpEjpkU1JvK",
        "outputId": "079c447c-ab30-44f4-c43c-ff756ef43d99"
      },
      "source": [
        "predictions, loss = net.forward(X, Y, do_backward=True)\n",
        "for x, p in zip(X, predictions):\n",
        "    print(f\"XORnet({x}) = {p[0]}\")"
      ],
      "execution_count": null,
      "outputs": [
        {
          "output_type": "stream",
          "text": [
            "XORnet([0. 0.]) = 0.00038486199065334317\n",
            "XORnet([0. 1.]) = 0.9995585884860247\n",
            "XORnet([1. 0.]) = 0.9995016885129819\n",
            "XORnet([1. 1.]) = 0.0005564606374097042\n"
          ],
          "name": "stdout"
        }
      ]
    },
    {
      "cell_type": "code",
      "metadata": {
        "colab": {
          "background_save": true,
          "base_uri": "https://localhost:8080/"
        },
        "id": "U0ZMyHqz8xrC",
        "outputId": "5197d37f-0309-4510-9e1e-a2b914377601"
      },
      "source": [
        "# TODO:\n",
        "# Generate data for a 3D XOR task\n",
        "# Then estimate the success rate of training the network with diferent\n",
        "# hidden sizes.\n",
        "\n",
        "X3 = np.array([[0, 0, 0], [0, 0, 1], [0, 1, 0], [0, 1, 1], [1, 0, 0], [1, 0, 1], [1, 1, 0], [1, 1, 1]], dtype=np.float32)\n",
        "Y3 = np.array([[0], [1], [1], [0], [1], [0], [0], [1]], dtype=np.float32)\n",
        "\n",
        "for hidden_dim in [2, 3, 5, 10, 20]:\n",
        "    # TODO: run a few trainings and record the fraction of successful ones\n",
        "    print(f\"for hidden_dim {hidden_dim}\\n\")\n",
        "    for _ in range(3):\n",
        "      net = SmallNet(3, hidden_dim, dtype=np.float64)\n",
        "\n",
        "      alpha = 0.1\n",
        "\n",
        "      for i in range(100000):\n",
        "        _, loss = net.forward(X3, Y3, do_backward=True)\n",
        "        for param_name in [\"W1\", \"b1\", \"W2\", \"b2\"]:\n",
        "          param = getattr(net, param_name)\n",
        "          param[:] = param - alpha * getattr(net, param_name + \"_grad\")\n",
        "      \n",
        "      predictions, loss = net.forward(X3, Y3, do_backward=True)\n",
        "      for x, p in zip(X3, predictions):\n",
        "          print(f\"3DXORnet({x}) = {p[0]}\")\n",
        "      print(\"\\n\")"
      ],
      "execution_count": null,
      "outputs": [
        {
          "output_type": "stream",
          "text": [
            "for hidden_dim 2\n",
            "\n",
            "3DXORnet([0. 0. 0.]) = 0.0017137955938323305\n",
            "3DXORnet([0. 0. 1.]) = 0.9979199088122639\n",
            "3DXORnet([0. 1. 0.]) = 0.7494738014759922\n",
            "3DXORnet([0. 1. 1.]) = 0.0016419508452895726\n",
            "3DXORnet([1. 0. 0.]) = 0.7494737952799806\n",
            "3DXORnet([1. 0. 1.]) = 0.0016419297658318004\n",
            "3DXORnet([1. 1. 0.]) = 0.7497667034052872\n",
            "3DXORnet([1. 1. 1.]) = 0.7494444730959512\n",
            "\n",
            "\n",
            "3DXORnet([0. 0. 0.]) = 0.0018854355013534245\n",
            "3DXORnet([0. 0. 1.]) = 0.9977070119972264\n",
            "3DXORnet([0. 1. 0.]) = 0.749453568188238\n",
            "3DXORnet([0. 1. 1.]) = 0.0018484344637269686\n",
            "3DXORnet([1. 0. 0.]) = 0.7494535901449277\n",
            "3DXORnet([1. 0. 1.]) = 0.0018484967805162604\n",
            "3DXORnet([1. 1. 0.]) = 0.7496016744816718\n",
            "3DXORnet([1. 1. 1.]) = 0.7494356164582553\n",
            "\n",
            "\n",
            "3DXORnet([0. 0. 0.]) = 0.005930412013849646\n",
            "3DXORnet([0. 0. 1.]) = 0.9957183802635158\n",
            "3DXORnet([0. 1. 0.]) = 0.9957184304528712\n",
            "3DXORnet([0. 1. 1.]) = 0.2525405574029809\n",
            "3DXORnet([1. 0. 0.]) = 0.9957187012484997\n",
            "3DXORnet([1. 0. 1.]) = 0.25254041487381246\n",
            "3DXORnet([1. 1. 0.]) = 0.2525403884506424\n",
            "3DXORnet([1. 1. 1.]) = 0.24928415727920838\n",
            "\n",
            "\n",
            "for hidden_dim 3\n",
            "\n",
            "3DXORnet([0. 0. 0.]) = 0.0013212874558011884\n",
            "3DXORnet([0. 0. 1.]) = 0.9982668882089375\n",
            "3DXORnet([0. 1. 0.]) = 0.9982395642899524\n",
            "3DXORnet([0. 1. 1.]) = 0.0013525400983403107\n",
            "3DXORnet([1. 0. 0.]) = 0.9988777430214323\n",
            "3DXORnet([1. 0. 1.]) = 0.002084516317058177\n",
            "3DXORnet([1. 1. 0.]) = 0.002014810604941618\n",
            "3DXORnet([1. 1. 1.]) = 0.9988170448624658\n",
            "\n",
            "\n",
            "3DXORnet([0. 0. 0.]) = 0.00016071533244282766\n",
            "3DXORnet([0. 0. 1.]) = 0.9980454471444754\n",
            "3DXORnet([0. 1. 0.]) = 0.997969788129903\n",
            "3DXORnet([0. 1. 1.]) = 0.0021824888096064277\n",
            "3DXORnet([1. 0. 0.]) = 0.9974470570190203\n",
            "3DXORnet([1. 0. 1.]) = 0.0017466143647560733\n",
            "3DXORnet([1. 1. 0.]) = 0.0016384763328665772\n",
            "3DXORnet([1. 1. 1.]) = 0.9998825763443459\n",
            "\n",
            "\n",
            "3DXORnet([0. 0. 0.]) = 0.002429119653568053\n",
            "3DXORnet([0. 0. 1.]) = 0.995284240581903\n",
            "3DXORnet([0. 1. 0.]) = 0.9975981640013128\n",
            "3DXORnet([0. 1. 1.]) = 0.0021031512524376226\n",
            "3DXORnet([1. 0. 0.]) = 0.9975985776892898\n",
            "3DXORnet([1. 0. 1.]) = 0.0021033399225798403\n",
            "3DXORnet([1. 1. 0.]) = 0.0021496677478228298\n",
            "3DXORnet([1. 1. 1.]) = 0.9981166358351916\n",
            "\n",
            "\n",
            "for hidden_dim 5\n",
            "\n",
            "3DXORnet([0. 0. 0.]) = 0.0006766742384450485\n",
            "3DXORnet([0. 0. 1.]) = 0.9991408595574716\n",
            "3DXORnet([0. 1. 0.]) = 0.999241802356275\n",
            "3DXORnet([0. 1. 1.]) = 0.0016149232991016656\n",
            "3DXORnet([1. 0. 0.]) = 0.9989901521074768\n",
            "3DXORnet([1. 0. 1.]) = 0.0005821613046391258\n",
            "3DXORnet([1. 1. 0.]) = 0.0011384338926833243\n",
            "3DXORnet([1. 1. 1.]) = 0.9994966284156054\n",
            "\n",
            "\n",
            "3DXORnet([0. 0. 0.]) = 0.0003857821568294632\n",
            "3DXORnet([0. 0. 1.]) = 0.9991606994345258\n",
            "3DXORnet([0. 1. 0.]) = 0.9993430187808338\n",
            "3DXORnet([0. 1. 1.]) = 0.0008124210645924681\n",
            "3DXORnet([1. 0. 0.]) = 0.9992515529003728\n",
            "3DXORnet([1. 0. 1.]) = 0.0005984622704985798\n",
            "3DXORnet([1. 1. 0.]) = 0.001740578579891154\n",
            "3DXORnet([1. 1. 1.]) = 0.9997253583920296\n",
            "\n",
            "\n",
            "3DXORnet([0. 0. 0.]) = 0.0005640363375428187\n",
            "3DXORnet([0. 0. 1.]) = 0.9993593920721552\n",
            "3DXORnet([0. 1. 0.]) = 0.9993023169058015\n",
            "3DXORnet([0. 1. 1.]) = 0.0005235921525402546\n",
            "3DXORnet([1. 0. 0.]) = 0.9994449312246307\n",
            "3DXORnet([1. 0. 1.]) = 0.0007055865468240647\n",
            "3DXORnet([1. 1. 0.]) = 0.0005996372985055911\n",
            "3DXORnet([1. 1. 1.]) = 0.9996037154568036\n",
            "\n",
            "\n",
            "for hidden_dim 10\n",
            "\n",
            "3DXORnet([0. 0. 0.]) = 0.0008546136683355073\n",
            "3DXORnet([0. 0. 1.]) = 0.999206770831884\n",
            "3DXORnet([0. 1. 0.]) = 0.9992436505028343\n",
            "3DXORnet([0. 1. 1.]) = 0.000812934594952412\n",
            "3DXORnet([1. 0. 0.]) = 0.9992671175116415\n",
            "3DXORnet([1. 0. 1.]) = 0.0005340320359591135\n",
            "3DXORnet([1. 1. 0.]) = 0.0007409572334949259\n",
            "3DXORnet([1. 1. 1.]) = 0.9996003984827002\n",
            "\n",
            "\n",
            "3DXORnet([0. 0. 0.]) = 0.0005066758656151329\n",
            "3DXORnet([0. 0. 1.]) = 0.9994169556212475\n",
            "3DXORnet([0. 1. 0.]) = 0.9994119828532952\n",
            "3DXORnet([0. 1. 1.]) = 0.00045716978818859767\n",
            "3DXORnet([1. 0. 0.]) = 0.9995153974014713\n",
            "3DXORnet([1. 0. 1.]) = 0.0005635841446713262\n",
            "3DXORnet([1. 1. 0.]) = 0.0004876399705900434\n",
            "3DXORnet([1. 1. 1.]) = 0.9996115203541185\n",
            "\n",
            "\n",
            "3DXORnet([0. 0. 0.]) = 0.0006314792225775495\n",
            "3DXORnet([0. 0. 1.]) = 0.9993895490952658\n",
            "3DXORnet([0. 1. 0.]) = 0.999369131575364\n",
            "3DXORnet([0. 1. 1.]) = 0.0007846540231982499\n",
            "3DXORnet([1. 0. 0.]) = 0.9993530968094502\n",
            "3DXORnet([1. 0. 1.]) = 0.0004977748286413716\n",
            "3DXORnet([1. 1. 0.]) = 0.0004340827090912151\n",
            "3DXORnet([1. 1. 1.]) = 0.9996715635356309\n",
            "\n",
            "\n",
            "for hidden_dim 20\n",
            "\n",
            "3DXORnet([0. 0. 0.]) = 0.0004730977951926038\n",
            "3DXORnet([0. 0. 1.]) = 0.9993750254813728\n",
            "3DXORnet([0. 1. 0.]) = 0.9993921063278619\n",
            "3DXORnet([0. 1. 1.]) = 0.0004477821108557225\n",
            "3DXORnet([1. 0. 0.]) = 0.9993880975783261\n",
            "3DXORnet([1. 0. 1.]) = 0.000676698630236345\n",
            "3DXORnet([1. 1. 0.]) = 0.000462038958168731\n",
            "3DXORnet([1. 1. 1.]) = 0.9997276533597161\n",
            "\n",
            "\n",
            "3DXORnet([0. 0. 0.]) = 0.0005541707571720903\n",
            "3DXORnet([0. 0. 1.]) = 0.9993157165657228\n",
            "3DXORnet([0. 1. 0.]) = 0.9993693747885274\n",
            "3DXORnet([0. 1. 1.]) = 0.0005726343805855072\n",
            "3DXORnet([1. 0. 0.]) = 0.999243076235056\n",
            "3DXORnet([1. 0. 1.]) = 0.0006290617268642804\n",
            "3DXORnet([1. 1. 0.]) = 0.0005731263081632992\n",
            "3DXORnet([1. 1. 1.]) = 0.9997301559962513\n",
            "\n",
            "\n",
            "3DXORnet([0. 0. 0.]) = 0.0005291440240338959\n",
            "3DXORnet([0. 0. 1.]) = 0.9993774388203996\n",
            "3DXORnet([0. 1. 0.]) = 0.9993567451572808\n",
            "3DXORnet([0. 1. 1.]) = 0.0005079695640154253\n",
            "3DXORnet([1. 0. 0.]) = 0.9994324710505922\n",
            "3DXORnet([1. 0. 1.]) = 0.0005006193782080079\n",
            "3DXORnet([1. 1. 0.]) = 0.0005541975507516099\n",
            "3DXORnet([1. 1. 1.]) = 0.9997043284253785\n",
            "\n",
            "\n"
          ],
          "name": "stdout"
        }
      ]
    },
    {
      "cell_type": "markdown",
      "metadata": {
        "id": "QE7O6LxgL11J"
      },
      "source": [
        "- What is the minimal hidden size required to solve 3D XOR (even with low reliability, when the training has to be repeated multiple times)\n",
        " - The minimal hidden size required to solve 3D XOR is 2.\n",
        "- What is the minimal hidden size required to reliably solve 3D XOR\n",
        " - The minimal hidden size required to reliably solve 3D XOR is 3.\n",
        "- Which networks are easier to train - small or large ones? Why?\n",
        " - Large networks are easier to train because it is easier to tune in parameters when exploring more combinations."
      ]
    },
    {
      "cell_type": "markdown",
      "metadata": {
        "id": "UuaLEoV-9DLG"
      },
      "source": [
        "## Problem 4\n"
      ]
    },
    {
      "cell_type": "code",
      "metadata": {
        "colab": {
          "background_save": true
        },
        "id": "w3lk9_TM-MvK"
      },
      "source": [
        "def rectifier(x):\n",
        "  return np.where(x >= 0, x, 0)\n",
        "\n",
        "class SmallNet2:\n",
        "    def __init__(self, in_features, num_hidden, dtype=np.float32):\n",
        "        self.W1 = np.zeros((num_hidden, in_features), dtype=dtype)\n",
        "        self.b1 = np.zeros((num_hidden,), dtype=dtype)\n",
        "        self.W2 = np.zeros((1, num_hidden), dtype=dtype)\n",
        "        self.b2 = np.zeros((1,), dtype=dtype)\n",
        "        self.init_params(in_features, num_hidden)\n",
        "\n",
        "    def init_params(self, in_features, num_hidden):\n",
        "        self.W1 = np.random.normal(0, 0.5, (num_hidden, in_features))\n",
        "        self.b1 = np.random.normal(0, 0.5, (num_hidden,))\n",
        "        self.W2 = np.random.normal(0, 0.5, (1, num_hidden))\n",
        "        self.b2 = np.random.normal(0, 0.5, (1,))\n",
        "\n",
        "    def forward(self, X, Y=None, do_backward=False):\n",
        "        A1 = np.dot(X, self.W1.T) + self.b1\n",
        "        O1 = rectifier(A1)\n",
        "        A2 = np.dot(O1, self.W2.T) + self.b2\n",
        "        O2 = sigmoid(A2)\n",
        "\n",
        "        if Y is not None:\n",
        "            loss = -Y * np.log(O2) - (1 - Y) * np.log(1.0 - O2)\n",
        "            loss = loss.sum() / X.shape[0]\n",
        "        else:\n",
        "            loss = np.nan\n",
        "\n",
        "        if do_backward:\n",
        "            A2_grad = O2 - Y\n",
        "            self.b2_grad = A2_grad.sum(0) / X.shape[0]\n",
        "            self.W2_grad = np.dot(A2_grad.T, O1) / X.shape[0]\n",
        "            O1_grad = np.dot(A2_grad, self.W2)\n",
        "            A1_grad = O1_grad * np.where(A1 >= 0, 1, 0)\n",
        "            self.b1_grad = A1_grad.sum(0) / X.shape[0]\n",
        "            self.W1_grad = np.dot(A1_grad.T, X) / X.shape[0]\n",
        "\n",
        "        return O2, loss"
      ],
      "execution_count": null,
      "outputs": []
    },
    {
      "cell_type": "code",
      "metadata": {
        "colab": {
          "background_save": true
        },
        "id": "5-ifHexCzhQ4",
        "outputId": "de4f5ff8-6cf3-4e02-aa84-726542809741"
      },
      "source": [
        "for _ in range(10):\n",
        "  net = SmallNet2(3, 12, dtype=np.float64)\n",
        "\n",
        "  alpha = 0.1\n",
        "\n",
        "  for i in range(100000):\n",
        "    _, loss = net.forward(X3, Y3, do_backward=True)\n",
        "    for param_name in [\"W1\", \"b1\", \"W2\", \"b2\"]:\n",
        "      param = getattr(net, param_name)\n",
        "      param[:] = param - alpha * getattr(net, param_name + \"_grad\")\n",
        "      \n",
        "  predictions, loss = net.forward(X3, Y3, do_backward=True)\n",
        "  for x, p in zip(X3, predictions):\n",
        "      print(f\"3DXORnet({x}) = {p[0]}\")\n",
        "  print(\"\\n\")"
      ],
      "execution_count": null,
      "outputs": [
        {
          "output_type": "stream",
          "text": [
            "3DXORnet([0. 0. 0.]) = 5.1264092864848734e-05\n",
            "3DXORnet([0. 0. 1.]) = 0.9999110158764697\n",
            "3DXORnet([0. 1. 0.]) = 0.9998283729659596\n",
            "3DXORnet([0. 1. 1.]) = 0.00015892323047886461\n",
            "3DXORnet([1. 0. 0.]) = 0.9999136906078934\n",
            "3DXORnet([1. 0. 1.]) = 6.267771084331711e-05\n",
            "3DXORnet([1. 1. 0.]) = 0.00015659197050365108\n",
            "3DXORnet([1. 1. 1.]) = 0.999853747052782\n",
            "\n",
            "\n",
            "3DXORnet([0. 0. 0.]) = 6.000186578023779e-05\n",
            "3DXORnet([0. 0. 1.]) = 0.9998624813607006\n",
            "3DXORnet([0. 1. 0.]) = 0.9999115536760016\n",
            "3DXORnet([0. 1. 1.]) = 0.0001406129011845897\n",
            "3DXORnet([1. 0. 0.]) = 0.9999009509369859\n",
            "3DXORnet([1. 0. 1.]) = 0.00011986076761607848\n",
            "3DXORnet([1. 1. 0.]) = 7.339081991998755e-05\n",
            "3DXORnet([1. 1. 1.]) = 0.9998875713249954\n",
            "\n",
            "\n",
            "3DXORnet([0. 0. 0.]) = 9.036136680475657e-05\n",
            "3DXORnet([0. 0. 1.]) = 0.9999081891166968\n",
            "3DXORnet([0. 1. 0.]) = 0.9998134099219051\n",
            "3DXORnet([0. 1. 1.]) = 0.00015676192998339062\n",
            "3DXORnet([1. 0. 0.]) = 0.9998767410138593\n",
            "3DXORnet([1. 0. 1.]) = 4.316527900087109e-05\n",
            "3DXORnet([1. 1. 0.]) = 0.00018826642624354543\n",
            "3DXORnet([1. 1. 1.]) = 0.9998780736514669\n",
            "\n",
            "\n",
            "3DXORnet([0. 0. 0.]) = 7.175306251945293e-05\n",
            "3DXORnet([0. 0. 1.]) = 0.9998689593414302\n",
            "3DXORnet([0. 1. 0.]) = 0.9999141586670456\n",
            "3DXORnet([0. 1. 1.]) = 0.00011044335149896478\n",
            "3DXORnet([1. 0. 0.]) = 0.9999174714509063\n",
            "3DXORnet([1. 0. 1.]) = 0.00012891284478406355\n",
            "3DXORnet([1. 1. 0.]) = 5.118044844215181e-05\n",
            "3DXORnet([1. 1. 1.]) = 0.9998853271135771\n",
            "\n",
            "\n",
            "3DXORnet([0. 0. 0.]) = 6.594887548314019e-05\n",
            "3DXORnet([0. 0. 1.]) = 0.9999110448476382\n",
            "3DXORnet([0. 1. 0.]) = 0.9999245411510271\n",
            "3DXORnet([0. 1. 1.]) = 0.00015248608964875613\n",
            "3DXORnet([1. 0. 0.]) = 0.9999140407588739\n",
            "3DXORnet([1. 0. 1.]) = 7.177084612342668e-05\n",
            "3DXORnet([1. 1. 0.]) = 0.00013893082750135295\n",
            "3DXORnet([1. 1. 1.]) = 0.9989821330417897\n",
            "\n",
            "\n",
            "3DXORnet([0. 0. 0.]) = 0.00013798803335640934\n",
            "3DXORnet([0. 0. 1.]) = 0.9999491765666936\n",
            "3DXORnet([0. 1. 0.]) = 0.999836729433997\n",
            "3DXORnet([0. 1. 1.]) = 0.00010312334440776028\n",
            "3DXORnet([1. 0. 0.]) = 0.9999076861117223\n",
            "3DXORnet([1. 0. 1.]) = 0.0008218994141488286\n",
            "3DXORnet([1. 1. 0.]) = 0.00014270294041173717\n",
            "3DXORnet([1. 1. 1.]) = 0.9999194531768182\n",
            "\n",
            "\n",
            "3DXORnet([0. 0. 0.]) = 0.0001160196263532434\n",
            "3DXORnet([0. 0. 1.]) = 0.9998470309293397\n",
            "3DXORnet([0. 1. 0.]) = 0.9999591057665967\n",
            "3DXORnet([0. 1. 1.]) = 9.766779892565636e-05\n",
            "3DXORnet([1. 0. 0.]) = 0.9998288865922663\n",
            "3DXORnet([1. 0. 1.]) = 0.00017341974873657953\n",
            "3DXORnet([1. 1. 0.]) = 9.057325126013482e-05\n",
            "3DXORnet([1. 1. 1.]) = 0.9999089700400698\n",
            "\n",
            "\n",
            "3DXORnet([0. 0. 0.]) = 4.490365781290891e-05\n",
            "3DXORnet([0. 0. 1.]) = 0.9999036642829386\n",
            "3DXORnet([0. 1. 0.]) = 0.999928615657059\n",
            "3DXORnet([0. 1. 1.]) = 0.00016278897047067913\n",
            "3DXORnet([1. 0. 0.]) = 0.9999458274409779\n",
            "3DXORnet([1. 0. 1.]) = 0.0001449076304691732\n",
            "3DXORnet([1. 1. 0.]) = 0.00011060834818450969\n",
            "3DXORnet([1. 1. 1.]) = 0.9998122915053427\n",
            "\n",
            "\n",
            "3DXORnet([0. 0. 0.]) = 0.00010904952371902257\n",
            "3DXORnet([0. 0. 1.]) = 0.9998026511906571\n",
            "3DXORnet([0. 1. 0.]) = 0.9999982100428461\n",
            "3DXORnet([0. 1. 1.]) = 9.190495235324772e-05\n",
            "3DXORnet([1. 0. 0.]) = 0.9997739730349877\n",
            "3DXORnet([1. 0. 1.]) = 0.00027589783259207796\n",
            "3DXORnet([1. 1. 0.]) = 0.00015938743456236546\n",
            "3DXORnet([1. 1. 1.]) = 0.9997846876320848\n",
            "\n",
            "\n",
            "3DXORnet([0. 0. 0.]) = 8.791467327169981e-05\n",
            "3DXORnet([0. 0. 1.]) = 0.9999510540629211\n",
            "3DXORnet([0. 1. 0.]) = 0.9998541846979935\n",
            "3DXORnet([0. 1. 1.]) = 0.00013578046002437886\n",
            "3DXORnet([1. 0. 0.]) = 0.9999120938148842\n",
            "3DXORnet([1. 0. 1.]) = 0.00010918259033104243\n",
            "3DXORnet([1. 1. 0.]) = 0.0001610578965019096\n",
            "3DXORnet([1. 1. 1.]) = 0.9998213694236028\n",
            "\n",
            "\n"
          ],
          "name": "stdout"
        }
      ]
    },
    {
      "cell_type": "markdown",
      "metadata": {
        "id": "_Hr_iAKX-ND1"
      },
      "source": [
        "## Problem 5"
      ]
    },
    {
      "cell_type": "code",
      "metadata": {
        "colab": {
          "background_save": true
        },
        "id": "rnz6CndQ-NRI"
      },
      "source": [
        "class SmallNet3:\n",
        "    def __init__(self, in_features, num_hidden, dtype=np.float32):\n",
        "        self.W1 = np.zeros((num_hidden, in_features), dtype=dtype)\n",
        "        self.b1 = np.zeros((num_hidden,), dtype=dtype)\n",
        "        self.W2 = np.zeros((num_hidden, num_hidden), dtype=dtype)\n",
        "        self.b2 = np.zeros((num_hidden,), dtype=dtype)\n",
        "        self.W3 = np.zeros((1, num_hidden), dtype=dtype)\n",
        "        self.b3 = np.zeros((1,), dtype=dtype)\n",
        "        self.init_params(in_features, num_hidden)\n",
        "\n",
        "    def init_params(self, in_features, num_hidden):\n",
        "        self.W1 = np.random.normal(0, 0.5, (num_hidden, in_features))\n",
        "        self.b1 = np.random.normal(0, 0.5, (num_hidden,))\n",
        "        self.W2 = np.random.normal(0, 0.5, (num_hidden, num_hidden))\n",
        "        self.b2 = np.random.normal(0, 0.5, (num_hidden,))\n",
        "        self.W3 = np.random.normal(0, 0.5, (1, num_hidden))\n",
        "        self.b3 = np.random.normal(0, 0.5, (1,))\n",
        "\n",
        "    def forward(self, X, Y=None, do_backward=False):\n",
        "        A1 = np.dot(X, self.W1.T) + self.b1\n",
        "        O1 = sigmoid(A1)\n",
        "        A2 = np.dot(O1, self.W2.T) + self.b2\n",
        "        O2 = sigmoid(A2)\n",
        "        A3 = np.dot(O2, self.W3.T) + self.b3\n",
        "        O3 = sigmoid(A3)\n",
        "\n",
        "        if Y is not None:\n",
        "            loss = -Y * np.log(O3) - (1 - Y) * np.log(1.0 - O3)\n",
        "            loss = loss.sum() / X.shape[0]\n",
        "        else:\n",
        "            loss = np.nan\n",
        "\n",
        "        if do_backward:\n",
        "            A3_grad = O3 - Y\n",
        "            self.b3_grad = A3_grad.sum(0) / X.shape[0]\n",
        "            self.W3_grad = np.dot(A3_grad.T, O2) / X.shape[0]\n",
        "            O2_grad = np.dot(A3_grad, self.W3)\n",
        "\n",
        "            A2_grad = O2_grad * O2 * (1 - O2)\n",
        "            self.b2_grad = A2_grad.sum(0) / X.shape[0]\n",
        "            self.W2_grad = np.dot(A2_grad.T, O1) / X.shape[0]\n",
        "            O1_grad = np.dot(A2_grad, self.W2)\n",
        "\n",
        "            A1_grad = O1_grad * O1 * (1 - O1)\n",
        "            self.b1_grad = A1_grad.sum(0) / X.shape[0]\n",
        "            self.W1_grad = np.dot(A1_grad.T, X) / X.shape[0]\n",
        "\n",
        "        return O3, loss"
      ],
      "execution_count": null,
      "outputs": []
    },
    {
      "cell_type": "code",
      "metadata": {
        "colab": {
          "background_save": true
        },
        "id": "zbxOGb9849mx"
      },
      "source": [
        "net = SmallNet3(3, 2, dtype=np.float64)\n",
        "\n",
        "for param_name in [\"W1\", \"b1\", \"W2\", \"b2\", \"W3\", \"b3\"]:\n",
        "    check_grad(net, param_name, X3, Y3)"
      ],
      "execution_count": null,
      "outputs": []
    },
    {
      "cell_type": "code",
      "metadata": {
        "colab": {
          "background_save": true
        },
        "id": "LiwRnG59525P",
        "outputId": "ee02b796-dd97-4ab9-c0a2-df5f6e23d0c5"
      },
      "source": [
        "for hidden_dim in [3, 5, 10, 20]:\n",
        "    print(f\"for hidden_dim {hidden_dim}\\n\")\n",
        "    for _ in range(3):\n",
        "      net = SmallNet3(3, hidden_dim, dtype=np.float64)\n",
        "\n",
        "      alpha = 0.2\n",
        "\n",
        "      for i in range(100000):\n",
        "        _, loss = net.forward(X3, Y3, do_backward=True)\n",
        "        for param_name in [\"W1\", \"b1\", \"W2\", \"b2\", \"W3\", \"b3\"]:\n",
        "          param = getattr(net, param_name)\n",
        "          param[:] = param - alpha * getattr(net, param_name + \"_grad\")\n",
        "      \n",
        "      predictions, loss = net.forward(X3, Y3, do_backward=True)\n",
        "      for x, p in zip(X3, predictions):\n",
        "          print(f\"3DXORnet({x}) = {p[0]}\")\n",
        "      print(\"\\n\")"
      ],
      "execution_count": null,
      "outputs": [
        {
          "output_type": "stream",
          "text": [
            "for hidden_dim 3\n",
            "\n",
            "3DXORnet([0. 0. 0.]) = 0.500162313241567\n",
            "3DXORnet([0. 0. 1.]) = 0.5000563227074306\n",
            "3DXORnet([0. 1. 0.]) = 0.5000448393485588\n",
            "3DXORnet([0. 1. 1.]) = 0.49998694425552304\n",
            "3DXORnet([1. 0. 0.]) = 0.5000526518786723\n",
            "3DXORnet([1. 0. 1.]) = 0.49993545210800655\n",
            "3DXORnet([1. 1. 0.]) = 0.4999213686348385\n",
            "3DXORnet([1. 1. 1.]) = 0.49985438902326407\n",
            "\n",
            "\n",
            "3DXORnet([0. 0. 0.]) = 8.015859502624048e-05\n",
            "3DXORnet([0. 0. 1.]) = 0.9998652693132394\n",
            "3DXORnet([0. 1. 0.]) = 0.9998532053643436\n",
            "3DXORnet([0. 1. 1.]) = 0.0001914685113239664\n",
            "3DXORnet([1. 0. 0.]) = 0.9997888948903432\n",
            "3DXORnet([1. 0. 1.]) = 0.00013903354411790725\n",
            "3DXORnet([1. 1. 0.]) = 0.00012471034610348302\n",
            "3DXORnet([1. 1. 1.]) = 0.9999453927658702\n",
            "\n",
            "\n",
            "3DXORnet([0. 0. 0.]) = 0.00012529385456454563\n",
            "3DXORnet([0. 0. 1.]) = 0.9999601957834398\n",
            "3DXORnet([0. 1. 0.]) = 0.9999099486723116\n",
            "3DXORnet([0. 1. 1.]) = 0.00013990950020170627\n",
            "3DXORnet([1. 0. 0.]) = 0.9998433110864342\n",
            "3DXORnet([1. 0. 1.]) = 7.700690448940945e-05\n",
            "3DXORnet([1. 1. 0.]) = 6.28009149584959e-05\n",
            "3DXORnet([1. 1. 1.]) = 0.9999160357899515\n",
            "\n",
            "\n",
            "for hidden_dim 5\n",
            "\n",
            "3DXORnet([0. 0. 0.]) = 0.00013847769144759284\n",
            "3DXORnet([0. 0. 1.]) = 0.9998113312169897\n",
            "3DXORnet([0. 1. 0.]) = 0.9998880204586048\n",
            "3DXORnet([0. 1. 1.]) = 8.246992436477599e-05\n",
            "3DXORnet([1. 0. 0.]) = 0.9998795451394478\n",
            "3DXORnet([1. 0. 1.]) = 0.00010229088224662832\n",
            "3DXORnet([1. 1. 0.]) = 0.00013923236780492693\n",
            "3DXORnet([1. 1. 1.]) = 0.9998528037207811\n",
            "\n",
            "\n",
            "3DXORnet([0. 0. 0.]) = 0.00010365865785367456\n",
            "3DXORnet([0. 0. 1.]) = 0.999904718761215\n",
            "3DXORnet([0. 1. 0.]) = 0.9998544892627016\n",
            "3DXORnet([0. 1. 1.]) = 5.752940669783492e-05\n",
            "3DXORnet([1. 0. 0.]) = 0.9999401012834779\n",
            "3DXORnet([1. 0. 1.]) = 0.00011072615849781887\n",
            "3DXORnet([1. 1. 0.]) = 8.457727497543112e-05\n",
            "3DXORnet([1. 1. 1.]) = 0.9999463259826125\n",
            "\n",
            "\n",
            "3DXORnet([0. 0. 0.]) = 0.00010120678793967043\n",
            "3DXORnet([0. 0. 1.]) = 0.9999127906784282\n",
            "3DXORnet([0. 1. 0.]) = 0.9997522749939001\n",
            "3DXORnet([0. 1. 1.]) = 6.006785768233805e-05\n",
            "3DXORnet([1. 0. 0.]) = 0.9999047161618945\n",
            "3DXORnet([1. 0. 1.]) = 0.00028446046883960705\n",
            "3DXORnet([1. 1. 0.]) = 6.0591654625564906e-05\n",
            "3DXORnet([1. 1. 1.]) = 0.9999441512017831\n",
            "\n",
            "\n",
            "for hidden_dim 10\n",
            "\n",
            "3DXORnet([0. 0. 0.]) = 4.869436502688441e-05\n",
            "3DXORnet([0. 0. 1.]) = 0.9999370343662927\n",
            "3DXORnet([0. 1. 0.]) = 0.9999318060335911\n",
            "3DXORnet([0. 1. 1.]) = 5.137305340058833e-05\n",
            "3DXORnet([1. 0. 0.]) = 0.9999333994117321\n",
            "3DXORnet([1. 0. 1.]) = 6.468887048507771e-05\n",
            "3DXORnet([1. 1. 0.]) = 4.678727757740482e-05\n",
            "3DXORnet([1. 1. 1.]) = 0.999969131326014\n",
            "\n",
            "\n",
            "3DXORnet([0. 0. 0.]) = 4.844356216005773e-05\n",
            "3DXORnet([0. 0. 1.]) = 0.9999463148070058\n",
            "3DXORnet([0. 1. 0.]) = 0.9999508634858512\n",
            "3DXORnet([0. 1. 1.]) = 5.7325606462610204e-05\n",
            "3DXORnet([1. 0. 0.]) = 0.999943840695378\n",
            "3DXORnet([1. 0. 1.]) = 4.0454388003063194e-05\n",
            "3DXORnet([1. 1. 0.]) = 4.5593765208572385e-05\n",
            "3DXORnet([1. 1. 1.]) = 0.999966306323661\n",
            "\n",
            "\n",
            "3DXORnet([0. 0. 0.]) = 4.806341248432644e-05\n",
            "3DXORnet([0. 0. 1.]) = 0.9999423566849751\n",
            "3DXORnet([0. 1. 0.]) = 0.9999298893846165\n",
            "3DXORnet([0. 1. 1.]) = 8.085824431430214e-05\n",
            "3DXORnet([1. 0. 0.]) = 0.9999500472436944\n",
            "3DXORnet([1. 0. 1.]) = 4.172259526110241e-05\n",
            "3DXORnet([1. 1. 0.]) = 3.486985547486478e-05\n",
            "3DXORnet([1. 1. 1.]) = 0.9999621630766427\n",
            "\n",
            "\n",
            "for hidden_dim 20\n",
            "\n",
            "3DXORnet([0. 0. 0.]) = 4.51283187815559e-05\n",
            "3DXORnet([0. 0. 1.]) = 0.9999257743672542\n",
            "3DXORnet([0. 1. 0.]) = 0.999935219121861\n",
            "3DXORnet([0. 1. 1.]) = 4.863311613507967e-05\n",
            "3DXORnet([1. 0. 0.]) = 0.9999455048264275\n",
            "3DXORnet([1. 0. 1.]) = 5.178803250545353e-05\n",
            "3DXORnet([1. 1. 0.]) = 7.959626500248055e-05\n",
            "3DXORnet([1. 1. 1.]) = 0.9999713634248024\n",
            "\n",
            "\n",
            "3DXORnet([0. 0. 0.]) = 5.760318744176599e-05\n",
            "3DXORnet([0. 0. 1.]) = 0.9999428295301042\n",
            "3DXORnet([0. 1. 0.]) = 0.9999371068402079\n",
            "3DXORnet([0. 1. 1.]) = 7.012707278788599e-05\n",
            "3DXORnet([1. 0. 0.]) = 0.9999407855767101\n",
            "3DXORnet([1. 0. 1.]) = 3.99899778562179e-05\n",
            "3DXORnet([1. 1. 0.]) = 3.2187259552066406e-05\n",
            "3DXORnet([1. 1. 1.]) = 0.9999575075701649\n",
            "\n",
            "\n",
            "3DXORnet([0. 0. 0.]) = 5.996090412341336e-05\n",
            "3DXORnet([0. 0. 1.]) = 0.9999593775481825\n",
            "3DXORnet([0. 1. 0.]) = 0.9999541500700012\n",
            "3DXORnet([0. 1. 1.]) = 6.165592396086586e-05\n",
            "3DXORnet([1. 0. 0.]) = 0.9999374532937195\n",
            "3DXORnet([1. 0. 1.]) = 3.259631964998262e-05\n",
            "3DXORnet([1. 1. 0.]) = 3.7610939361168604e-05\n",
            "3DXORnet([1. 1. 1.]) = 0.9999560195404217\n",
            "\n",
            "\n"
          ],
          "name": "stdout"
        }
      ]
    },
    {
      "cell_type": "markdown",
      "metadata": {
        "id": "4PcNxrCt-NcN"
      },
      "source": [
        "## Problem 6"
      ]
    },
    {
      "cell_type": "code",
      "metadata": {
        "colab": {
          "background_save": true
        },
        "id": "6Brepirl-Nln"
      },
      "source": [
        ""
      ],
      "execution_count": null,
      "outputs": []
    },
    {
      "cell_type": "markdown",
      "metadata": {
        "id": "nWuv7Q77-Nut"
      },
      "source": [
        "## Problem 7"
      ]
    },
    {
      "cell_type": "code",
      "metadata": {
        "colab": {
          "background_save": true
        },
        "id": "avuvSoWY-N4Z"
      },
      "source": [
        ""
      ],
      "execution_count": null,
      "outputs": []
    }
  ]
}