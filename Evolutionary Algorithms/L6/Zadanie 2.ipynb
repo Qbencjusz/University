{
 "cells": [
  {
   "cell_type": "markdown",
   "metadata": {},
   "source": [
    "## MIMIC"
   ]
  },
  {
   "cell_type": "code",
   "execution_count": 2,
   "metadata": {},
   "outputs": [],
   "source": [
    "import numpy as np\n",
    "import time\n",
    "from scipy.stats import entropy\n",
    "from pyitlib import discrete_random_variable as drv\n",
    "import matplotlib.pyplot as plt"
   ]
  },
  {
   "cell_type": "code",
   "execution_count": 3,
   "metadata": {},
   "outputs": [],
   "source": [
    "def init_prob_vec(d):\n",
    "    p = np.zeros(d)\n",
    "    for k in range(d):\n",
    "        p[k] = 0.5\n",
    "    return p"
   ]
  },
  {
   "cell_type": "code",
   "execution_count": 4,
   "metadata": {},
   "outputs": [],
   "source": [
    "def binary_random(p):\n",
    "    if np.random.rand() < p:\n",
    "        z = 1\n",
    "    else:\n",
    "        z = 0\n",
    "    return z"
   ]
  },
  {
   "cell_type": "code",
   "execution_count": 5,
   "metadata": {},
   "outputs": [],
   "source": [
    "def random_individual(p, d):\n",
    "    x = np.zeros(d, dtype=int)\n",
    "    for k in range(d):\n",
    "        x[k] = binary_random(p[k])\n",
    "    return x"
   ]
  },
  {
   "cell_type": "code",
   "execution_count": 6,
   "metadata": {},
   "outputs": [],
   "source": [
    "def random_population(p, N, d):\n",
    "    population = np.zeros((N, d), dtype=int)\n",
    "    for k in range (N):\n",
    "        population[k] = random_individual(p, d)\n",
    "    return population"
   ]
  },
  {
   "cell_type": "code",
   "execution_count": 7,
   "metadata": {},
   "outputs": [],
   "source": [
    "def population_evaluation(population, F, N):\n",
    "    evaluation = np.zeros(N)\n",
    "    for k in range(N):\n",
    "        evaluation[k] = F(population[k])\n",
    "    return evaluation"
   ]
  },
  {
   "cell_type": "code",
   "execution_count": 8,
   "metadata": {},
   "outputs": [],
   "source": [
    "def best_individual(population, evaluation):\n",
    "    min_idx = np.argmin(evaluation)\n",
    "    return (population[min_idx], evaluation[min_idx])"
   ]
  },
  {
   "cell_type": "code",
   "execution_count": 9,
   "metadata": {},
   "outputs": [],
   "source": [
    "def select(population, evaluation, theta):\n",
    "    indices = np.where(evaluation > theta)[0]\n",
    "    return np.delete(population, indices, axis=0)"
   ]
  },
  {
   "cell_type": "code",
   "execution_count": 10,
   "metadata": {},
   "outputs": [],
   "source": [
    "def probability_conditional(col1, col2, x_shape):\n",
    "    pb = np.count_nonzero(col2) / x_shape\n",
    "    if pb == 0:\n",
    "        pb += 1e-50\n",
    "    p = 0\n",
    "    for x in range(x_shape):\n",
    "        if col1[x] == 1 and col2[x] == 1:\n",
    "            p += 1\n",
    "    p /= x_shape\n",
    "    return p / pb"
   ]
  },
  {
   "cell_type": "markdown",
   "metadata": {},
   "source": [
    "d - chromosome length </br>\n",
    "N - population size </br>\n",
    "T - number of iterations </br>\n",
    "F - objective function"
   ]
  },
  {
   "cell_type": "code",
   "execution_count": 15,
   "metadata": {},
   "outputs": [],
   "source": [
    "def mimic(d, N, T, F):\n",
    "    t0 = time.time()\n",
    "    \n",
    "    results = []\n",
    "    p = init_prob_vec(d)\n",
    "    population = random_population(p, N, d)\n",
    "    evaluation = population_evaluation(population, F, N)\n",
    "    theta = np.median(evaluation)\n",
    "    \n",
    "    for t in range(T):\n",
    "        sample = select(population, evaluation, theta)\n",
    "\n",
    "        i = np.zeros(d, dtype=int)\n",
    "        i[d-1] = np.argmin(entropy(sample, base=2, axis=0))\n",
    "        js = np.arange(0, d)\n",
    "        for k in reversed(range(d-1)):\n",
    "            cond_entropies = []\n",
    "            js = js[js != i[k+1]]\n",
    "            for j in js:\n",
    "                cond_entropies.append((j, drv.entropy_conditional(sample[:, j], sample[:, i[k+1]], base=2)))\n",
    "            i[k] = min(np.array(cond_entropies), key=lambda x: x[1])[0]\n",
    "#         print(f'Permutation in iteration nr {t}: \\n {i}')\n",
    "        \n",
    "        p[d-1] = np.count_nonzero(sample[:, i[d-1]]) / sample.shape[0]\n",
    "        for k in reversed(range(d-1)):\n",
    "            p[k] = probability_conditional(sample[:, i[k]], sample[:, i[k+1]], sample.shape[0])\n",
    "\n",
    "        population = random_population(p, N, d)\n",
    "        evaluation = population_evaluation(population, F, N)\n",
    "        best = best_individual(population, evaluation)\n",
    "        results.append(best[1])\n",
    "#         print(f'Best individual in iteration nr {t}: \\n {best[0]}, {best[1]}')\n",
    "        theta = np.percentile(evaluation, 2)\n",
    "    \n",
    "    print(time.time() - t0, best[0], best[1])\n",
    "    return results"
   ]
  },
  {
   "cell_type": "markdown",
   "metadata": {},
   "source": [
    "## Results"
   ]
  },
  {
   "cell_type": "code",
   "execution_count": 12,
   "metadata": {},
   "outputs": [],
   "source": [
    "def show_plt(results):\n",
    "    plt.figure()\n",
    "    plt.plot(results)\n",
    "    plt.xlabel(\"iteration number\")\n",
    "    plt.ylabel(\"objective function value\")\n",
    "    plt.show()"
   ]
  },
  {
   "cell_type": "markdown",
   "metadata": {},
   "source": [
    "### OneMax"
   ]
  },
  {
   "cell_type": "code",
   "execution_count": 13,
   "metadata": {},
   "outputs": [],
   "source": [
    "def one_max(x):\n",
    "    return -np.sum(x)"
   ]
  },
  {
   "cell_type": "code",
   "execution_count": 16,
   "metadata": {},
   "outputs": [
    {
     "name": "stdout",
     "output_type": "stream",
     "text": [
      "Permutation in iteration nr 0: \n",
      " [64 14 91 68 87  2 21 71 30 66 11 44 22 41 29 92 88  6 59 28 57 90 95 19\n",
      " 89 24 43  1 31 46 36 69 32  3 37 16 83 15 34 74 35 53 93 50 81 73  5 98\n",
      " 18 26 84 79 96 78 80 85 42 49 72 51 47 39 52 12 56  0 45 54 17 60 27 76\n",
      " 94 55 70 13 67 82 20 58  9 62 40  7 65 63 97 75 48  4 10 86 77 99 33 61\n",
      " 25 23 38  8]\n",
      "Permutation in iteration nr 1: \n",
      " [51 35 52 25 72 80 10 36 84 49 79  4 58 26 18 28  9 83 47 59 27 91 37 12\n",
      " 30 42  2 44 39 38 48  1 86 22  0 78 62 31 65 81 76 88 97 40 13 92 67 53\n",
      " 33 85 32 98 57 82 77 55 90 54 19 17 43 46 16 34 73  6 21 23  8 45 69 63\n",
      " 56 99 50 87 95 94 60 20 70 75 11 74 61 41 64 15 29 66  5  3  7 68 96 89\n",
      " 93 24 71 14]\n",
      "Permutation in iteration nr 2: \n",
      " [42 51 99 22 52  9 21  6 29 10  8 18 61 63 17 16 60 62  7 27 33  1  4 19\n",
      " 28 11 75 66 84  0 69 40  5 26 56 85 37 54 38 48 50 68 39 88 86 90 36 70\n",
      " 78 25 15 73 65 35 71 44 46 89 20 74 47 57 80 41 45 72 87 13 12 76 79 93\n",
      " 92 91 34 43 24 23 14  2 49 58 55 53 67 31 82 95 81 77 64 30 94 96 59 83\n",
      " 32 98 97  3]\n",
      "Permutation in iteration nr 3: \n",
      " [99 21  8 18 53 37  4 60 23 14  9 12  2 10  3 61 32  1 30 38 45  0 17 13\n",
      " 22 24 67 31 33  7 29 15 35 46 44 36  6  5 51 77 34 56 20 79 63 80 40 25\n",
      " 19 43 68 47 11 39 76 85 54 75 50 86 58 64 48 74 57 78 62 41 42 81 71 52\n",
      " 84 72 49 16 95 92 88 87 70 83 82 73 69 66 65 59 28 26 98 97 96 94 93 91\n",
      " 90 89 55 27]\n",
      "Permutation in iteration nr 4: \n",
      " [29 24  9 12 27  3  1  2  0  4  5 30 19 13 23 10 33 20 40 37  7 16 14 17\n",
      " 15 31  6 99 35 18 11 49 32 52 66 45 36 42 38 51 28 21 43 50 41 74 44 68\n",
      " 58 55 67 34 54 47 25 85 70 62 22 89 88 79 48 77 72 64 71 63 65 61 60 56\n",
      " 26 53 39 59 46 98 97 96 95 94 93 92 91 90 87 86 84 83 82 81 80 78 76 75\n",
      " 73 69 57  8]\n",
      "Permutation in iteration nr 5: \n",
      " [ 5 21 20  1 27  4  3 10 12 15  2  7 99  0  6 24 14 16 17  8 22 54  9 11\n",
      " 69 51 40 65 28 59 57 43 53 31 49 44 19 41 39 37 23 36 35 34 33 32 30 42\n",
      " 29 18 98 97 96 95 94 93 92 91 90 89 88 87 86 85 84 83 82 81 80 79 78 77\n",
      " 76 75 74 73 72 71 70 68 67 66 64 63 62 61 60 58 56 55 52 50 48 47 46 45\n",
      " 38 26 25 13]\n",
      "Permutation in iteration nr 6: \n",
      " [ 9  4  2 99  8  7  3  6  5  1 12  0 14 21 18 13 10 44 43 22 20 19 11 41\n",
      " 37 29 27 25 17 15 98 97 96 95 94 93 92 91 90 89 88 87 86 85 84 83 82 81\n",
      " 80 79 78 77 76 75 74 73 72 71 70 69 68 67 66 65 64 63 62 61 60 59 58 57\n",
      " 56 55 54 53 52 51 50 49 48 47 46 45 42 40 39 38 36 35 34 33 32 31 30 28\n",
      " 26 24 23 16]\n",
      "Permutation in iteration nr 7: \n",
      " [10  3  1  2  9  6  7  8  0  4  5 20 12 16 13 15 14 21 17 11 27 26 24 23\n",
      " 19 18 98 97 96 95 94 93 92 91 90 89 88 87 86 85 84 83 82 81 80 79 78 77\n",
      " 76 75 74 73 72 71 70 69 68 67 66 65 64 63 62 61 60 59 58 57 56 55 54 53\n",
      " 52 51 50 49 48 47 46 45 44 43 42 41 40 39 38 37 36 35 34 33 32 31 30 29\n",
      " 28 25 22 99]\n",
      "Permutation in iteration nr 8: \n",
      " [99  1  8  5  4 15 13  3 19 18 14  2 98 97 96 95 94 93 92 91 90 89 88 87\n",
      " 86 85 84 83 82 81 80 79 78 77 76 75 74 73 72 71 70 69 68 67 66 65 64 63\n",
      " 62 61 60 59 58 57 56 55 54 53 52 51 50 49 48 47 46 45 44 43 42 41 40 39\n",
      " 38 37 36 35 34 33 32 31 30 29 28 27 26 25 24 23 22 21 20 17 16 12 11 10\n",
      "  9  7  6  0]\n",
      "Permutation in iteration nr 9: \n",
      " [99 98 97 96 95 94 93 92 91 90 89 88 87 86 85 84 83 82 81 80 79 78 77 76\n",
      " 75 74 73 72 71 70 69 68 67 66 65 64 63 62 61 60 59 58 57 56 55 54 53 52\n",
      " 51 50 49 48 47 46 45 44 43 42 41 40 39 38 37 36 35 34 33 32 31 30 29 28\n",
      " 27 26 25 24 23 22 21 20 19 18 17 16 15 14 13 12 11 10  9  8  7  6  5  4\n",
      "  3  2  1  0]\n",
      "Permutation in iteration nr 10: \n",
      " [99 98 97 96 95 94 93 92 91 90 89 88 87 86 85 84 83 82 81 80 79 78 77 76\n",
      " 75 74 73 72 71 70 69 68 67 66 65 64 63 62 61 60 59 58 57 56 55 54 53 52\n",
      " 51 50 49 48 47 46 45 44 43 42 41 40 39 38 37 36 35 34 33 32 31 30 29 28\n",
      " 27 26 25 24 23 22 21 20 19 18 17 16 15 14 13 12 11 10  9  8  7  6  5  4\n",
      "  3  2  1  0]\n",
      "Permutation in iteration nr 11: \n",
      " [99 98 97 96 95 94 93 92 91 90 89 88 87 86 85 84 83 82 81 80 79 78 77 76\n",
      " 75 74 73 72 71 70 69 68 67 66 65 64 63 62 61 60 59 58 57 56 55 54 53 52\n",
      " 51 50 49 48 47 46 45 44 43 42 41 40 39 38 37 36 35 34 33 32 31 30 29 28\n",
      " 27 26 25 24 23 22 21 20 19 18 17 16 15 14 13 12 11 10  9  8  7  6  5  4\n",
      "  3  2  1  0]\n",
      "Permutation in iteration nr 12: \n",
      " [99 98 97 96 95 94 93 92 91 90 89 88 87 86 85 84 83 82 81 80 79 78 77 76\n",
      " 75 74 73 72 71 70 69 68 67 66 65 64 63 62 61 60 59 58 57 56 55 54 53 52\n",
      " 51 50 49 48 47 46 45 44 43 42 41 40 39 38 37 36 35 34 33 32 31 30 29 28\n",
      " 27 26 25 24 23 22 21 20 19 18 17 16 15 14 13 12 11 10  9  8  7  6  5  4\n",
      "  3  2  1  0]\n",
      "Permutation in iteration nr 13: \n",
      " [99 98 97 96 95 94 93 92 91 90 89 88 87 86 85 84 83 82 81 80 79 78 77 76\n",
      " 75 74 73 72 71 70 69 68 67 66 65 64 63 62 61 60 59 58 57 56 55 54 53 52\n",
      " 51 50 49 48 47 46 45 44 43 42 41 40 39 38 37 36 35 34 33 32 31 30 29 28\n",
      " 27 26 25 24 23 22 21 20 19 18 17 16 15 14 13 12 11 10  9  8  7  6  5  4\n",
      "  3  2  1  0]\n",
      "Permutation in iteration nr 14: \n",
      " [99 98 97 96 95 94 93 92 91 90 89 88 87 86 85 84 83 82 81 80 79 78 77 76\n",
      " 75 74 73 72 71 70 69 68 67 66 65 64 63 62 61 60 59 58 57 56 55 54 53 52\n",
      " 51 50 49 48 47 46 45 44 43 42 41 40 39 38 37 36 35 34 33 32 31 30 29 28\n",
      " 27 26 25 24 23 22 21 20 19 18 17 16 15 14 13 12 11 10  9  8  7  6  5  4\n",
      "  3  2  1  0]\n",
      "Permutation in iteration nr 15: \n",
      " [99 98 97 96 95 94 93 92 91 90 89 88 87 86 85 84 83 82 81 80 79 78 77 76\n",
      " 75 74 73 72 71 70 69 68 67 66 65 64 63 62 61 60 59 58 57 56 55 54 53 52\n",
      " 51 50 49 48 47 46 45 44 43 42 41 40 39 38 37 36 35 34 33 32 31 30 29 28\n",
      " 27 26 25 24 23 22 21 20 19 18 17 16 15 14 13 12 11 10  9  8  7  6  5  4\n",
      "  3  2  1  0]\n",
      "Permutation in iteration nr 16: \n",
      " [99 98 97 96 95 94 93 92 91 90 89 88 87 86 85 84 83 82 81 80 79 78 77 76\n",
      " 75 74 73 72 71 70 69 68 67 66 65 64 63 62 61 60 59 58 57 56 55 54 53 52\n",
      " 51 50 49 48 47 46 45 44 43 42 41 40 39 38 37 36 35 34 33 32 31 30 29 28\n",
      " 27 26 25 24 23 22 21 20 19 18 17 16 15 14 13 12 11 10  9  8  7  6  5  4\n",
      "  3  2  1  0]\n",
      "Permutation in iteration nr 17: \n",
      " [99 98 97 96 95 94 93 92 91 90 89 88 87 86 85 84 83 82 81 80 79 78 77 76\n",
      " 75 74 73 72 71 70 69 68 67 66 65 64 63 62 61 60 59 58 57 56 55 54 53 52\n",
      " 51 50 49 48 47 46 45 44 43 42 41 40 39 38 37 36 35 34 33 32 31 30 29 28\n",
      " 27 26 25 24 23 22 21 20 19 18 17 16 15 14 13 12 11 10  9  8  7  6  5  4\n",
      "  3  2  1  0]\n",
      "Permutation in iteration nr 18: \n",
      " [99 98 97 96 95 94 93 92 91 90 89 88 87 86 85 84 83 82 81 80 79 78 77 76\n",
      " 75 74 73 72 71 70 69 68 67 66 65 64 63 62 61 60 59 58 57 56 55 54 53 52\n",
      " 51 50 49 48 47 46 45 44 43 42 41 40 39 38 37 36 35 34 33 32 31 30 29 28\n",
      " 27 26 25 24 23 22 21 20 19 18 17 16 15 14 13 12 11 10  9  8  7  6  5  4\n",
      "  3  2  1  0]\n",
      "Permutation in iteration nr 19: \n",
      " [99 98 97 96 95 94 93 92 91 90 89 88 87 86 85 84 83 82 81 80 79 78 77 76\n",
      " 75 74 73 72 71 70 69 68 67 66 65 64 63 62 61 60 59 58 57 56 55 54 53 52\n",
      " 51 50 49 48 47 46 45 44 43 42 41 40 39 38 37 36 35 34 33 32 31 30 29 28\n",
      " 27 26 25 24 23 22 21 20 19 18 17 16 15 14 13 12 11 10  9  8  7  6  5  4\n",
      "  3  2  1  0]\n",
      "128.56835508346558 [1 1 1 1 1 1 1 1 1 1 1 1 1 1 1 1 1 1 1 1 1 1 1 1 1 1 1 1 1 1 1 1 1 1 1 1 1\n",
      " 1 1 1 1 1 1 1 1 1 1 1 1 1 1 1 1 1 1 1 1 1 1 1 1 1 1 1 1 1 1 1 1 1 1 1 1 1\n",
      " 1 1 1 1 1 1 1 1 1 1 1 1 1 1 1 1 1 1 1 1 1 1 1 1 1 1] -100.0\n"
     ]
    },
    {
     "data": {
      "image/png": "[encoded data removed]",
      "text/plain": [
       "<Figure size 432x288 with 1 Axes>"
      ]
     },
     "metadata": {
      "needs_background": "light"
     },
     "output_type": "display_data"
    }
   ],
   "source": [
    "results = mimic(100, 1000, 20, one_max)\n",
    "show_plt(results)"
   ]
  },
  {
   "cell_type": "markdown",
   "metadata": {},
   "source": [
    "### DeceptiveOneMax"
   ]
  },
  {
   "cell_type": "code",
   "execution_count": 318,
   "metadata": {},
   "outputs": [],
   "source": [
    "def deceptive_one_max(x):\n",
    "    if np.count_nonzero(x) == 0:\n",
    "        return -(len(x) + 1)\n",
    "    else:\n",
    "        return -np.sum(x)"
   ]
  },
  {
   "cell_type": "code",
   "execution_count": 319,
   "metadata": {},
   "outputs": [
    {
     "name": "stdout",
     "output_type": "stream",
     "text": [
      "132.11605858802795 [1 1 1 1 1 1 1 1 1 1 1 1 1 1 1 1 1 1 1 1 1 1 1 1 1 1 1 1 1 1 1 1 1 1 1 1 1\n",
      " 1 1 1 1 1 1 1 1 1 1 1 1 1 1 1 1 1 1 1 1 1 1 1 1 1 1 1 1 1 1 1 1 1 1 1 1 1\n",
      " 1 1 1 1 1 1 1 1 1 1 1 1 1 1 1 1 1 1 1 1 1 1 1 1 1 1] -100.0\n"
     ]
    },
    {
     "data": {
      "image/png": "[encoded data removed]",
      "text/plain": [
       "<Figure size 432x288 with 1 Axes>"
      ]
     },
     "metadata": {
      "needs_background": "light"
     },
     "output_type": "display_data"
    }
   ],
   "source": [
    "results = mimic(100, 1000, 20, deceptive_one_max)\n",
    "show_plt(results)"
   ]
  },
  {
   "cell_type": "markdown",
   "metadata": {},
   "source": [
    "### K-DeceptiveOneMax"
   ]
  },
  {
   "cell_type": "code",
   "execution_count": 328,
   "metadata": {},
   "outputs": [],
   "source": [
    "def k_deceptive_one_max(x, k):\n",
    "    i = 0\n",
    "    j = k\n",
    "    res = 0\n",
    "    for _ in range(0, len(x), k):\n",
    "        res += deceptive_one_max(x[i:j])\n",
    "        i += k\n",
    "        j += k\n",
    "    return res "
   ]
  },
  {
   "cell_type": "code",
   "execution_count": 303,
   "metadata": {},
   "outputs": [],
   "source": [
    "def population_evaluation_k(population, F, N, k):\n",
    "    evaluation = np.zeros(N)\n",
    "    for i in range(N):\n",
    "        evaluation[i] = F(population[i], k)\n",
    "    return evaluation"
   ]
  },
  {
   "cell_type": "code",
   "execution_count": 326,
   "metadata": {},
   "outputs": [],
   "source": [
    "def mimic_k(d, N, T, F, k):\n",
    "    t0 = time.time()\n",
    "    \n",
    "    results = []\n",
    "    p = init_prob_vec(d)\n",
    "    population = random_population(p, N, d)\n",
    "    evaluation = population_evaluation_k(population, F, N, k)\n",
    "    theta = np.median(evaluation)\n",
    "    \n",
    "    for t in range(T):\n",
    "        sample = select(population, evaluation, theta)\n",
    "\n",
    "        i = np.zeros(d, dtype=int)\n",
    "        i[d-1] = np.argmin(entropy(sample, base=2, axis=0))\n",
    "        js = np.arange(0, d)\n",
    "        for x in reversed(range(d-1)):\n",
    "            cond_entropies = []\n",
    "            js = js[js != i[x+1]]\n",
    "            for j in js:\n",
    "                cond_entropies.append((j, drv.entropy_conditional(sample[:, j], sample[:, i[x+1]], base=2)))\n",
    "            i[x] = min(np.array(cond_entropies), key=lambda x: x[1])[0]\n",
    "        \n",
    "        p[d-1] = np.count_nonzero(sample[:, i[d-1]]) / sample.shape[0]\n",
    "        for x in reversed(range(d-1)):\n",
    "            p[x] = probability_conditional(sample[:, i[x]], sample[:, i[x+1]], sample.shape[0])\n",
    "\n",
    "        population = random_population(p, N, d)\n",
    "        evaluation = population_evaluation_k(population, F, N, k)\n",
    "        best = best_individual(population, evaluation)\n",
    "        results.append(best[1])\n",
    "#         print(f'Best individual in iteration nr {t}: \\n {best[0]}, {best[1]}')\n",
    "        theta = np.percentile(evaluation, 10)\n",
    "    \n",
    "    print(time.time() - t0, best[0], best[1])\n",
    "    return results"
   ]
  },
  {
   "cell_type": "code",
   "execution_count": 329,
   "metadata": {},
   "outputs": [
    {
     "name": "stdout",
     "output_type": "stream",
     "text": [
      "131.501859664917 [1 1 1 1 1 1 1 1 1 1 1 1 1 1 1 1 1 1 1 1 1 1 1 1 1 1 1 1 1 1 1 1 1 1 1 1 1\n",
      " 1 1 1 1 1 1 1 1 1 1 1 1 1 1 1 1 1 1 1 1 1 1 1 1 1 1 1 1 1 1 1 1 1 1 1 1 1\n",
      " 1 1 1 1 1 1 1 1 1 1 1 1 1 1 1 1 1 1 1 1 1 1 1 1 1 1] -100.0\n"
     ]
    },
    {
     "data": {
      "image/png": "[encoded data removed]",
      "text/plain": [
       "<Figure size 432x288 with 1 Axes>"
      ]
     },
     "metadata": {
      "needs_background": "light"
     },
     "output_type": "display_data"
    }
   ],
   "source": [
    "results = mimic_k(100, 1000, 20, k_deceptive_one_max, 5)\n",
    "show_plt(results)"
   ]
  },
  {
   "cell_type": "code",
   "execution_count": null,
   "metadata": {},
   "outputs": [],
   "source": []
  }
 ],
 "metadata": {
  "kernelspec": {
   "display_name": "Python 3",
   "language": "python",
   "name": "python3"
  },
  "language_info": {
   "codemirror_mode": {
    "name": "ipython",
    "version": 3
   },
   "file_extension": ".py",
   "mimetype": "text/x-python",
   "name": "python",
   "nbconvert_exporter": "python",
   "pygments_lexer": "ipython3",
   "version": "3.8.5"
  }
 },
 "nbformat": 4,
 "nbformat_minor": 4
}
