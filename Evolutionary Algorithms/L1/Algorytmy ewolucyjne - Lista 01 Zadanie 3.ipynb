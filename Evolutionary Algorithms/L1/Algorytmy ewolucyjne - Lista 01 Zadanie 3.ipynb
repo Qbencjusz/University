{
 "cells": [
  {
   "cell_type": "markdown",
   "metadata": {},
   "source": [
    "# Zadanie 3"
   ]
  },
  {
   "cell_type": "markdown",
   "metadata": {},
   "source": [
    "## PBIL"
   ]
  },
  {
   "cell_type": "code",
   "execution_count": 1,
   "metadata": {},
   "outputs": [],
   "source": [
    "import numpy as np\n",
    "import time\n",
    "import matplotlib.pyplot as plt"
   ]
  },
  {
   "cell_type": "code",
   "execution_count": 2,
   "metadata": {},
   "outputs": [],
   "source": [
    "d = 266 #fixed chromosome length"
   ]
  },
  {
   "cell_type": "code",
   "execution_count": 3,
   "metadata": {},
   "outputs": [],
   "source": [
    "def init_prob_vec():\n",
    "    p = np.zeros(d)\n",
    "    for k in range(d):\n",
    "        p[k] = 0.5\n",
    "    return p"
   ]
  },
  {
   "cell_type": "code",
   "execution_count": 4,
   "metadata": {},
   "outputs": [],
   "source": [
    "def binary_random(p):\n",
    "    if np.random.rand() < p:\n",
    "        z = 1\n",
    "    else:\n",
    "        z = 0\n",
    "    return z"
   ]
  },
  {
   "cell_type": "code",
   "execution_count": 5,
   "metadata": {},
   "outputs": [],
   "source": [
    "def random_individual(p):\n",
    "    x = np.zeros(d, dtype=int)\n",
    "    for k in range(d):\n",
    "        x[k] = binary_random(p[k])\n",
    "    return x"
   ]
  },
  {
   "cell_type": "code",
   "execution_count": 6,
   "metadata": {},
   "outputs": [],
   "source": [
    "def random_population(p, N):\n",
    "    population = np.zeros((N, d))\n",
    "    for k in range (N):\n",
    "        population[k] = random_individual(p)\n",
    "    return population"
   ]
  },
  {
   "cell_type": "code",
   "execution_count": 7,
   "metadata": {},
   "outputs": [],
   "source": [
    "def population_evaluation(population, F, N):\n",
    "    evaluation = np.zeros(N)\n",
    "    for k in range(N):\n",
    "        evaluation[k] = F(population[k])\n",
    "    return evaluation"
   ]
  },
  {
   "cell_type": "code",
   "execution_count": 8,
   "metadata": {},
   "outputs": [],
   "source": [
    "def best_individual(population, evaluation):\n",
    "    max_idx = np.argmax(evaluation)\n",
    "    return (population[max_idx], evaluation[max_idx])"
   ]
  },
  {
   "cell_type": "code",
   "execution_count": 9,
   "metadata": {},
   "outputs": [],
   "source": [
    "def pbil(N, T, theta1, theta2, theta3, F):\n",
    "    t0 = time.time()\n",
    "    \n",
    "    results = []\n",
    "    p = init_prob_vec()\n",
    "    population = random_population(p, N)\n",
    "    evaluation = population_evaluation(population, F, N)\n",
    "    for t in range(T):\n",
    "        x = best_individual(population, evaluation)[0]\n",
    "        results.append(best_individual(population, evaluation)[1])\n",
    "        for k in range(d):\n",
    "            p[k] = p[k] * (1 - theta1) + x[k] * theta1\n",
    "        for k in range(d):\n",
    "            if np.random.rand() < theta2:\n",
    "                p[k] = p[k] * (1 - theta3) + binary_random(0.5) * theta3\n",
    "        population = random_population(p, N)\n",
    "        evaluation = population_evaluation(population, F, N)\n",
    "        \n",
    "    print(time.time() - t0, best_individual(population, evaluation))\n",
    "    return results"
   ]
  },
  {
   "cell_type": "code",
   "execution_count": 10,
   "metadata": {},
   "outputs": [],
   "source": [
    "def show_plt(results, N, T, theta1, theta2, theta3):\n",
    "    title = 'N = ' + str(N) + ', T = ' + str(T) + ', theta1 = ' + str(theta1) + ', theta2 = ' + str(theta2) + ', theta3 = ' + str(theta3)\n",
    "    plt.figure()\n",
    "    plt.plot(results)\n",
    "    plt.title(title)\n",
    "    plt.xlabel(\"iteration number\")\n",
    "    plt.ylabel(\"objective function value\")\n",
    "    plt.xlim((0, T-1))\n",
    "    plt.show()"
   ]
  },
  {
   "cell_type": "code",
   "execution_count": 11,
   "metadata": {},
   "outputs": [],
   "source": [
    "class_rules = []\n",
    "\n",
    "with open('ClassificationRules.txt', 'r') as f:\n",
    "    for line in f:\n",
    "        class_rules.append([int(float(val)) for val in line.split()])"
   ]
  },
  {
   "cell_type": "code",
   "execution_count": 12,
   "metadata": {},
   "outputs": [],
   "source": [
    "with open('ImageExpertReduced.txt', 'r') as f2:\n",
    "    img_exp = f2.readline().split()\n",
    "\n",
    "img_exp = [int(float(x)) for x in img_exp]"
   ]
  },
  {
   "cell_type": "code",
   "execution_count": 27,
   "metadata": {},
   "outputs": [],
   "source": [
    "def objective_function(x):   \n",
    "    rules = []\n",
    "    res = np.zeros(3)\n",
    "    img_res = [0] * 9350\n",
    "\n",
    "    for i in range(d):      \n",
    "        if x[i] == 1:\n",
    "            rules.append(class_rules[i])\n",
    "\n",
    "    for i in range(9350):\n",
    "        for rule in rules:\n",
    "            if rule[i] == 1:\n",
    "                res[0] += 1\n",
    "            elif rule[i] == 2:\n",
    "                res[1] += 1\n",
    "            else:\n",
    "                res[2] += 1\n",
    "        max_idx = np.argmax(res)\n",
    "        img_res[i] = max_idx + 1\n",
    "        res.fill(0)\n",
    "        \n",
    "    cnt = 0\n",
    "    for x,y in zip(img_res, img_exp):\n",
    "        if x == y:\n",
    "            cnt += 1\n",
    "            \n",
    "    return cnt"
   ]
  },
  {
   "cell_type": "code",
   "execution_count": 35,
   "metadata": {},
   "outputs": [
    {
     "name": "stdout",
     "output_type": "stream",
     "text": [
      "4047.6816263198853 (array([1., 1., 0., 0., 0., 1., 1., 1., 0., 0., 0., 0., 1., 0., 1., 0., 1.,\n",
      "       1., 0., 0., 1., 0., 1., 0., 0., 0., 0., 1., 1., 0., 1., 0., 0., 0.,\n",
      "       0., 0., 1., 0., 1., 0., 0., 0., 1., 1., 1., 1., 1., 0., 1., 1., 1.,\n",
      "       1., 0., 0., 0., 0., 1., 0., 1., 0., 0., 1., 0., 1., 0., 0., 0., 0.,\n",
      "       0., 0., 1., 0., 1., 1., 1., 1., 1., 1., 0., 1., 0., 0., 0., 1., 1.,\n",
      "       1., 0., 1., 0., 0., 1., 1., 0., 0., 0., 0., 1., 1., 0., 1., 0., 1.,\n",
      "       1., 1., 0., 0., 0., 1., 0., 0., 1., 1., 1., 1., 1., 0., 0., 1., 0.,\n",
      "       1., 0., 0., 0., 0., 0., 0., 0., 0., 0., 1., 1., 0., 1., 1., 0., 1.,\n",
      "       0., 0., 1., 1., 1., 1., 1., 1., 1., 0., 1., 1., 1., 1., 0., 0., 1.,\n",
      "       1., 1., 1., 1., 1., 0., 1., 0., 1., 1., 0., 1., 1., 0., 0., 1., 1.,\n",
      "       1., 1., 1., 1., 1., 0., 1., 1., 1., 0., 1., 0., 0., 1., 1., 0., 1.,\n",
      "       0., 0., 0., 0., 0., 1., 1., 0., 0., 0., 0., 0., 0., 0., 1., 1., 1.,\n",
      "       1., 0., 0., 1., 0., 0., 1., 1., 0., 0., 0., 1., 1., 0., 1., 0., 0.,\n",
      "       0., 0., 1., 1., 0., 0., 0., 0., 0., 0., 1., 1., 0., 0., 0., 0., 1.,\n",
      "       1., 0., 0., 0., 0., 0., 1., 0., 1., 0., 0., 0., 0., 0., 1., 0., 1.,\n",
      "       0., 0., 0., 1., 0., 0., 0., 0., 0., 0., 0.]), 9186.0)\n"
     ]
    }
   ],
   "source": [
    "results = pbil(50, 100, 0.1, 0.05, 0.01, objective_function)"
   ]
  },
  {
   "cell_type": "code",
   "execution_count": 36,
   "metadata": {},
   "outputs": [
    {
     "data": {
      "image/png": "[encoded data removed]",
      "text/plain": [
       "<Figure size 432x288 with 1 Axes>"
      ]
     },
     "metadata": {
      "needs_background": "light"
     },
     "output_type": "display_data"
    }
   ],
   "source": [
    "show_plt(results, 50, 100, 0.1, 0.05, 0.01)"
   ]
  },
  {
   "cell_type": "code",
   "execution_count": 37,
   "metadata": {},
   "outputs": [
    {
     "name": "stdout",
     "output_type": "stream",
     "text": [
      "7683.431247472763 (array([1., 1., 0., 0., 0., 0., 1., 1., 1., 0., 1., 0., 0., 0., 1., 0., 0.,\n",
      "       1., 1., 1., 0., 0., 1., 0., 0., 0., 0., 0., 0., 0., 1., 0., 0., 1.,\n",
      "       0., 0., 0., 1., 1., 0., 1., 1., 1., 1., 0., 1., 1., 0., 0., 0., 1.,\n",
      "       0., 0., 0., 0., 0., 0., 1., 0., 0., 0., 0., 0., 0., 1., 0., 0., 0.,\n",
      "       1., 0., 1., 1., 1., 0., 0., 0., 0., 1., 0., 1., 1., 1., 0., 0., 1.,\n",
      "       1., 0., 0., 0., 1., 0., 0., 1., 1., 0., 1., 1., 0., 1., 1., 1., 1.,\n",
      "       1., 0., 1., 1., 1., 1., 0., 1., 1., 1., 1., 0., 1., 1., 1., 1., 1.,\n",
      "       1., 1., 0., 1., 0., 0., 0., 0., 0., 1., 1., 1., 0., 1., 1., 1., 1.,\n",
      "       0., 0., 1., 1., 1., 1., 0., 1., 1., 1., 1., 1., 1., 1., 1., 0., 1.,\n",
      "       1., 0., 1., 1., 1., 0., 0., 0., 1., 0., 0., 1., 1., 0., 1., 1., 1.,\n",
      "       1., 0., 1., 1., 1., 1., 1., 0., 0., 1., 1., 1., 1., 0., 1., 0., 0.,\n",
      "       0., 0., 0., 0., 0., 1., 1., 0., 0., 1., 0., 0., 1., 0., 1., 0., 0.,\n",
      "       0., 1., 0., 0., 0., 1., 0., 0., 0., 0., 0., 1., 0., 1., 1., 0., 0.,\n",
      "       0., 0., 0., 0., 0., 0., 1., 0., 1., 0., 1., 0., 0., 1., 0., 0., 0.,\n",
      "       1., 0., 0., 0., 0., 0., 0., 0., 0., 0., 0., 0., 0., 1., 0., 1., 0.,\n",
      "       0., 0., 0., 0., 0., 0., 0., 1., 0., 0., 0.]), 9201.0)\n"
     ]
    }
   ],
   "source": [
    "results = pbil(50, 200, 0.1, 0.05, 0.01, objective_function)"
   ]
  },
  {
   "cell_type": "code",
   "execution_count": 38,
   "metadata": {},
   "outputs": [
    {
     "data": {
      "image/png": "[encoded data removed]",
      "text/plain": [
       "<Figure size 432x288 with 1 Axes>"
      ]
     },
     "metadata": {
      "needs_background": "light"
     },
     "output_type": "display_data"
    }
   ],
   "source": [
    "show_plt(results, 50, 200, 0.1, 0.05, 0.01)"
   ]
  },
  {
   "cell_type": "code",
   "execution_count": null,
   "metadata": {},
   "outputs": [],
   "source": []
  }
 ],
 "metadata": {
  "kernelspec": {
   "display_name": "Python 3",
   "language": "python",
   "name": "python3"
  },
  "language_info": {
   "codemirror_mode": {
    "name": "ipython",
    "version": 3
   },
   "file_extension": ".py",
   "mimetype": "text/x-python",
   "name": "python",
   "nbconvert_exporter": "python",
   "pygments_lexer": "ipython3",
   "version": "3.8.5"
  }
 },
 "nbformat": 4,
 "nbformat_minor": 4
}
