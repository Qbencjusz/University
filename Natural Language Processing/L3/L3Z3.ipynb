{
 "cells": [
  {
   "cell_type": "code",
   "execution_count": 3,
   "metadata": {},
   "outputs": [],
   "source": [
    "import numpy as np"
   ]
  },
  {
   "cell_type": "code",
   "execution_count": 4,
   "metadata": {},
   "outputs": [],
   "source": [
    "def fair_dice():\n",
    "    return np.random.choice(np.arange(1, 7), 1)[0]\n",
    "\n",
    "def fake_dice():\n",
    "    return np.random.choice(np.arange(1, 7), 1, p=[0.1, 0.1, 0.1, 0.1, 0.1, 0.5])[0]"
   ]
  },
  {
   "cell_type": "code",
   "execution_count": 145,
   "metadata": {},
   "outputs": [],
   "source": [
    "def rolls(N, p0, p1):\n",
    "    res = np.zeros(N, dtype=int)\n",
    "    truth = []\n",
    "    dice = True\n",
    "    for i in range(N):\n",
    "        if dice and np.random.random() < p0:\n",
    "            dice = False\n",
    "        if not dice and np.random.random() < p1:\n",
    "            dice = True\n",
    "        if dice:\n",
    "            res[i] = fair_dice()\n",
    "            truth.append(0)\n",
    "        else:\n",
    "            res[i] = fake_dice()\n",
    "            truth.append(1)\n",
    "    return (res, truth)"
   ]
  },
  {
   "cell_type": "code",
   "execution_count": 146,
   "metadata": {},
   "outputs": [],
   "source": [
    "def subsequences(xs, n):\n",
    "    return (xs[i:i+n] for i in range(len(xs)))"
   ]
  },
  {
   "cell_type": "code",
   "execution_count": 163,
   "metadata": {},
   "outputs": [],
   "source": [
    "def heuristic(res):\n",
    "    guess = np.zeros(len(res), dtype=int)\n",
    "    idx = -1\n",
    "    for seq in subsequences(res, 10):\n",
    "        idx += 1\n",
    "        if np.count_nonzero(seq == 6) > 3:\n",
    "            if idx + 10 < len(res):\n",
    "                for x in range(idx, idx+10):\n",
    "                    guess[x] = 1\n",
    "            else:\n",
    "                for x in range(idx, len(res)):\n",
    "                    guess[x] = 1\n",
    "    return guess.tolist()"
   ]
  },
  {
   "cell_type": "code",
   "execution_count": 164,
   "metadata": {},
   "outputs": [],
   "source": [
    "def measure(a, b):\n",
    "    return len([i for i, j in zip(a, b) if i == j]) / len(a)"
   ]
  },
  {
   "cell_type": "code",
   "execution_count": 169,
   "metadata": {},
   "outputs": [],
   "source": [
    "def hmm(res):\n",
    "    N = res.shape[0]\n",
    "    A = np.array([[0.96, 0.04], [0.05, 0.95]])\n",
    "    B = np.array([[1/6, 1/6, 1/6, 1/6, 1/6, 1/6], [1/10, 1/10, 1/10, 1/10, 1/10, 1/2]])\n",
    "    alphas = np.zeros((A.shape[0], N))\n",
    "    betas = np.zeros((A.shape[0], N))\n",
    "    \n",
    "    alphas[0, 0] = 1\n",
    "    alphas[1, 0] = 0\n",
    "    \n",
    "    for i in range(1, N):\n",
    "        for j in range(2):\n",
    "            for k in range(2):\n",
    "                alphas[j, i] += alphas[k, i-1] * A[k, j] * B[k, res[i]-1]\n",
    "            alphas[j, i] *= 5.5\n",
    "    \n",
    "    betas[:, N-1] = 1\n",
    "    \n",
    "    for i in reversed(range(N-1)):\n",
    "        for j in range(2):\n",
    "            for k in range(2):\n",
    "                betas[j, i] += betas[k, i+1] * A[j, k] * B[k, res[i]-1]\n",
    "            betas[j,i] *= 5.5\n",
    "    \n",
    "    gammas = alphas * betas / np.sum(alphas * betas, axis=0)\n",
    "    guess = np.argmax(gammas, axis=0)\n",
    "    return guess.tolist()"
   ]
  },
  {
   "cell_type": "code",
   "execution_count": 188,
   "metadata": {},
   "outputs": [],
   "source": [
    "test = rolls(10000, 0.04, 0.05)"
   ]
  },
  {
   "cell_type": "code",
   "execution_count": 189,
   "metadata": {},
   "outputs": [
    {
     "name": "stdout",
     "output_type": "stream",
     "text": [
      "[1 5 4 2 1 2 2 1 3 1 6 5 2 5 5 6 3 6 5 1 6 5 4 6 6 6 6 6 4 5 1 1 2 5 3 5 1\n",
      " 6 6 3 2 6 2 6 6 5 3 6 6 6 6 6 6 5 6 6 2 5 6 6 6 5 1 6 4 2 6 1 6 2 6 5 1 3\n",
      " 4 3 6 4 1 1 4 5 3 6 4 5 1 6 6 6 6 6 6 6 6 3 5 3 6 6]\n",
      "[0, 0, 0, 0, 0, 0, 0, 0, 0, 0, 0, 0, 0, 0, 0, 0, 0, 0, 0, 0, 0, 0, 0, 1, 1, 1, 1, 1, 1, 1, 1, 1, 0, 1, 1, 1, 1, 1, 1, 1, 1, 1, 1, 1, 1, 1, 1, 1, 1, 1, 1, 1, 1, 1, 1, 1, 1, 1, 1, 1, 1, 1, 1, 1, 1, 1, 1, 1, 1, 1, 0, 0, 0, 0, 0, 0, 0, 0, 0, 0, 0, 0, 0, 0, 0, 1, 1, 1, 1, 1, 1, 1, 1, 1, 1, 1, 1, 1, 1, 1]\n"
     ]
    }
   ],
   "source": [
    "print(test[0][:100])\n",
    "print(test[1][:100])"
   ]
  },
  {
   "cell_type": "code",
   "execution_count": 190,
   "metadata": {},
   "outputs": [
    {
     "data": {
      "text/plain": [
       "0.7601"
      ]
     },
     "execution_count": 190,
     "metadata": {},
     "output_type": "execute_result"
    }
   ],
   "source": [
    "measure(test[1], heuristic(test[0]))"
   ]
  },
  {
   "cell_type": "code",
   "execution_count": 191,
   "metadata": {},
   "outputs": [
    {
     "data": {
      "text/plain": [
       "0.8322"
      ]
     },
     "execution_count": 191,
     "metadata": {},
     "output_type": "execute_result"
    }
   ],
   "source": [
    "measure(test[1], hmm(test[0]))"
   ]
  },
  {
   "cell_type": "code",
   "execution_count": null,
   "metadata": {},
   "outputs": [],
   "source": []
  }
 ],
 "metadata": {
  "kernelspec": {
   "display_name": "Python 3",
   "language": "python",
   "name": "python3"
  },
  "language_info": {
   "codemirror_mode": {
    "name": "ipython",
    "version": 3
   },
   "file_extension": ".py",
   "mimetype": "text/x-python",
   "name": "python",
   "nbconvert_exporter": "python",
   "pygments_lexer": "ipython3",
   "version": "3.8.5"
  }
 },
 "nbformat": 4,
 "nbformat_minor": 4
}
