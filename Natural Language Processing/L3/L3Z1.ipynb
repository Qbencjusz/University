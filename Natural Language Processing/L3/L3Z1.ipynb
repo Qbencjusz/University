{
 "cells": [
  {
   "cell_type": "code",
   "execution_count": 1,
   "metadata": {},
   "outputs": [],
   "source": [
    "import re\n",
    "import numpy as np"
   ]
  },
  {
   "cell_type": "code",
   "execution_count": 2,
   "metadata": {},
   "outputs": [],
   "source": [
    "def regex(text):\n",
    "    return re.sub(r'[^\\w\\s]', '', text).rstrip().lower().split()"
   ]
  },
  {
   "cell_type": "code",
   "execution_count": 3,
   "metadata": {},
   "outputs": [],
   "source": [
    "unigram_dict = {}\n",
    "\n",
    "with open('polish_corpora.txt', 'r', encoding='utf8') as f:\n",
    "    for line in f:\n",
    "        for x in regex(line):\n",
    "            if x not in unigram_dict:\n",
    "                unigram_dict[x] = 1\n",
    "            else:\n",
    "                unigram_dict[x] += 1"
   ]
  },
  {
   "cell_type": "code",
   "execution_count": 6,
   "metadata": {},
   "outputs": [],
   "source": [
    "def remove_pol_chars(text):\n",
    "    pol_chars = 'ąćęłńóśźżĄĆĘŁŃÓŚŹŻ'\n",
    "    replacements = 'acelnoszzACELNOSZZ'\n",
    "    translator = str.maketrans(pol_chars, replacements)\n",
    "    return text.translate(translator)"
   ]
  },
  {
   "cell_type": "code",
   "execution_count": 11,
   "metadata": {},
   "outputs": [],
   "source": [
    "word_dict = {}\n",
    "\n",
    "with open('polish_corpora.txt', 'r', encoding='utf8') as f:\n",
    "    for line in f:\n",
    "        for x in regex(line):\n",
    "            trans = remove_pol_chars(x)\n",
    "            if trans not in word_dict:\n",
    "                word_dict[trans] = [x]\n",
    "            elif x not in word_dict[trans]:\n",
    "                word_dict[trans].append(x)"
   ]
  },
  {
   "cell_type": "code",
   "execution_count": 214,
   "metadata": {},
   "outputs": [],
   "source": [
    "def reconstruct(text):\n",
    "    res = ''\n",
    "    for w in text:\n",
    "        if w in word_dict:\n",
    "            scores = word_dict[w]\n",
    "            scores = [unigram_dict[x] for x in scores]\n",
    "            max_idx = scores.index(max(scores))\n",
    "            if res == '':\n",
    "                res += word_dict[w][max_idx].capitalize() + ' '\n",
    "            else:\n",
    "                res += word_dict[w][max_idx] + ' '\n",
    "        else:\n",
    "            if res == '':\n",
    "                res += w.capitalize() + ' '\n",
    "            else:\n",
    "                res += w + ' '\n",
    "    return res.strip()"
   ]
  },
  {
   "cell_type": "code",
   "execution_count": 215,
   "metadata": {},
   "outputs": [],
   "source": [
    "def measure(t1, t2):\n",
    "    return sum([1 for i, j in zip(t1, t2) if i == j]) / len(t1)"
   ]
  },
  {
   "cell_type": "code",
   "execution_count": 225,
   "metadata": {},
   "outputs": [
    {
     "name": "stdout",
     "output_type": "stream",
     "text": [
      "0.93445759798372\n"
     ]
    }
   ],
   "source": [
    "N = 1000000\n",
    "i = 0\n",
    "flag = False\n",
    "results = []\n",
    "with open('polish_corpora.txt', 'r', encoding='utf8') as f:\n",
    "    for line in f:\n",
    "        if i == N-1:\n",
    "            flag = True\n",
    "        full_acc = line.rstrip().split()\n",
    "        polish_acc = line.rstrip().lower().split()      \n",
    "        trans = [remove_pol_chars(x) for x in polish_acc]\n",
    "        result = reconstruct(trans).split()\n",
    "        low_result = [x.lower() for x in result]\n",
    "        results.append(np.sqrt(measure(polish_acc, low_result) * measure(full_acc, result)))\n",
    "        i += 1\n",
    "        if flag:\n",
    "            break\n",
    "print(np.mean(results))"
   ]
  },
  {
   "cell_type": "code",
   "execution_count": 223,
   "metadata": {},
   "outputs": [],
   "source": [
    "example = ['wymyslilem', 'zatrwazajaco', 'interesujacy', 'przyklad', 'tekstu', 'wejsciowego', '!']"
   ]
  },
  {
   "cell_type": "code",
   "execution_count": 224,
   "metadata": {},
   "outputs": [
    {
     "name": "stdout",
     "output_type": "stream",
     "text": [
      "Wymyśliłem zatrważająco interesujący przykład tekstu wejściowego !\n"
     ]
    }
   ],
   "source": [
    "print(reconstruct(example))"
   ]
  },
  {
   "cell_type": "code",
   "execution_count": null,
   "metadata": {},
   "outputs": [],
   "source": []
  }
 ],
 "metadata": {
  "kernelspec": {
   "display_name": "Python 3",
   "language": "python",
   "name": "python3"
  },
  "language_info": {
   "codemirror_mode": {
    "name": "ipython",
    "version": 3
   },
   "file_extension": ".py",
   "mimetype": "text/x-python",
   "name": "python",
   "nbconvert_exporter": "python",
   "pygments_lexer": "ipython3",
   "version": "3.8.5"
  }
 },
 "nbformat": 4,
 "nbformat_minor": 4
}
