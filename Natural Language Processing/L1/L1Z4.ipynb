{
 "cells": [
  {
   "cell_type": "code",
   "execution_count": 197,
   "metadata": {},
   "outputs": [],
   "source": [
    "from itertools import permutations\n",
    "import numpy as np"
   ]
  },
  {
   "cell_type": "code",
   "execution_count": 198,
   "metadata": {},
   "outputs": [],
   "source": [
    "def convert(l):\n",
    "    return ''.join(l).lower().replace('.', '').split()"
   ]
  },
  {
   "cell_type": "code",
   "execution_count": 212,
   "metadata": {},
   "outputs": [],
   "source": [
    "s0 = 'Judyta dała wczoraj Stefanowi czekoladki.'\n",
    "s1 = 'Babuleńka miała dwa rogate koziołki.'\n",
    "s2 = 'Wczoraj wieczorem spotkałem pewną piękną kobietę.'\n",
    "cs0 = convert(s0)\n",
    "cs1 = convert(s1)\n",
    "cs2 = convert(s2)\n",
    "gram_set = set(cs0 + cs1 + cs2)\n",
    "ps0 = list(permutations(cs0))\n",
    "ps1 = list(permutations(cs1))\n",
    "ps2 = list(permutations(cs2))"
   ]
  },
  {
   "cell_type": "code",
   "execution_count": 200,
   "metadata": {},
   "outputs": [],
   "source": [
    "bigram_dict = dict()\n",
    "bigrams = []\n",
    "\n",
    "with open('poleval_2grams.txt', 'r', encoding='utf8') as f:\n",
    "    for line in f:\n",
    "        l = line.split()\n",
    "        if l[1] in gram_set:\n",
    "            bigrams.append(line)\n",
    "\n",
    "for line in bigrams:\n",
    "    l = line.split()\n",
    "    if l[1] in bigram_dict:\n",
    "        bigram_dict[l[1]].append((l[2], l[0]))\n",
    "    else:\n",
    "        bigram_dict[l[1]] = [(l[2], l[0])]"
   ]
  },
  {
   "cell_type": "code",
   "execution_count": 201,
   "metadata": {},
   "outputs": [],
   "source": [
    "trigram_dict = dict()\n",
    "trigrams = []\n",
    "\n",
    "with open('poleval_3grams.txt', 'r', encoding='utf8') as f:\n",
    "    for line in f:\n",
    "        l = line.split()\n",
    "        if l[1] in gram_set:\n",
    "            trigrams.append(line)\n",
    "            \n",
    "for line in trigrams:\n",
    "    l = line.split()\n",
    "    if len(l) == 4:\n",
    "        if l[1] in trigram_dict:\n",
    "            trigram_dict[l[1]].append((l[2], l[3], l[0]))\n",
    "        else:\n",
    "            trigram_dict[l[1]] = [(l[2], l[3], l[0])]"
   ]
  },
  {
   "cell_type": "code",
   "execution_count": 202,
   "metadata": {},
   "outputs": [],
   "source": [
    "def bi_score(perm):\n",
    "    score = 0\n",
    "    for i in range(len(perm)-1):\n",
    "        for val in bigram_dict[perm[i]]:\n",
    "            if val[0] == perm[i+1]:\n",
    "                score += int(val[1])\n",
    "    return score"
   ]
  },
  {
   "cell_type": "code",
   "execution_count": 203,
   "metadata": {},
   "outputs": [],
   "source": [
    "def tri_score(perm):\n",
    "    score = 0\n",
    "    for i in range(len(perm)-2):\n",
    "        for val in trigram_dict[perm[i]]:\n",
    "            if val[0] == perm[i+1] and val[1] == perm[i+2]:\n",
    "                score += int(val[2])  \n",
    "    return score"
   ]
  },
  {
   "cell_type": "code",
   "execution_count": 224,
   "metadata": {},
   "outputs": [],
   "source": [
    "def best_perms(ps):\n",
    "    perms_len = len(ps)\n",
    "    scores = np.zeros(perms_len)\n",
    "    for i in range(perms_len):\n",
    "        scores[i] = bi_score(ps[i]) + tri_score(ps[i])\n",
    "    max_idxs = np.argsort(scores)[-10:][::-1]\n",
    "    for i in range(10):\n",
    "        print(ps[max_idxs[i]], scores[max_idxs[i]])"
   ]
  },
  {
   "cell_type": "code",
   "execution_count": 229,
   "metadata": {},
   "outputs": [
    {
     "name": "stdout",
     "output_type": "stream",
     "text": [
      "('judyta', 'dała', 'wczoraj', 'stefanowi', 'czekoladki') 2.0\n",
      "('czekoladki', 'dała', 'wczoraj', 'judyta', 'stefanowi') 2.0\n",
      "('stefanowi', 'judyta', 'czekoladki', 'dała', 'wczoraj') 2.0\n",
      "('stefanowi', 'judyta', 'dała', 'wczoraj', 'czekoladki') 2.0\n",
      "('stefanowi', 'czekoladki', 'judyta', 'dała', 'wczoraj') 2.0\n",
      "('stefanowi', 'czekoladki', 'dała', 'wczoraj', 'judyta') 2.0\n",
      "('dała', 'wczoraj', 'czekoladki', 'stefanowi', 'judyta') 2.0\n",
      "('czekoladki', 'judyta', 'dała', 'wczoraj', 'stefanowi') 2.0\n",
      "('dała', 'wczoraj', 'czekoladki', 'judyta', 'stefanowi') 2.0\n",
      "('dała', 'wczoraj', 'stefanowi', 'czekoladki', 'judyta') 2.0\n"
     ]
    }
   ],
   "source": [
    "best_perms(ps0)"
   ]
  },
  {
   "cell_type": "code",
   "execution_count": 230,
   "metadata": {},
   "outputs": [
    {
     "name": "stdout",
     "output_type": "stream",
     "text": [
      "('rogate', 'miała', 'dwa', 'koziołki', 'babuleńka') 184.0\n",
      "('miała', 'dwa', 'koziołki', 'rogate', 'babuleńka') 184.0\n",
      "('babuleńka', 'miała', 'dwa', 'koziołki', 'rogate') 184.0\n",
      "('miała', 'dwa', 'koziołki', 'babuleńka', 'rogate') 184.0\n",
      "('rogate', 'babuleńka', 'miała', 'dwa', 'koziołki') 184.0\n",
      "('babuleńka', 'rogate', 'miała', 'dwa', 'koziołki') 184.0\n",
      "('koziołki', 'miała', 'dwa', 'rogate', 'babuleńka') 183.0\n",
      "('miała', 'dwa', 'rogate', 'koziołki', 'babuleńka') 183.0\n",
      "('miała', 'dwa', 'rogate', 'babuleńka', 'koziołki') 183.0\n",
      "('babuleńka', 'koziołki', 'miała', 'dwa', 'rogate') 183.0\n"
     ]
    }
   ],
   "source": [
    "best_perms(ps1)"
   ]
  },
  {
   "cell_type": "code",
   "execution_count": 231,
   "metadata": {},
   "outputs": [
    {
     "name": "stdout",
     "output_type": "stream",
     "text": [
      "('pewną', 'piękną', 'kobietę', 'spotkałem', 'wczoraj', 'wieczorem') 455.0\n",
      "('spotkałem', 'wczoraj', 'wieczorem', 'pewną', 'piękną', 'kobietę') 455.0\n",
      "('spotkałem', 'pewną', 'piękną', 'kobietę', 'wczoraj', 'wieczorem') 454.0\n",
      "('wczoraj', 'wieczorem', 'spotkałem', 'pewną', 'piękną', 'kobietę') 454.0\n",
      "('pewną', 'piękną', 'kobietę', 'wczoraj', 'wieczorem', 'spotkałem') 453.0\n",
      "('wczoraj', 'wieczorem', 'pewną', 'piękną', 'kobietę', 'spotkałem') 453.0\n",
      "('spotkałem', 'wczoraj', 'wieczorem', 'piękną', 'kobietę', 'pewną') 449.0\n",
      "('spotkałem', 'piękną', 'kobietę', 'pewną', 'wczoraj', 'wieczorem') 449.0\n",
      "('spotkałem', 'piękną', 'kobietę', 'wczoraj', 'wieczorem', 'pewną') 449.0\n",
      "('wczoraj', 'wieczorem', 'spotkałem', 'piękną', 'kobietę', 'pewną') 449.0\n"
     ]
    }
   ],
   "source": [
    "best_perms(ps2)"
   ]
  },
  {
   "cell_type": "code",
   "execution_count": null,
   "metadata": {},
   "outputs": [],
   "source": []
  }
 ],
 "metadata": {
  "kernelspec": {
   "display_name": "Python 3",
   "language": "python",
   "name": "python3"
  },
  "language_info": {
   "codemirror_mode": {
    "name": "ipython",
    "version": 3
   },
   "file_extension": ".py",
   "mimetype": "text/x-python",
   "name": "python",
   "nbconvert_exporter": "python",
   "pygments_lexer": "ipython3",
   "version": "3.8.5"
  }
 },
 "nbformat": 4,
 "nbformat_minor": 4
}
